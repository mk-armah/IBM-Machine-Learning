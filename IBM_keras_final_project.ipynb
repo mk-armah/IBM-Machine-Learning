{
  "cells": [
    {
      "cell_type": "markdown",
      "metadata": {
        "id": "view-in-github",
        "colab_type": "text"
      },
      "source": [
        "<a href=\"https://colab.research.google.com/github/mk-armah/ibm-ai-engineering/blob/main/IBM_keras_final_project.ipynb\" target=\"_parent\"><img src=\"https://colab.research.google.com/assets/colab-badge.svg\" alt=\"Open In Colab\"/></a>"
      ]
    },
    {
      "cell_type": "markdown",
      "metadata": {
        "id": "IzbTvHsRPb78"
      },
      "source": [
        "<h1  align = 'center'> Instructions </h1>\n",
        "<hr/>"
      ]
    },
    {
      "cell_type": "markdown",
      "metadata": {
        "id": "nZvVa-RrO68G"
      },
      "source": [
        "A. Build a baseline model (5 marks) \n",
        "\n",
        "Use the Keras library to build a neural network with the following:\n",
        "\n",
        "- One hidden layer of 10 nodes, and a ReLU activation function\n",
        "\n",
        "- Use the adam optimizer and the mean squared error  as the loss function.\n",
        "\n",
        "1. Randomly split the data into a training and test sets by holding 30% of the data for testing. You can use the train_test_splithelper function from Scikit-learn.\n",
        "\n",
        "2. Train the model on the training data using 50 epochs.\n",
        "\n",
        "3. Evaluate the model on the test data and compute the mean squared error between the predicted concrete strength and the actual concrete strength. You can use the mean_squared_error function from Scikit-learn.\n",
        "\n",
        "4. Repeat steps 1 - 3, 50 times, i.e., create a list of 50 mean squared errors.\n",
        "\n",
        "5. Report the mean and the standard deviation of the mean squared errors.\n",
        "\n",
        "Submit your Jupyter Notebook with your code and comments.\n",
        "\n",
        "-------\n",
        "-------"
      ]
    },
    {
      "cell_type": "markdown",
      "metadata": {
        "id": "N3h-THL2QHYI"
      },
      "source": [
        "1. Assignment Topic:\n",
        "\n",
        "In this project, you will build a regression model using the Keras library to model the same data about concrete compressive strength that we used in labs 3.\n",
        "\n",
        "2. Concrete Data:\n",
        "\n",
        "For your convenience, the data can be found here again: https://cocl.us/concrete_data. To recap, the predictors in the data of concrete strength include:\n",
        "\n",
        "Cement\n",
        "\n",
        "Blast Furnace Slag\n",
        "\n",
        "Fly Ash\n",
        "\n",
        "Water\n",
        "\n",
        "Superplasticizer\n",
        "\n",
        "Coarse Aggregate\n",
        "\n",
        "Fine Aggregate"
      ]
    },
    {
      "cell_type": "code",
      "execution_count": null,
      "metadata": {
        "id": "sNT7BLeDPYWP"
      },
      "outputs": [],
      "source": [
        "import pandas as pd\n",
        "import numpy as np\n",
        "import tensorflow as tf\n",
        "seed = np.random.seed(42)"
      ]
    },
    {
      "cell_type": "code",
      "execution_count": null,
      "metadata": {
        "id": "yN65VV0fQhbu"
      },
      "outputs": [],
      "source": [
        "#read dataframe from the link provided ===> https://cocl.us/concrete_data\n",
        "df= pd.read_csv(\"https://cocl.us/concrete_data\")"
      ]
    },
    {
      "cell_type": "code",
      "execution_count": null,
      "metadata": {
        "colab": {
          "base_uri": "https://localhost:8080/",
          "height": 206
        },
        "id": "lyT4O4UIQlsu",
        "outputId": "c91e119b-395d-4354-fc75-59316ecad28b"
      },
      "outputs": [
        {
          "output_type": "execute_result",
          "data": {
            "text/plain": [
              "   Cement  Blast Furnace Slag  Fly Ash  Water  Superplasticizer  \\\n",
              "0   540.0                 0.0      0.0  162.0               2.5   \n",
              "1   540.0                 0.0      0.0  162.0               2.5   \n",
              "2   332.5               142.5      0.0  228.0               0.0   \n",
              "3   332.5               142.5      0.0  228.0               0.0   \n",
              "4   198.6               132.4      0.0  192.0               0.0   \n",
              "\n",
              "   Coarse Aggregate  Fine Aggregate  Age  Strength  \n",
              "0            1040.0           676.0   28     79.99  \n",
              "1            1055.0           676.0   28     61.89  \n",
              "2             932.0           594.0  270     40.27  \n",
              "3             932.0           594.0  365     41.05  \n",
              "4             978.4           825.5  360     44.30  "
            ],
            "text/html": [
              "\n",
              "  <div id=\"df-850ea43c-5469-47cc-963e-43147c65fe5d\">\n",
              "    <div class=\"colab-df-container\">\n",
              "      <div>\n",
              "<style scoped>\n",
              "    .dataframe tbody tr th:only-of-type {\n",
              "        vertical-align: middle;\n",
              "    }\n",
              "\n",
              "    .dataframe tbody tr th {\n",
              "        vertical-align: top;\n",
              "    }\n",
              "\n",
              "    .dataframe thead th {\n",
              "        text-align: right;\n",
              "    }\n",
              "</style>\n",
              "<table border=\"1\" class=\"dataframe\">\n",
              "  <thead>\n",
              "    <tr style=\"text-align: right;\">\n",
              "      <th></th>\n",
              "      <th>Cement</th>\n",
              "      <th>Blast Furnace Slag</th>\n",
              "      <th>Fly Ash</th>\n",
              "      <th>Water</th>\n",
              "      <th>Superplasticizer</th>\n",
              "      <th>Coarse Aggregate</th>\n",
              "      <th>Fine Aggregate</th>\n",
              "      <th>Age</th>\n",
              "      <th>Strength</th>\n",
              "    </tr>\n",
              "  </thead>\n",
              "  <tbody>\n",
              "    <tr>\n",
              "      <th>0</th>\n",
              "      <td>540.0</td>\n",
              "      <td>0.0</td>\n",
              "      <td>0.0</td>\n",
              "      <td>162.0</td>\n",
              "      <td>2.5</td>\n",
              "      <td>1040.0</td>\n",
              "      <td>676.0</td>\n",
              "      <td>28</td>\n",
              "      <td>79.99</td>\n",
              "    </tr>\n",
              "    <tr>\n",
              "      <th>1</th>\n",
              "      <td>540.0</td>\n",
              "      <td>0.0</td>\n",
              "      <td>0.0</td>\n",
              "      <td>162.0</td>\n",
              "      <td>2.5</td>\n",
              "      <td>1055.0</td>\n",
              "      <td>676.0</td>\n",
              "      <td>28</td>\n",
              "      <td>61.89</td>\n",
              "    </tr>\n",
              "    <tr>\n",
              "      <th>2</th>\n",
              "      <td>332.5</td>\n",
              "      <td>142.5</td>\n",
              "      <td>0.0</td>\n",
              "      <td>228.0</td>\n",
              "      <td>0.0</td>\n",
              "      <td>932.0</td>\n",
              "      <td>594.0</td>\n",
              "      <td>270</td>\n",
              "      <td>40.27</td>\n",
              "    </tr>\n",
              "    <tr>\n",
              "      <th>3</th>\n",
              "      <td>332.5</td>\n",
              "      <td>142.5</td>\n",
              "      <td>0.0</td>\n",
              "      <td>228.0</td>\n",
              "      <td>0.0</td>\n",
              "      <td>932.0</td>\n",
              "      <td>594.0</td>\n",
              "      <td>365</td>\n",
              "      <td>41.05</td>\n",
              "    </tr>\n",
              "    <tr>\n",
              "      <th>4</th>\n",
              "      <td>198.6</td>\n",
              "      <td>132.4</td>\n",
              "      <td>0.0</td>\n",
              "      <td>192.0</td>\n",
              "      <td>0.0</td>\n",
              "      <td>978.4</td>\n",
              "      <td>825.5</td>\n",
              "      <td>360</td>\n",
              "      <td>44.30</td>\n",
              "    </tr>\n",
              "  </tbody>\n",
              "</table>\n",
              "</div>\n",
              "      <button class=\"colab-df-convert\" onclick=\"convertToInteractive('df-850ea43c-5469-47cc-963e-43147c65fe5d')\"\n",
              "              title=\"Convert this dataframe to an interactive table.\"\n",
              "              style=\"display:none;\">\n",
              "        \n",
              "  <svg xmlns=\"http://www.w3.org/2000/svg\" height=\"24px\"viewBox=\"0 0 24 24\"\n",
              "       width=\"24px\">\n",
              "    <path d=\"M0 0h24v24H0V0z\" fill=\"none\"/>\n",
              "    <path d=\"M18.56 5.44l.94 2.06.94-2.06 2.06-.94-2.06-.94-.94-2.06-.94 2.06-2.06.94zm-11 1L8.5 8.5l.94-2.06 2.06-.94-2.06-.94L8.5 2.5l-.94 2.06-2.06.94zm10 10l.94 2.06.94-2.06 2.06-.94-2.06-.94-.94-2.06-.94 2.06-2.06.94z\"/><path d=\"M17.41 7.96l-1.37-1.37c-.4-.4-.92-.59-1.43-.59-.52 0-1.04.2-1.43.59L10.3 9.45l-7.72 7.72c-.78.78-.78 2.05 0 2.83L4 21.41c.39.39.9.59 1.41.59.51 0 1.02-.2 1.41-.59l7.78-7.78 2.81-2.81c.8-.78.8-2.07 0-2.86zM5.41 20L4 18.59l7.72-7.72 1.47 1.35L5.41 20z\"/>\n",
              "  </svg>\n",
              "      </button>\n",
              "      \n",
              "  <style>\n",
              "    .colab-df-container {\n",
              "      display:flex;\n",
              "      flex-wrap:wrap;\n",
              "      gap: 12px;\n",
              "    }\n",
              "\n",
              "    .colab-df-convert {\n",
              "      background-color: #E8F0FE;\n",
              "      border: none;\n",
              "      border-radius: 50%;\n",
              "      cursor: pointer;\n",
              "      display: none;\n",
              "      fill: #1967D2;\n",
              "      height: 32px;\n",
              "      padding: 0 0 0 0;\n",
              "      width: 32px;\n",
              "    }\n",
              "\n",
              "    .colab-df-convert:hover {\n",
              "      background-color: #E2EBFA;\n",
              "      box-shadow: 0px 1px 2px rgba(60, 64, 67, 0.3), 0px 1px 3px 1px rgba(60, 64, 67, 0.15);\n",
              "      fill: #174EA6;\n",
              "    }\n",
              "\n",
              "    [theme=dark] .colab-df-convert {\n",
              "      background-color: #3B4455;\n",
              "      fill: #D2E3FC;\n",
              "    }\n",
              "\n",
              "    [theme=dark] .colab-df-convert:hover {\n",
              "      background-color: #434B5C;\n",
              "      box-shadow: 0px 1px 3px 1px rgba(0, 0, 0, 0.15);\n",
              "      filter: drop-shadow(0px 1px 2px rgba(0, 0, 0, 0.3));\n",
              "      fill: #FFFFFF;\n",
              "    }\n",
              "  </style>\n",
              "\n",
              "      <script>\n",
              "        const buttonEl =\n",
              "          document.querySelector('#df-850ea43c-5469-47cc-963e-43147c65fe5d button.colab-df-convert');\n",
              "        buttonEl.style.display =\n",
              "          google.colab.kernel.accessAllowed ? 'block' : 'none';\n",
              "\n",
              "        async function convertToInteractive(key) {\n",
              "          const element = document.querySelector('#df-850ea43c-5469-47cc-963e-43147c65fe5d');\n",
              "          const dataTable =\n",
              "            await google.colab.kernel.invokeFunction('convertToInteractive',\n",
              "                                                     [key], {});\n",
              "          if (!dataTable) return;\n",
              "\n",
              "          const docLinkHtml = 'Like what you see? Visit the ' +\n",
              "            '<a target=\"_blank\" href=https://colab.research.google.com/notebooks/data_table.ipynb>data table notebook</a>'\n",
              "            + ' to learn more about interactive tables.';\n",
              "          element.innerHTML = '';\n",
              "          dataTable['output_type'] = 'display_data';\n",
              "          await google.colab.output.renderOutput(dataTable, element);\n",
              "          const docLink = document.createElement('div');\n",
              "          docLink.innerHTML = docLinkHtml;\n",
              "          element.appendChild(docLink);\n",
              "        }\n",
              "      </script>\n",
              "    </div>\n",
              "  </div>\n",
              "  "
            ]
          },
          "metadata": {},
          "execution_count": 3
        }
      ],
      "source": [
        "df.head()"
      ]
    },
    {
      "cell_type": "code",
      "execution_count": null,
      "metadata": {
        "colab": {
          "base_uri": "https://localhost:8080/"
        },
        "id": "PgOt0eG7Quat",
        "outputId": "286dd127-c871-4dc6-89d5-163ee523084c"
      },
      "outputs": [
        {
          "output_type": "execute_result",
          "data": {
            "text/plain": [
              "Cement                0\n",
              "Blast Furnace Slag    0\n",
              "Fly Ash               0\n",
              "Water                 0\n",
              "Superplasticizer      0\n",
              "Coarse Aggregate      0\n",
              "Fine Aggregate        0\n",
              "Age                   0\n",
              "Strength              0\n",
              "dtype: int64"
            ]
          },
          "metadata": {},
          "execution_count": 4
        }
      ],
      "source": [
        "#check for missing values\n",
        "df.isna().sum()"
      ]
    },
    {
      "cell_type": "code",
      "execution_count": null,
      "metadata": {
        "id": "ZCHE2rthQwp2"
      },
      "outputs": [],
      "source": [
        "#splitting the data in dependent and independent variables\n",
        "X = df.iloc[:,df.columns!=\"Strength\"]\n",
        "y = df.iloc[:,df.columns==\"Strength\"]"
      ]
    },
    {
      "cell_type": "code",
      "execution_count": null,
      "metadata": {
        "id": "oQkCNt8LRQ1N"
      },
      "outputs": [],
      "source": [
        "from sklearn.model_selection import train_test_split\n",
        "from sklearn.preprocessing import MinMaxScaler,StandardScaler\n",
        "from sklearn.metrics import mean_squared_error\n",
        "from tqdm import tqdm"
      ]
    },
    {
      "cell_type": "markdown",
      "source": [
        "# TASK A"
      ],
      "metadata": {
        "id": "VnPX12Fac5DQ"
      }
    },
    {
      "cell_type": "code",
      "execution_count": null,
      "metadata": {
        "id": "ub3HJcxPSuOz"
      },
      "outputs": [],
      "source": [
        "model_a = tf.keras.Sequential()\n",
        "model_a.add(tf.keras.layers.Input(shape = (8,)))\n",
        "model_a.add(tf.keras.layers.Dense(10,activation = 'relu'))\n",
        "model_a.add(tf.keras.layers.Dense(1))"
      ]
    },
    {
      "cell_type": "code",
      "execution_count": null,
      "metadata": {
        "id": "db6rYfbtoVur"
      },
      "outputs": [],
      "source": [
        "def custom_model(epochs,normalize = False,model = model_a):\n",
        "  \"\"\"this function returns the error_list of the model for each 50 or 100 epochs of the 50 iterations\"\"\"\n",
        "  model.compile(optimizer = 'adam',loss = 'mean_squared_error')\n",
        "  error_list = []\n",
        "  for i in tqdm(range(0,50)):\n",
        "    X_train, X_test, y_train, y_test = train_test_split(X,y,test_size = 0.3,random_state = i)\n",
        "    \n",
        "    if normalize:\n",
        "      scaler = StandardScaler()\n",
        "      X_train = scaler.fit_transform(X_train)\n",
        "      X_test = scaler.transform(X_test)\n",
        "\n",
        "\n",
        "    model.fit(X_train,y_train,epochs = epochs,verbose = 2)\n",
        "    y_pred = model.predict(X_test)\n",
        "\n",
        "    mse = mean_squared_error(y_test,y_pred)\n",
        "    error_list.append(mse)\n",
        "\n",
        "  return error_list"
      ]
    },
    {
      "cell_type": "code",
      "execution_count": null,
      "metadata": {
        "id": "6_1N_N27TXs2"
      },
      "outputs": [],
      "source": [
        ""
      ]
    },
    {
      "cell_type": "code",
      "execution_count": null,
      "metadata": {
        "id": "GXPD8mTYwJC4"
      },
      "outputs": [],
      "source": [
        "model_a_error_list = custom_model(epochs = 50,model = model_a,normalize = False)"
      ]
    },
    {
      "cell_type": "code",
      "execution_count": null,
      "metadata": {
        "id": "LUOiY5ISxArm",
        "colab": {
          "base_uri": "https://localhost:8080/"
        },
        "outputId": "240a98de-ea06-4f09-fcce-62d356e72761"
      },
      "outputs": [
        {
          "output_type": "stream",
          "name": "stdout",
          "text": [
            "Mean == > 54.04734031189736 \n",
            "Standard Deviation 12.57581857897893\n"
          ]
        }
      ],
      "source": [
        "print(\"Mean == >\",np.mean(model_a_error_list),\"\\nStandard Deviation\",np.std(model_a_error_list))"
      ]
    },
    {
      "cell_type": "markdown",
      "source": [
        "# TASK B"
      ],
      "metadata": {
        "id": "UlE41Cw8cxV9"
      }
    },
    {
      "cell_type": "markdown",
      "metadata": {
        "id": "Sd5aOAD7PH3x"
      },
      "source": [
        "<h1>B. Normalize the data (5 marks) </h1> \n",
        "\n",
        "Repeat Part A but use a normalized version of the data. Recall that one way to normalize the data is by subtracting the mean from the individual predictors and dividing by the standard deviation.\n",
        "\n",
        "How does the mean of the mean squared errors compare to that from Step A?\n",
        "\n",
        "---\n",
        "\n",
        "\n",
        "\n",
        "---"
      ]
    },
    {
      "cell_type": "code",
      "execution_count": null,
      "metadata": {
        "id": "2pWMkSemFwO3"
      },
      "outputs": [],
      "source": [
        "model_b = tf.keras.Sequential()\n",
        "model_b.add(tf.keras.layers.Input(shape = (8,)))\n",
        "model_b.add(tf.keras.layers.Dense(10,activation = 'relu'))\n",
        "model_b.add(tf.keras.layers.Dense(1))"
      ]
    },
    {
      "cell_type": "code",
      "execution_count": null,
      "metadata": {
        "id": "6-3FJwaZ9FVL"
      },
      "outputs": [],
      "source": [
        "model_b_error_list = custom_model(epochs = 50,normalize = True,model = model_b) #with Normalization "
      ]
    },
    {
      "cell_type": "code",
      "execution_count": null,
      "metadata": {
        "colab": {
          "base_uri": "https://localhost:8080/"
        },
        "id": "JbT8-uyV6rQR",
        "outputId": "50c5ac26-4d62-4707-f314-77bc91e132d9"
      },
      "outputs": [
        {
          "output_type": "stream",
          "name": "stdout",
          "text": [
            "Mean == > 53.11253409368045 \n",
            "Standard Deviation 80.62906253053815\n"
          ]
        }
      ],
      "source": [
        "print(\"Mean == >\",np.mean(model_b_error_list),\"\\nStandard Deviation\",np.std(model_b_error_list))"
      ]
    },
    {
      "cell_type": "code",
      "source": [
        "print(\"The Difference between Mean of Model A Error List\\nand the Mean of Model B Error List is >>> :\",np.mean(model_a_error_list) - np.mean(model_b_error_list))"
      ],
      "metadata": {
        "colab": {
          "base_uri": "https://localhost:8080/"
        },
        "id": "h8sLiafvUhyL",
        "outputId": "3cc4a2cc-28d0-4c00-c03f-6c9808237cf7"
      },
      "execution_count": null,
      "outputs": [
        {
          "output_type": "stream",
          "name": "stdout",
          "text": [
            "The Difference between Mean of Model A Error List\n",
            "and the Mean of Model B Error List is >>> : 0.9348062182169059\n"
          ]
        }
      ]
    },
    {
      "cell_type": "markdown",
      "source": [
        "# TASK C"
      ],
      "metadata": {
        "id": "owzc4aVccsu5"
      }
    },
    {
      "cell_type": "markdown",
      "metadata": {
        "id": "Cz364X-1PKAc"
      },
      "source": [
        "C. Increase the number of epochs (5 marks)\n",
        "\n",
        "Repeat Part B but use 100 epochs this time for training.\n",
        "\n",
        "How does the mean of the mean squared errors compare to that from Step B?:\n",
        "\n",
        "-------\n",
        "-------"
      ]
    },
    {
      "cell_type": "code",
      "execution_count": null,
      "metadata": {
        "id": "MSDnXuvxGA_N"
      },
      "outputs": [],
      "source": [
        "model_c = tf.keras.Sequential()\n",
        "model_c.add(tf.keras.layers.Input(shape = (8,)))\n",
        "model_c.add(tf.keras.layers.Dense(10,activation = 'relu'))\n",
        "model_c.add(tf.keras.layers.Dense(1))"
      ]
    },
    {
      "cell_type": "code",
      "execution_count": null,
      "metadata": {
        "id": "iTKZ4KUa9RCD"
      },
      "outputs": [],
      "source": [
        "model_c_error_list = custom_model(epochs = 100,normalize = True,model = model_c) #num of epochs increase to 100, normalization applied"
      ]
    },
    {
      "cell_type": "code",
      "execution_count": null,
      "metadata": {
        "colab": {
          "base_uri": "https://localhost:8080/"
        },
        "id": "XAxn57B19RFz",
        "outputId": "456569ee-a9b4-48a0-88c1-dd6802bbce7c"
      },
      "outputs": [
        {
          "output_type": "stream",
          "name": "stdout",
          "text": [
            "Mean == > 36.66682776901993 \n",
            "Standard Deviation 20.864941422069638\n"
          ]
        }
      ],
      "source": [
        "print(\"Mean == >\",np.mean(model_c_error_list),\"\\nStandard Deviation\",np.std(model_c_error_list))"
      ]
    },
    {
      "cell_type": "code",
      "source": [
        "print(\"The Difference between Mean of Model B Error List\\nand the Mean of Model C Error List is >>> :\",np.mean(model_b_error_list) - np.mean(model_c_error_list))"
      ],
      "metadata": {
        "colab": {
          "base_uri": "https://localhost:8080/"
        },
        "id": "joklk5cJW0tt",
        "outputId": "f74d08cd-c345-413f-b07f-c0c1c960b878"
      },
      "execution_count": null,
      "outputs": [
        {
          "output_type": "stream",
          "name": "stdout",
          "text": [
            "The Difference between Mean of Model B Error List\n",
            "and the Mean of Model C Error List is >>> : 16.44570632466052\n"
          ]
        }
      ]
    },
    {
      "cell_type": "markdown",
      "source": [
        "# TASK D"
      ],
      "metadata": {
        "id": "1B6mY925ci36"
      }
    },
    {
      "cell_type": "markdown",
      "metadata": {
        "id": "W19WelwtPXBf"
      },
      "source": [
        "D. Increase the number of hidden layers (5 marks)\n",
        "\n",
        "Repeat part B but use a neural network with the following instead:\n",
        "\n",
        "- Three hidden layers, each of 10 nodes and ReLU activation function.\n",
        "\n",
        "How does the mean of the mean squared errors compare to that from Step B?\n",
        "\n",
        "-------\n",
        "-------"
      ]
    },
    {
      "cell_type": "code",
      "execution_count": null,
      "metadata": {
        "id": "cInwMzwnA39A",
        "colab": {
          "base_uri": "https://localhost:8080/"
        },
        "outputId": "48c92f34-3fab-4292-baad-0bf737af3918"
      },
      "outputs": [
        {
          "output_type": "stream",
          "name": "stdout",
          "text": [
            "Model: \"sequential_3\"\n",
            "_________________________________________________________________\n",
            " Layer (type)                Output Shape              Param #   \n",
            "=================================================================\n",
            " dense_6 (Dense)             (None, 10)                90        \n",
            "                                                                 \n",
            " dense_7 (Dense)             (None, 10)                110       \n",
            "                                                                 \n",
            " dense_8 (Dense)             (None, 1)                 11        \n",
            "                                                                 \n",
            "=================================================================\n",
            "Total params: 211\n",
            "Trainable params: 211\n",
            "Non-trainable params: 0\n",
            "_________________________________________________________________\n"
          ]
        }
      ],
      "source": [
        "model_d = tf.keras.Sequential()\n",
        "\n",
        "model_d.add(tf.keras.layers.Dense(10,activation = 'relu',input_shape = (8,)))\n",
        "model_d.add(tf.keras.layers.Dense(10,activation = \"relu\"))\n",
        "model_d.add(tf.keras.layers.Dense(1))\n",
        "\n",
        "model_d.summary()"
      ]
    },
    {
      "cell_type": "code",
      "execution_count": null,
      "metadata": {
        "id": "11f9szWIB-1x"
      },
      "outputs": [],
      "source": [
        "model_d_error_list = custom_model(epochs = 50,normalize = True,model = model_d)"
      ]
    },
    {
      "cell_type": "code",
      "execution_count": null,
      "metadata": {
        "id": "RFTYrvs6HWpZ",
        "colab": {
          "base_uri": "https://localhost:8080/"
        },
        "outputId": "8d6ed3ab-e377-4c50-823b-5e557b360013"
      },
      "outputs": [
        {
          "output_type": "stream",
          "name": "stdout",
          "text": [
            "Mean == > 35.452589116715785 \n",
            "Standard Deviation 17.291733369854516\n"
          ]
        }
      ],
      "source": [
        "print(\"Mean == >\",np.mean(model_d_error_list),\"\\nStandard Deviation\",np.std(model_d_error_list))"
      ]
    },
    {
      "cell_type": "code",
      "source": [
        "print(\"The Difference between Mean of Model B Error List\\nand to the Mean of Model D Error List is >>> :\",np.mean(model_b_error_list) - np.mean(model_d_error_list))"
      ],
      "metadata": {
        "colab": {
          "base_uri": "https://localhost:8080/"
        },
        "id": "_Se76ErEXlOO",
        "outputId": "51bc94ee-d8e5-4887-eafa-f8177603a6eb"
      },
      "execution_count": null,
      "outputs": [
        {
          "output_type": "stream",
          "name": "stdout",
          "text": [
            "The Difference between Mean of Model B Error List\n",
            "and to the Mean of Model D Error List is >>> : 17.659944976964667\n"
          ]
        }
      ]
    },
    {
      "cell_type": "code",
      "source": [
        ""
      ],
      "metadata": {
        "id": "cJn6Fd2fXqzc"
      },
      "execution_count": null,
      "outputs": []
    }
  ],
  "metadata": {
    "colab": {
      "collapsed_sections": [],
      "name": "IBM keras final project",
      "provenance": [],
      "authorship_tag": "ABX9TyMiGL3DamkHxdYPamHGQugK",
      "include_colab_link": true
    },
    "kernelspec": {
      "display_name": "Python 3",
      "name": "python3"
    },
    "language_info": {
      "name": "python"
    }
  },
  "nbformat": 4,
  "nbformat_minor": 0
}
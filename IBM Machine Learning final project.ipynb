{
    "cells": [
        {
            "cell_type": "markdown",
            "metadata": {
                "button": false,
                "new_sheet": false,
                "run_control": {
                    "read_only": false
                }
            },
            "source": "<center>\n    <img src=\"https://cf-courses-data.s3.us.cloud-object-storage.appdomain.cloud/IBMDeveloperSkillsNetwork-ML0101EN-SkillsNetwork/labs/FinalModule_Coursera/images/IDSNlogo.png\" width=\"300\" alt=\"cognitiveclass.ai logo\"  />\n</center>\n\n<h1 align=\"center\"><font size=\"5\">Classification with Python</font></h1>\n"
        },
        {
            "cell_type": "markdown",
            "metadata": {
                "button": false,
                "new_sheet": false,
                "run_control": {
                    "read_only": false
                }
            },
            "source": "In this notebook we try to practice all the classification algorithms that we have learned in this course.\n\nWe load a dataset using Pandas library, and apply the following algorithms, and find the best one for this specific dataset by accuracy evaluation methods.\n\nLet's first load required libraries:\n"
        },
        {
            "cell_type": "code",
            "execution_count": 1,
            "metadata": {
                "button": false,
                "new_sheet": false,
                "run_control": {
                    "read_only": false
                }
            },
            "outputs": [
                {
                    "name": "stdout",
                    "output_type": "stream",
                    "text": "Requirement already satisfied: imbalanced-learn in /opt/conda/envs/Python-3.8-main/lib/python3.8/site-packages (0.8.1)\nRequirement already satisfied: joblib>=0.11 in /opt/conda/envs/Python-3.8-main/lib/python3.8/site-packages (from imbalanced-learn) (0.17.0)\nRequirement already satisfied: numpy>=1.13.3 in /opt/conda/envs/Python-3.8-main/lib/python3.8/site-packages (from imbalanced-learn) (1.19.2)\nRequirement already satisfied: scipy>=0.19.1 in /opt/conda/envs/Python-3.8-main/lib/python3.8/site-packages (from imbalanced-learn) (1.4.1)\nRequirement already satisfied: scikit-learn>=0.24 in /opt/conda/envs/Python-3.8-main/lib/python3.8/site-packages (from imbalanced-learn) (1.0.1)\nRequirement already satisfied: threadpoolctl>=2.0.0 in /opt/conda/envs/Python-3.8-main/lib/python3.8/site-packages (from scikit-learn>=0.24->imbalanced-learn) (2.1.0)\n"
                }
            ],
            "source": "import itertools\nimport numpy as np\nimport matplotlib.pyplot as plt\nfrom matplotlib.ticker import NullFormatter\nimport pandas as pd\nimport numpy as np\nimport matplotlib.ticker as ticker\nfrom sklearn import preprocessing\n! pip install imbalanced-learn\n%matplotlib inline"
        },
        {
            "cell_type": "code",
            "execution_count": null,
            "metadata": {},
            "outputs": [],
            "source": ""
        },
        {
            "cell_type": "markdown",
            "metadata": {
                "button": false,
                "new_sheet": false,
                "run_control": {
                    "read_only": false
                }
            },
            "source": "### About dataset\n"
        },
        {
            "cell_type": "markdown",
            "metadata": {
                "button": false,
                "new_sheet": false,
                "run_control": {
                    "read_only": false
                }
            },
            "source": "This dataset is about past loans. The **Loan_train.csv** data set includes details of 346 customers whose loan are already paid off or defaulted. It includes following fields:\n\n| Field          | Description                                                                           |\n| -------------- | ------------------------------------------------------------------------------------- |\n| Loan_status    | Whether a loan is paid off or in collection                                           |\n| Principal      | Basic principal loan amount at the                                                    |\n| Terms          | Origination terms which can be weekly (7 days), biweekly, and monthly payoff schedule |\n| Effective_date | When the loan got originated and took effects                                         |\n| Due_date       | Since it\u2019s one-time payoff schedule, each loan has one single due date                |\n| Age            | Age of applicant                                                                      |\n| Education      | Education of applicant                                                                |\n| Gender         | The gender of applicant                                                               |\n"
        },
        {
            "cell_type": "markdown",
            "metadata": {
                "button": false,
                "new_sheet": false,
                "run_control": {
                    "read_only": false
                }
            },
            "source": "Let's download the dataset\n"
        },
        {
            "cell_type": "code",
            "execution_count": 2,
            "metadata": {
                "button": false,
                "new_sheet": false,
                "run_control": {
                    "read_only": false
                },
                "scrolled": true
            },
            "outputs": [
                {
                    "name": "stdout",
                    "output_type": "stream",
                    "text": "--2021-10-26 21:39:05--  https://cf-courses-data.s3.us.cloud-object-storage.appdomain.cloud/IBMDeveloperSkillsNetwork-ML0101EN-SkillsNetwork/labs/FinalModule_Coursera/data/loan_train.csv\nResolving cf-courses-data.s3.us.cloud-object-storage.appdomain.cloud (cf-courses-data.s3.us.cloud-object-storage.appdomain.cloud)... 169.63.118.104\nConnecting to cf-courses-data.s3.us.cloud-object-storage.appdomain.cloud (cf-courses-data.s3.us.cloud-object-storage.appdomain.cloud)|169.63.118.104|:443... connected.\nHTTP request sent, awaiting response... 200 OK\nLength: 23101 (23K) [text/csv]\nSaving to: \u2018loan_train.csv\u2019\n\nloan_train.csv      100%[===================>]  22.56K  --.-KB/s    in 0s      \n\n2021-10-26 21:39:06 (100 MB/s) - \u2018loan_train.csv\u2019 saved [23101/23101]\n\n"
                }
            ],
            "source": "!wget -O loan_train.csv https://cf-courses-data.s3.us.cloud-object-storage.appdomain.cloud/IBMDeveloperSkillsNetwork-ML0101EN-SkillsNetwork/labs/FinalModule_Coursera/data/loan_train.csv"
        },
        {
            "cell_type": "markdown",
            "metadata": {
                "button": false,
                "new_sheet": false,
                "run_control": {
                    "read_only": false
                }
            },
            "source": "### Load Data From CSV File\n"
        },
        {
            "cell_type": "code",
            "execution_count": 3,
            "metadata": {
                "button": false,
                "new_sheet": false,
                "run_control": {
                    "read_only": false
                }
            },
            "outputs": [
                {
                    "data": {
                        "text/html": "<div>\n<style scoped>\n    .dataframe tbody tr th:only-of-type {\n        vertical-align: middle;\n    }\n\n    .dataframe tbody tr th {\n        vertical-align: top;\n    }\n\n    .dataframe thead th {\n        text-align: right;\n    }\n</style>\n<table border=\"1\" class=\"dataframe\">\n  <thead>\n    <tr style=\"text-align: right;\">\n      <th></th>\n      <th>Unnamed: 0</th>\n      <th>Unnamed: 0.1</th>\n      <th>loan_status</th>\n      <th>Principal</th>\n      <th>terms</th>\n      <th>effective_date</th>\n      <th>due_date</th>\n      <th>age</th>\n      <th>education</th>\n      <th>Gender</th>\n    </tr>\n  </thead>\n  <tbody>\n    <tr>\n      <th>0</th>\n      <td>0</td>\n      <td>0</td>\n      <td>PAIDOFF</td>\n      <td>1000</td>\n      <td>30</td>\n      <td>9/8/2016</td>\n      <td>10/7/2016</td>\n      <td>45</td>\n      <td>High School or Below</td>\n      <td>male</td>\n    </tr>\n    <tr>\n      <th>1</th>\n      <td>2</td>\n      <td>2</td>\n      <td>PAIDOFF</td>\n      <td>1000</td>\n      <td>30</td>\n      <td>9/8/2016</td>\n      <td>10/7/2016</td>\n      <td>33</td>\n      <td>Bechalor</td>\n      <td>female</td>\n    </tr>\n    <tr>\n      <th>2</th>\n      <td>3</td>\n      <td>3</td>\n      <td>PAIDOFF</td>\n      <td>1000</td>\n      <td>15</td>\n      <td>9/8/2016</td>\n      <td>9/22/2016</td>\n      <td>27</td>\n      <td>college</td>\n      <td>male</td>\n    </tr>\n    <tr>\n      <th>3</th>\n      <td>4</td>\n      <td>4</td>\n      <td>PAIDOFF</td>\n      <td>1000</td>\n      <td>30</td>\n      <td>9/9/2016</td>\n      <td>10/8/2016</td>\n      <td>28</td>\n      <td>college</td>\n      <td>female</td>\n    </tr>\n    <tr>\n      <th>4</th>\n      <td>6</td>\n      <td>6</td>\n      <td>PAIDOFF</td>\n      <td>1000</td>\n      <td>30</td>\n      <td>9/9/2016</td>\n      <td>10/8/2016</td>\n      <td>29</td>\n      <td>college</td>\n      <td>male</td>\n    </tr>\n  </tbody>\n</table>\n</div>",
                        "text/plain": "   Unnamed: 0  Unnamed: 0.1 loan_status  Principal  terms effective_date  \\\n0           0             0     PAIDOFF       1000     30       9/8/2016   \n1           2             2     PAIDOFF       1000     30       9/8/2016   \n2           3             3     PAIDOFF       1000     15       9/8/2016   \n3           4             4     PAIDOFF       1000     30       9/9/2016   \n4           6             6     PAIDOFF       1000     30       9/9/2016   \n\n    due_date  age             education  Gender  \n0  10/7/2016   45  High School or Below    male  \n1  10/7/2016   33              Bechalor  female  \n2  9/22/2016   27               college    male  \n3  10/8/2016   28               college  female  \n4  10/8/2016   29               college    male  "
                    },
                    "execution_count": 3,
                    "metadata": {},
                    "output_type": "execute_result"
                }
            ],
            "source": "df = pd.read_csv('loan_train.csv')\ndf.head()"
        },
        {
            "cell_type": "code",
            "execution_count": 4,
            "metadata": {},
            "outputs": [
                {
                    "data": {
                        "text/plain": "(346, 10)"
                    },
                    "execution_count": 4,
                    "metadata": {},
                    "output_type": "execute_result"
                }
            ],
            "source": "df.shape"
        },
        {
            "cell_type": "markdown",
            "metadata": {
                "button": false,
                "new_sheet": false,
                "run_control": {
                    "read_only": false
                }
            },
            "source": "### Convert to date time object\n"
        },
        {
            "cell_type": "code",
            "execution_count": 5,
            "metadata": {
                "button": false,
                "new_sheet": false,
                "run_control": {
                    "read_only": false
                }
            },
            "outputs": [
                {
                    "data": {
                        "text/html": "<div>\n<style scoped>\n    .dataframe tbody tr th:only-of-type {\n        vertical-align: middle;\n    }\n\n    .dataframe tbody tr th {\n        vertical-align: top;\n    }\n\n    .dataframe thead th {\n        text-align: right;\n    }\n</style>\n<table border=\"1\" class=\"dataframe\">\n  <thead>\n    <tr style=\"text-align: right;\">\n      <th></th>\n      <th>Unnamed: 0</th>\n      <th>Unnamed: 0.1</th>\n      <th>loan_status</th>\n      <th>Principal</th>\n      <th>terms</th>\n      <th>effective_date</th>\n      <th>due_date</th>\n      <th>age</th>\n      <th>education</th>\n      <th>Gender</th>\n    </tr>\n  </thead>\n  <tbody>\n    <tr>\n      <th>0</th>\n      <td>0</td>\n      <td>0</td>\n      <td>PAIDOFF</td>\n      <td>1000</td>\n      <td>30</td>\n      <td>2016-09-08</td>\n      <td>2016-10-07</td>\n      <td>45</td>\n      <td>High School or Below</td>\n      <td>male</td>\n    </tr>\n    <tr>\n      <th>1</th>\n      <td>2</td>\n      <td>2</td>\n      <td>PAIDOFF</td>\n      <td>1000</td>\n      <td>30</td>\n      <td>2016-09-08</td>\n      <td>2016-10-07</td>\n      <td>33</td>\n      <td>Bechalor</td>\n      <td>female</td>\n    </tr>\n    <tr>\n      <th>2</th>\n      <td>3</td>\n      <td>3</td>\n      <td>PAIDOFF</td>\n      <td>1000</td>\n      <td>15</td>\n      <td>2016-09-08</td>\n      <td>2016-09-22</td>\n      <td>27</td>\n      <td>college</td>\n      <td>male</td>\n    </tr>\n    <tr>\n      <th>3</th>\n      <td>4</td>\n      <td>4</td>\n      <td>PAIDOFF</td>\n      <td>1000</td>\n      <td>30</td>\n      <td>2016-09-09</td>\n      <td>2016-10-08</td>\n      <td>28</td>\n      <td>college</td>\n      <td>female</td>\n    </tr>\n    <tr>\n      <th>4</th>\n      <td>6</td>\n      <td>6</td>\n      <td>PAIDOFF</td>\n      <td>1000</td>\n      <td>30</td>\n      <td>2016-09-09</td>\n      <td>2016-10-08</td>\n      <td>29</td>\n      <td>college</td>\n      <td>male</td>\n    </tr>\n  </tbody>\n</table>\n</div>",
                        "text/plain": "   Unnamed: 0  Unnamed: 0.1 loan_status  Principal  terms effective_date  \\\n0           0             0     PAIDOFF       1000     30     2016-09-08   \n1           2             2     PAIDOFF       1000     30     2016-09-08   \n2           3             3     PAIDOFF       1000     15     2016-09-08   \n3           4             4     PAIDOFF       1000     30     2016-09-09   \n4           6             6     PAIDOFF       1000     30     2016-09-09   \n\n    due_date  age             education  Gender  \n0 2016-10-07   45  High School or Below    male  \n1 2016-10-07   33              Bechalor  female  \n2 2016-09-22   27               college    male  \n3 2016-10-08   28               college  female  \n4 2016-10-08   29               college    male  "
                    },
                    "execution_count": 5,
                    "metadata": {},
                    "output_type": "execute_result"
                }
            ],
            "source": "df['due_date'] = pd.to_datetime(df['due_date'])\ndf['effective_date'] = pd.to_datetime(df['effective_date'])\ndf.head()"
        },
        {
            "cell_type": "markdown",
            "metadata": {
                "button": false,
                "new_sheet": false,
                "run_control": {
                    "read_only": false
                }
            },
            "source": "# Data visualization and pre-processing\n"
        },
        {
            "cell_type": "markdown",
            "metadata": {
                "button": false,
                "new_sheet": false,
                "run_control": {
                    "read_only": false
                }
            },
            "source": "Let\u2019s see how many of each class is in our data set\n"
        },
        {
            "cell_type": "code",
            "execution_count": 6,
            "metadata": {
                "button": false,
                "new_sheet": false,
                "run_control": {
                    "read_only": false
                }
            },
            "outputs": [
                {
                    "data": {
                        "text/plain": "PAIDOFF       260\nCOLLECTION     86\nName: loan_status, dtype: int64"
                    },
                    "execution_count": 6,
                    "metadata": {},
                    "output_type": "execute_result"
                }
            ],
            "source": "df['loan_status'].value_counts()"
        },
        {
            "cell_type": "markdown",
            "metadata": {
                "button": false,
                "new_sheet": false,
                "run_control": {
                    "read_only": false
                }
            },
            "source": "260 people have paid off the loan on time while 86 have gone into collection\n"
        },
        {
            "cell_type": "markdown",
            "metadata": {},
            "source": "Let's plot some columns to underestand data better:\n"
        },
        {
            "cell_type": "code",
            "execution_count": 7,
            "metadata": {},
            "outputs": [
                {
                    "name": "stdout",
                    "output_type": "stream",
                    "text": "Collecting package metadata (current_repodata.json): done\nSolving environment: done\n\n# All requested packages already installed.\n\n"
                }
            ],
            "source": "# notice: installing seaborn might takes a few minutes\n!conda install -c anaconda seaborn -y"
        },
        {
            "cell_type": "code",
            "execution_count": 8,
            "metadata": {},
            "outputs": [
                {
                    "data": {
                        "image/png": "[encoded data removed]",
                        "text/plain": "<Figure size 432x216 with 2 Axes>"
                    },
                    "metadata": {
                        "needs_background": "light"
                    },
                    "output_type": "display_data"
                }
            ],
            "source": "import seaborn as sns\n\nbins = np.linspace(df.Principal.min(), df.Principal.max(), 10)\ng = sns.FacetGrid(df, col=\"Gender\", hue=\"loan_status\", palette=\"Set1\", col_wrap=2)\ng.map(plt.hist, 'Principal', bins=bins, ec=\"k\")\n\ng.axes[-1].legend()\nplt.show()"
        },
        {
            "cell_type": "code",
            "execution_count": 9,
            "metadata": {},
            "outputs": [
                {
                    "data": {
                        "text/plain": "<AxesSubplot:>"
                    },
                    "execution_count": 9,
                    "metadata": {},
                    "output_type": "execute_result"
                },
                {
                    "data": {
                        "image/png": "[encoded data removed]",
                        "text/plain": "<Figure size 432x288 with 1 Axes>"
                    },
                    "metadata": {
                        "needs_background": "light"
                    },
                    "output_type": "display_data"
                }
            ],
            "source": "sns.set_palette('RdBu_r')\ndf.age.value_counts().plot(kind = 'bar')"
        },
        {
            "cell_type": "code",
            "execution_count": 10,
            "metadata": {
                "button": false,
                "new_sheet": false,
                "run_control": {
                    "read_only": false
                }
            },
            "outputs": [
                {
                    "data": {
                        "image/png": "[encoded data removed]",
                        "text/plain": "<Figure size 432x216 with 2 Axes>"
                    },
                    "metadata": {
                        "needs_background": "light"
                    },
                    "output_type": "display_data"
                }
            ],
            "source": "bins = np.linspace(df.age.min(), df.age.max(), 10)\ng = sns.FacetGrid(df, col=\"Gender\", hue=\"loan_status\", palette=\"Set1\", col_wrap=2)\ng.map(plt.hist, 'age', bins=bins, ec=\"k\")\n\ng.axes[-1].legend()\nplt.show()"
        },
        {
            "cell_type": "code",
            "execution_count": 11,
            "metadata": {},
            "outputs": [
                {
                    "data": {
                        "text/plain": "<matplotlib.legend.Legend at 0x7ff24e67ecd0>"
                    },
                    "execution_count": 11,
                    "metadata": {},
                    "output_type": "execute_result"
                },
                {
                    "data": {
                        "image/png": "[encoded data removed]",
                        "text/plain": "<Figure size 432x216 with 2 Axes>"
                    },
                    "metadata": {
                        "needs_background": "light"
                    },
                    "output_type": "display_data"
                }
            ],
            "source": "df.head()\nbins = np.linspace(df['terms'].min(),df['terms'].max(),10)\ng = sns.FacetGrid(df,col = 'Gender',hue = 'loan_status',palette ='Set1')\ng.map(plt.hist,'terms',bins = bins,ec = 'k')\nplt.legend()"
        },
        {
            "cell_type": "markdown",
            "metadata": {
                "button": false,
                "new_sheet": false,
                "run_control": {
                    "read_only": false
                }
            },
            "source": "# Pre-processing:  Feature selection/extraction\n"
        },
        {
            "cell_type": "markdown",
            "metadata": {
                "button": false,
                "new_sheet": false,
                "run_control": {
                    "read_only": false
                }
            },
            "source": "### Let's look at the day of the week people get the loan\n"
        },
        {
            "cell_type": "code",
            "execution_count": 12,
            "metadata": {
                "button": false,
                "new_sheet": false,
                "run_control": {
                    "read_only": false
                }
            },
            "outputs": [
                {
                    "data": {
                        "image/png": "[encoded data removed]",
                        "text/plain": "<Figure size 432x216 with 2 Axes>"
                    },
                    "metadata": {
                        "needs_background": "light"
                    },
                    "output_type": "display_data"
                }
            ],
            "source": "df['dayofweek'] = df['effective_date'].dt.dayofweek\nbins = np.linspace(df.dayofweek.min(), df.dayofweek.max(), 10)\ng = sns.FacetGrid(df, col=\"Gender\", hue=\"loan_status\", palette=\"Set1\", col_wrap=2)\ng.map(plt.hist, 'dayofweek', bins=bins, ec=\"k\")\ng.axes[-1].legend()\nplt.show()\n"
        },
        {
            "cell_type": "markdown",
            "metadata": {
                "button": false,
                "new_sheet": false,
                "run_control": {
                    "read_only": false
                }
            },
            "source": "We see that people who get the loan at the end of the week don't pay it off, so let's use Feature binarization to set a threshold value less than day 4\n"
        },
        {
            "cell_type": "code",
            "execution_count": 13,
            "metadata": {
                "button": false,
                "new_sheet": false,
                "run_control": {
                    "read_only": false
                }
            },
            "outputs": [
                {
                    "data": {
                        "text/html": "<div>\n<style scoped>\n    .dataframe tbody tr th:only-of-type {\n        vertical-align: middle;\n    }\n\n    .dataframe tbody tr th {\n        vertical-align: top;\n    }\n\n    .dataframe thead th {\n        text-align: right;\n    }\n</style>\n<table border=\"1\" class=\"dataframe\">\n  <thead>\n    <tr style=\"text-align: right;\">\n      <th></th>\n      <th>Unnamed: 0</th>\n      <th>Unnamed: 0.1</th>\n      <th>loan_status</th>\n      <th>Principal</th>\n      <th>terms</th>\n      <th>effective_date</th>\n      <th>due_date</th>\n      <th>age</th>\n      <th>education</th>\n      <th>Gender</th>\n      <th>dayofweek</th>\n      <th>weekend</th>\n    </tr>\n  </thead>\n  <tbody>\n    <tr>\n      <th>0</th>\n      <td>0</td>\n      <td>0</td>\n      <td>PAIDOFF</td>\n      <td>1000</td>\n      <td>30</td>\n      <td>2016-09-08</td>\n      <td>2016-10-07</td>\n      <td>45</td>\n      <td>High School or Below</td>\n      <td>male</td>\n      <td>3</td>\n      <td>0</td>\n    </tr>\n    <tr>\n      <th>1</th>\n      <td>2</td>\n      <td>2</td>\n      <td>PAIDOFF</td>\n      <td>1000</td>\n      <td>30</td>\n      <td>2016-09-08</td>\n      <td>2016-10-07</td>\n      <td>33</td>\n      <td>Bechalor</td>\n      <td>female</td>\n      <td>3</td>\n      <td>0</td>\n    </tr>\n    <tr>\n      <th>2</th>\n      <td>3</td>\n      <td>3</td>\n      <td>PAIDOFF</td>\n      <td>1000</td>\n      <td>15</td>\n      <td>2016-09-08</td>\n      <td>2016-09-22</td>\n      <td>27</td>\n      <td>college</td>\n      <td>male</td>\n      <td>3</td>\n      <td>0</td>\n    </tr>\n    <tr>\n      <th>3</th>\n      <td>4</td>\n      <td>4</td>\n      <td>PAIDOFF</td>\n      <td>1000</td>\n      <td>30</td>\n      <td>2016-09-09</td>\n      <td>2016-10-08</td>\n      <td>28</td>\n      <td>college</td>\n      <td>female</td>\n      <td>4</td>\n      <td>1</td>\n    </tr>\n    <tr>\n      <th>4</th>\n      <td>6</td>\n      <td>6</td>\n      <td>PAIDOFF</td>\n      <td>1000</td>\n      <td>30</td>\n      <td>2016-09-09</td>\n      <td>2016-10-08</td>\n      <td>29</td>\n      <td>college</td>\n      <td>male</td>\n      <td>4</td>\n      <td>1</td>\n    </tr>\n  </tbody>\n</table>\n</div>",
                        "text/plain": "   Unnamed: 0  Unnamed: 0.1 loan_status  Principal  terms effective_date  \\\n0           0             0     PAIDOFF       1000     30     2016-09-08   \n1           2             2     PAIDOFF       1000     30     2016-09-08   \n2           3             3     PAIDOFF       1000     15     2016-09-08   \n3           4             4     PAIDOFF       1000     30     2016-09-09   \n4           6             6     PAIDOFF       1000     30     2016-09-09   \n\n    due_date  age             education  Gender  dayofweek  weekend  \n0 2016-10-07   45  High School or Below    male          3        0  \n1 2016-10-07   33              Bechalor  female          3        0  \n2 2016-09-22   27               college    male          3        0  \n3 2016-10-08   28               college  female          4        1  \n4 2016-10-08   29               college    male          4        1  "
                    },
                    "execution_count": 13,
                    "metadata": {},
                    "output_type": "execute_result"
                }
            ],
            "source": "df['weekend'] = df['dayofweek'].apply(lambda x: 1 if (x>3)  else 0)\ndf.head()"
        },
        {
            "cell_type": "markdown",
            "metadata": {
                "button": false,
                "new_sheet": false,
                "run_control": {
                    "read_only": false
                }
            },
            "source": "## Convert Categorical features to numerical values\n"
        },
        {
            "cell_type": "markdown",
            "metadata": {
                "button": false,
                "new_sheet": false,
                "run_control": {
                    "read_only": false
                }
            },
            "source": "Let's look at gender:"
        },
        {
            "cell_type": "code",
            "execution_count": 14,
            "metadata": {
                "button": false,
                "new_sheet": false,
                "run_control": {
                    "read_only": false
                }
            },
            "outputs": [
                {
                    "data": {
                        "text/plain": "Gender  loan_status\nfemale  PAIDOFF        0.865385\n        COLLECTION     0.134615\nmale    PAIDOFF        0.731293\n        COLLECTION     0.268707\nName: loan_status, dtype: float64"
                    },
                    "execution_count": 14,
                    "metadata": {},
                    "output_type": "execute_result"
                }
            ],
            "source": "df.groupby(['Gender'])['loan_status'].value_counts(normalize=True)"
        },
        {
            "cell_type": "markdown",
            "metadata": {
                "button": false,
                "new_sheet": false,
                "run_control": {
                    "read_only": false
                }
            },
            "source": "86 % of females pay their loans while only 73 % of males pay their loan\n"
        },
        {
            "cell_type": "markdown",
            "metadata": {
                "button": false,
                "new_sheet": false,
                "run_control": {
                    "read_only": false
                }
            },
            "source": "Let's convert male to 0 and female to 1:\n"
        },
        {
            "cell_type": "code",
            "execution_count": 15,
            "metadata": {
                "button": false,
                "new_sheet": false,
                "run_control": {
                    "read_only": false
                }
            },
            "outputs": [
                {
                    "data": {
                        "text/html": "<div>\n<style scoped>\n    .dataframe tbody tr th:only-of-type {\n        vertical-align: middle;\n    }\n\n    .dataframe tbody tr th {\n        vertical-align: top;\n    }\n\n    .dataframe thead th {\n        text-align: right;\n    }\n</style>\n<table border=\"1\" class=\"dataframe\">\n  <thead>\n    <tr style=\"text-align: right;\">\n      <th></th>\n      <th>Unnamed: 0</th>\n      <th>Unnamed: 0.1</th>\n      <th>loan_status</th>\n      <th>Principal</th>\n      <th>terms</th>\n      <th>effective_date</th>\n      <th>due_date</th>\n      <th>age</th>\n      <th>education</th>\n      <th>Gender</th>\n      <th>dayofweek</th>\n      <th>weekend</th>\n    </tr>\n  </thead>\n  <tbody>\n    <tr>\n      <th>0</th>\n      <td>0</td>\n      <td>0</td>\n      <td>PAIDOFF</td>\n      <td>1000</td>\n      <td>30</td>\n      <td>2016-09-08</td>\n      <td>2016-10-07</td>\n      <td>45</td>\n      <td>High School or Below</td>\n      <td>0</td>\n      <td>3</td>\n      <td>0</td>\n    </tr>\n    <tr>\n      <th>1</th>\n      <td>2</td>\n      <td>2</td>\n      <td>PAIDOFF</td>\n      <td>1000</td>\n      <td>30</td>\n      <td>2016-09-08</td>\n      <td>2016-10-07</td>\n      <td>33</td>\n      <td>Bechalor</td>\n      <td>1</td>\n      <td>3</td>\n      <td>0</td>\n    </tr>\n    <tr>\n      <th>2</th>\n      <td>3</td>\n      <td>3</td>\n      <td>PAIDOFF</td>\n      <td>1000</td>\n      <td>15</td>\n      <td>2016-09-08</td>\n      <td>2016-09-22</td>\n      <td>27</td>\n      <td>college</td>\n      <td>0</td>\n      <td>3</td>\n      <td>0</td>\n    </tr>\n    <tr>\n      <th>3</th>\n      <td>4</td>\n      <td>4</td>\n      <td>PAIDOFF</td>\n      <td>1000</td>\n      <td>30</td>\n      <td>2016-09-09</td>\n      <td>2016-10-08</td>\n      <td>28</td>\n      <td>college</td>\n      <td>1</td>\n      <td>4</td>\n      <td>1</td>\n    </tr>\n    <tr>\n      <th>4</th>\n      <td>6</td>\n      <td>6</td>\n      <td>PAIDOFF</td>\n      <td>1000</td>\n      <td>30</td>\n      <td>2016-09-09</td>\n      <td>2016-10-08</td>\n      <td>29</td>\n      <td>college</td>\n      <td>0</td>\n      <td>4</td>\n      <td>1</td>\n    </tr>\n  </tbody>\n</table>\n</div>",
                        "text/plain": "   Unnamed: 0  Unnamed: 0.1 loan_status  Principal  terms effective_date  \\\n0           0             0     PAIDOFF       1000     30     2016-09-08   \n1           2             2     PAIDOFF       1000     30     2016-09-08   \n2           3             3     PAIDOFF       1000     15     2016-09-08   \n3           4             4     PAIDOFF       1000     30     2016-09-09   \n4           6             6     PAIDOFF       1000     30     2016-09-09   \n\n    due_date  age             education  Gender  dayofweek  weekend  \n0 2016-10-07   45  High School or Below       0          3        0  \n1 2016-10-07   33              Bechalor       1          3        0  \n2 2016-09-22   27               college       0          3        0  \n3 2016-10-08   28               college       1          4        1  \n4 2016-10-08   29               college       0          4        1  "
                    },
                    "execution_count": 15,
                    "metadata": {},
                    "output_type": "execute_result"
                }
            ],
            "source": "df['Gender'].replace(to_replace=['male','female'], value=[0,1],inplace=True)\ndf.head()"
        },
        {
            "cell_type": "markdown",
            "metadata": {
                "button": false,
                "new_sheet": false,
                "run_control": {
                    "read_only": false
                }
            },
            "source": "## One Hot Encoding\n\n#### How about education?\n"
        },
        {
            "cell_type": "code",
            "execution_count": 16,
            "metadata": {
                "button": false,
                "new_sheet": false,
                "run_control": {
                    "read_only": false
                }
            },
            "outputs": [
                {
                    "data": {
                        "text/plain": "education             loan_status\nBechalor              PAIDOFF        0.750000\n                      COLLECTION     0.250000\nHigh School or Below  PAIDOFF        0.741722\n                      COLLECTION     0.258278\nMaster or Above       COLLECTION     0.500000\n                      PAIDOFF        0.500000\ncollege               PAIDOFF        0.765101\n                      COLLECTION     0.234899\nName: loan_status, dtype: float64"
                    },
                    "execution_count": 16,
                    "metadata": {},
                    "output_type": "execute_result"
                }
            ],
            "source": "df.groupby(['education'])['loan_status'].value_counts(normalize=True)"
        },
        {
            "cell_type": "code",
            "execution_count": 17,
            "metadata": {},
            "outputs": [
                {
                    "data": {
                        "text/plain": "PAIDOFF       0.751445\nCOLLECTION    0.248555\nName: loan_status, dtype: float64"
                    },
                    "execution_count": 17,
                    "metadata": {},
                    "output_type": "execute_result"
                }
            ],
            "source": "df['loan_status'].value_counts(normalize=True)"
        },
        {
            "cell_type": "markdown",
            "metadata": {},
            "source": "our dataset is imbalanced\n\nLets use oversampling to avoid classifying the majority class more often"
        },
        {
            "cell_type": "markdown",
            "metadata": {
                "button": false,
                "new_sheet": false,
                "run_control": {
                    "read_only": false
                }
            },
            "source": "#### Features before One Hot Encoding\n"
        },
        {
            "cell_type": "code",
            "execution_count": 18,
            "metadata": {
                "button": false,
                "new_sheet": false,
                "run_control": {
                    "read_only": false
                }
            },
            "outputs": [
                {
                    "data": {
                        "text/html": "<div>\n<style scoped>\n    .dataframe tbody tr th:only-of-type {\n        vertical-align: middle;\n    }\n\n    .dataframe tbody tr th {\n        vertical-align: top;\n    }\n\n    .dataframe thead th {\n        text-align: right;\n    }\n</style>\n<table border=\"1\" class=\"dataframe\">\n  <thead>\n    <tr style=\"text-align: right;\">\n      <th></th>\n      <th>Principal</th>\n      <th>terms</th>\n      <th>age</th>\n      <th>Gender</th>\n      <th>education</th>\n    </tr>\n  </thead>\n  <tbody>\n    <tr>\n      <th>0</th>\n      <td>1000</td>\n      <td>30</td>\n      <td>45</td>\n      <td>0</td>\n      <td>High School or Below</td>\n    </tr>\n    <tr>\n      <th>1</th>\n      <td>1000</td>\n      <td>30</td>\n      <td>33</td>\n      <td>1</td>\n      <td>Bechalor</td>\n    </tr>\n    <tr>\n      <th>2</th>\n      <td>1000</td>\n      <td>15</td>\n      <td>27</td>\n      <td>0</td>\n      <td>college</td>\n    </tr>\n    <tr>\n      <th>3</th>\n      <td>1000</td>\n      <td>30</td>\n      <td>28</td>\n      <td>1</td>\n      <td>college</td>\n    </tr>\n    <tr>\n      <th>4</th>\n      <td>1000</td>\n      <td>30</td>\n      <td>29</td>\n      <td>0</td>\n      <td>college</td>\n    </tr>\n  </tbody>\n</table>\n</div>",
                        "text/plain": "   Principal  terms  age  Gender             education\n0       1000     30   45       0  High School or Below\n1       1000     30   33       1              Bechalor\n2       1000     15   27       0               college\n3       1000     30   28       1               college\n4       1000     30   29       0               college"
                    },
                    "execution_count": 18,
                    "metadata": {},
                    "output_type": "execute_result"
                }
            ],
            "source": "df[['Principal','terms','age','Gender','education']].head()"
        },
        {
            "cell_type": "markdown",
            "metadata": {
                "button": false,
                "new_sheet": false,
                "run_control": {
                    "read_only": false
                }
            },
            "source": "#### Use one hot encoding technique to conver categorical varables to binary variables and append them to the feature Data Frame\n"
        },
        {
            "cell_type": "code",
            "execution_count": 19,
            "metadata": {
                "button": false,
                "new_sheet": false,
                "run_control": {
                    "read_only": false
                }
            },
            "outputs": [
                {
                    "data": {
                        "text/html": "<div>\n<style scoped>\n    .dataframe tbody tr th:only-of-type {\n        vertical-align: middle;\n    }\n\n    .dataframe tbody tr th {\n        vertical-align: top;\n    }\n\n    .dataframe thead th {\n        text-align: right;\n    }\n</style>\n<table border=\"1\" class=\"dataframe\">\n  <thead>\n    <tr style=\"text-align: right;\">\n      <th></th>\n      <th>Principal</th>\n      <th>terms</th>\n      <th>age</th>\n      <th>Gender</th>\n      <th>weekend</th>\n      <th>Bechalor</th>\n      <th>High School or Below</th>\n      <th>college</th>\n    </tr>\n  </thead>\n  <tbody>\n    <tr>\n      <th>0</th>\n      <td>1000</td>\n      <td>30</td>\n      <td>45</td>\n      <td>0</td>\n      <td>0</td>\n      <td>0</td>\n      <td>1</td>\n      <td>0</td>\n    </tr>\n    <tr>\n      <th>1</th>\n      <td>1000</td>\n      <td>30</td>\n      <td>33</td>\n      <td>1</td>\n      <td>0</td>\n      <td>1</td>\n      <td>0</td>\n      <td>0</td>\n    </tr>\n    <tr>\n      <th>2</th>\n      <td>1000</td>\n      <td>15</td>\n      <td>27</td>\n      <td>0</td>\n      <td>0</td>\n      <td>0</td>\n      <td>0</td>\n      <td>1</td>\n    </tr>\n    <tr>\n      <th>3</th>\n      <td>1000</td>\n      <td>30</td>\n      <td>28</td>\n      <td>1</td>\n      <td>1</td>\n      <td>0</td>\n      <td>0</td>\n      <td>1</td>\n    </tr>\n    <tr>\n      <th>4</th>\n      <td>1000</td>\n      <td>30</td>\n      <td>29</td>\n      <td>0</td>\n      <td>1</td>\n      <td>0</td>\n      <td>0</td>\n      <td>1</td>\n    </tr>\n  </tbody>\n</table>\n</div>",
                        "text/plain": "   Principal  terms  age  Gender  weekend  Bechalor  High School or Below  \\\n0       1000     30   45       0        0         0                     1   \n1       1000     30   33       1        0         1                     0   \n2       1000     15   27       0        0         0                     0   \n3       1000     30   28       1        1         0                     0   \n4       1000     30   29       0        1         0                     0   \n\n   college  \n0        0  \n1        0  \n2        1  \n3        1  \n4        1  "
                    },
                    "execution_count": 19,
                    "metadata": {},
                    "output_type": "execute_result"
                }
            ],
            "source": "Feature = df[['Principal','terms','age','Gender','weekend']]\nFeature = pd.concat([Feature,pd.get_dummies(df['education'])], axis=1)\nFeature.drop(['Master or Above'], axis = 1,inplace=True)\nFeature.head()"
        },
        {
            "cell_type": "markdown",
            "metadata": {
                "button": false,
                "new_sheet": false,
                "run_control": {
                    "read_only": false
                }
            },
            "source": "### Feature Selection\n"
        },
        {
            "cell_type": "markdown",
            "metadata": {
                "button": false,
                "new_sheet": false,
                "run_control": {
                    "read_only": false
                }
            },
            "source": "Let's define feature sets, X:\n"
        },
        {
            "cell_type": "code",
            "execution_count": 20,
            "metadata": {
                "button": false,
                "new_sheet": false,
                "run_control": {
                    "read_only": false
                }
            },
            "outputs": [
                {
                    "data": {
                        "text/html": "<div>\n<style scoped>\n    .dataframe tbody tr th:only-of-type {\n        vertical-align: middle;\n    }\n\n    .dataframe tbody tr th {\n        vertical-align: top;\n    }\n\n    .dataframe thead th {\n        text-align: right;\n    }\n</style>\n<table border=\"1\" class=\"dataframe\">\n  <thead>\n    <tr style=\"text-align: right;\">\n      <th></th>\n      <th>Principal</th>\n      <th>terms</th>\n      <th>age</th>\n      <th>Gender</th>\n      <th>weekend</th>\n      <th>Bechalor</th>\n      <th>High School or Below</th>\n      <th>college</th>\n    </tr>\n  </thead>\n  <tbody>\n    <tr>\n      <th>0</th>\n      <td>1000</td>\n      <td>30</td>\n      <td>45</td>\n      <td>0</td>\n      <td>0</td>\n      <td>0</td>\n      <td>1</td>\n      <td>0</td>\n    </tr>\n    <tr>\n      <th>1</th>\n      <td>1000</td>\n      <td>30</td>\n      <td>33</td>\n      <td>1</td>\n      <td>0</td>\n      <td>1</td>\n      <td>0</td>\n      <td>0</td>\n    </tr>\n    <tr>\n      <th>2</th>\n      <td>1000</td>\n      <td>15</td>\n      <td>27</td>\n      <td>0</td>\n      <td>0</td>\n      <td>0</td>\n      <td>0</td>\n      <td>1</td>\n    </tr>\n    <tr>\n      <th>3</th>\n      <td>1000</td>\n      <td>30</td>\n      <td>28</td>\n      <td>1</td>\n      <td>1</td>\n      <td>0</td>\n      <td>0</td>\n      <td>1</td>\n    </tr>\n    <tr>\n      <th>4</th>\n      <td>1000</td>\n      <td>30</td>\n      <td>29</td>\n      <td>0</td>\n      <td>1</td>\n      <td>0</td>\n      <td>0</td>\n      <td>1</td>\n    </tr>\n  </tbody>\n</table>\n</div>",
                        "text/plain": "   Principal  terms  age  Gender  weekend  Bechalor  High School or Below  \\\n0       1000     30   45       0        0         0                     1   \n1       1000     30   33       1        0         1                     0   \n2       1000     15   27       0        0         0                     0   \n3       1000     30   28       1        1         0                     0   \n4       1000     30   29       0        1         0                     0   \n\n   college  \n0        0  \n1        0  \n2        1  \n3        1  \n4        1  "
                    },
                    "execution_count": 20,
                    "metadata": {},
                    "output_type": "execute_result"
                }
            ],
            "source": "X = Feature\nX[0:5]"
        },
        {
            "cell_type": "markdown",
            "metadata": {
                "button": false,
                "new_sheet": false,
                "run_control": {
                    "read_only": false
                }
            },
            "source": "What are our lables?\n"
        },
        {
            "cell_type": "code",
            "execution_count": 21,
            "metadata": {
                "button": false,
                "new_sheet": false,
                "run_control": {
                    "read_only": false
                }
            },
            "outputs": [],
            "source": "y = df['loan_status'].values"
        },
        {
            "cell_type": "markdown",
            "metadata": {
                "button": false,
                "new_sheet": false,
                "run_control": {
                    "read_only": false
                }
            },
            "source": "## Normalize Data"
        },
        {
            "cell_type": "markdown",
            "metadata": {
                "button": false,
                "new_sheet": false,
                "run_control": {
                    "read_only": false
                }
            },
            "source": "Data Standardization give data zero mean and unit variance (technically should be done after train test split)\n"
        },
        {
            "cell_type": "code",
            "execution_count": 22,
            "metadata": {},
            "outputs": [
                {
                    "data": {
                        "text/plain": "(346, 8)"
                    },
                    "execution_count": 22,
                    "metadata": {},
                    "output_type": "execute_result"
                }
            ],
            "source": "X.shape\n#y.shape"
        },
        {
            "cell_type": "code",
            "execution_count": 23,
            "metadata": {},
            "outputs": [
                {
                    "data": {
                        "text/html": "<div>\n<style scoped>\n    .dataframe tbody tr th:only-of-type {\n        vertical-align: middle;\n    }\n\n    .dataframe tbody tr th {\n        vertical-align: top;\n    }\n\n    .dataframe thead th {\n        text-align: right;\n    }\n</style>\n<table border=\"1\" class=\"dataframe\">\n  <thead>\n    <tr style=\"text-align: right;\">\n      <th></th>\n      <th>Principal</th>\n      <th>terms</th>\n      <th>age</th>\n      <th>Gender</th>\n      <th>weekend</th>\n      <th>Bechalor</th>\n      <th>High School or Below</th>\n      <th>college</th>\n    </tr>\n  </thead>\n  <tbody>\n    <tr>\n      <th>0</th>\n      <td>1000</td>\n      <td>30</td>\n      <td>45</td>\n      <td>0</td>\n      <td>0</td>\n      <td>0</td>\n      <td>1</td>\n      <td>0</td>\n    </tr>\n    <tr>\n      <th>1</th>\n      <td>1000</td>\n      <td>30</td>\n      <td>33</td>\n      <td>1</td>\n      <td>0</td>\n      <td>1</td>\n      <td>0</td>\n      <td>0</td>\n    </tr>\n    <tr>\n      <th>2</th>\n      <td>1000</td>\n      <td>15</td>\n      <td>27</td>\n      <td>0</td>\n      <td>0</td>\n      <td>0</td>\n      <td>0</td>\n      <td>1</td>\n    </tr>\n    <tr>\n      <th>3</th>\n      <td>1000</td>\n      <td>30</td>\n      <td>28</td>\n      <td>1</td>\n      <td>1</td>\n      <td>0</td>\n      <td>0</td>\n      <td>1</td>\n    </tr>\n    <tr>\n      <th>4</th>\n      <td>1000</td>\n      <td>30</td>\n      <td>29</td>\n      <td>0</td>\n      <td>1</td>\n      <td>0</td>\n      <td>0</td>\n      <td>1</td>\n    </tr>\n  </tbody>\n</table>\n</div>",
                        "text/plain": "   Principal  terms  age  Gender  weekend  Bechalor  High School or Below  \\\n0       1000     30   45       0        0         0                     1   \n1       1000     30   33       1        0         1                     0   \n2       1000     15   27       0        0         0                     0   \n3       1000     30   28       1        1         0                     0   \n4       1000     30   29       0        1         0                     0   \n\n   college  \n0        0  \n1        0  \n2        1  \n3        1  \n4        1  "
                    },
                    "execution_count": 23,
                    "metadata": {},
                    "output_type": "execute_result"
                }
            ],
            "source": "X[0:5]"
        },
        {
            "cell_type": "code",
            "execution_count": 24,
            "metadata": {},
            "outputs": [],
            "source": "#import sklearn dependencies\nfrom sklearn.model_selection import train_test_split,cross_val_score\nfrom sklearn.pipeline import Pipeline,make_pipeline\nfrom sklearn.preprocessing import StandardScaler,MinMaxScaler,Normalizer\nfrom sklearn.compose import make_column_transformer\nfrom sklearn.model_selection import GridSearchCV\nfrom sklearn.metrics import confusion_matrix,f1_score,classification_report\nfrom sklearn import set_config\nset_config(display='diagram')"
        },
        {
            "cell_type": "code",
            "execution_count": 25,
            "metadata": {},
            "outputs": [],
            "source": "#split dataset into training and testing sets\nX_train, X_test, y_train, y_test = train_test_split(X, y, test_size=0.3,stratify=y,random_state=42)"
        },
        {
            "cell_type": "markdown",
            "metadata": {},
            "source": "## Oversampling"
        },
        {
            "cell_type": "code",
            "execution_count": 26,
            "metadata": {},
            "outputs": [],
            "source": "from imblearn.over_sampling import ADASYN,SMOTE"
        },
        {
            "cell_type": "code",
            "execution_count": 27,
            "metadata": {},
            "outputs": [],
            "source": "#oversampling the train dataset using ADASYN\nada = SMOTE(random_state = 111)\nX_train,y_train = ada.fit_resample(X_train,y_train)"
        },
        {
            "cell_type": "code",
            "execution_count": 28,
            "metadata": {},
            "outputs": [
                {
                    "name": "stdout",
                    "output_type": "stream",
                    "text": "number of collection class in y: 182\nnumber of PAIDOFF class in y: 182\n"
                }
            ],
            "source": "print('number of collection class in y:',(y_train=='COLLECTION').sum())\nprint('number of PAIDOFF class in y:',(y_train=='PAIDOFF').sum())"
        },
        {
            "cell_type": "code",
            "execution_count": 29,
            "metadata": {},
            "outputs": [],
            "source": "#create a column transformer for the preprocessing steps\n#ct = make_column_transformer((MinMaxScaler(),['Principal','terms','age']))\nct = make_column_transformer((MinMaxScaler(),X.columns))"
        },
        {
            "cell_type": "markdown",
            "metadata": {
                "button": false,
                "new_sheet": false,
                "run_control": {
                    "read_only": false
                }
            },
            "source": "# Classification\n"
        },
        {
            "cell_type": "markdown",
            "metadata": {
                "button": false,
                "new_sheet": false,
                "run_control": {
                    "read_only": false
                }
            },
            "source": "Now, it is your turn, use the training set to build an accurate model. Then use the test set to report the accuracy of the model\nYou should use the following algorithm:\n\n*   K Nearest Neighbor(KNN)\n*   Decision Tree\n*   Support Vector Machine\n*   Logistic Regression\n\n\\__ Notice:\\__\n\n*   You can go above and change the pre-processing, feature selection, feature-extraction, and so on, to make a better model.\n*   You should use either scikit-learn, Scipy or Numpy libraries for developing the classification algorithms.\n*   You should include the code of the algorithm in the following cells.\n"
        },
        {
            "cell_type": "markdown",
            "metadata": {},
            "source": "# K Nearest Neighbor(KNN)\n\nNotice: You should find the best k to build the model with the best accuracy.\\\n**warning:** You should not use the **loan_test.csv** for finding the best k, however, you can split your train_loan.csv into train and test to find the best **k**.\n"
        },
        {
            "cell_type": "code",
            "execution_count": 30,
            "metadata": {},
            "outputs": [],
            "source": "#import the K Nearest Neighbors class\nfrom sklearn.neighbors import KNeighborsClassifier"
        },
        {
            "cell_type": "code",
            "execution_count": 31,
            "metadata": {},
            "outputs": [],
            "source": "#create an object of the class\nknn = KNeighborsClassifier() \n#create a knn pipeline - knn_pipe\nknn_pipe = make_pipeline(ct,knn)"
        },
        {
            "cell_type": "code",
            "execution_count": 32,
            "metadata": {},
            "outputs": [],
            "source": "#confusion matrix\ndef cm_matrix(y_test,y_pred):\n    cm = sns.heatmap(confusion_matrix(y_test,y_pred),cmap = plt.cm.Oranges,annot = True)\n    cm.set_xticklabels(['COLLECTION','PAIDOFF'])\n    cm.set_yticklabels(['COLLECTION','PAIDOFF'])\n    plt.xlabel('Predicted')\n    plt.ylabel('Actual')\n    return cm;"
        },
        {
            "cell_type": "markdown",
            "metadata": {},
            "source": "#### finding the best k manually"
        },
        {
            "cell_type": "code",
            "execution_count": 33,
            "metadata": {},
            "outputs": [],
            "source": "odd_nums = [x for x in np.arange(1,12) if x%2!=0]"
        },
        {
            "cell_type": "code",
            "execution_count": 34,
            "metadata": {},
            "outputs": [],
            "source": "knn_score = []\nfor i in odd_nums:\n    #build a model for each iteration\n    knn = make_pipeline(ct,KNeighborsClassifier(n_neighbors = i))\n    #cross validate the model\n    cv_score = cross_val_score(knn,X,y,cv = 10)\n    #take the mean\n    mean_cv = cv_score.mean()\n    #score the model\n    knn_score.append(mean_cv)"
        },
        {
            "cell_type": "code",
            "execution_count": 35,
            "metadata": {
                "scrolled": false
            },
            "outputs": [
                {
                    "data": {
                        "text/plain": "[<matplotlib.lines.Line2D at 0x7ff246743340>]"
                    },
                    "execution_count": 35,
                    "metadata": {},
                    "output_type": "execute_result"
                },
                {
                    "data": {
                        "image/png": "[encoded data removed]",
                        "text/plain": "<Figure size 432x288 with 1 Axes>"
                    },
                    "metadata": {
                        "needs_background": "light"
                    },
                    "output_type": "display_data"
                }
            ],
            "source": "plt.plot(odd_nums,knn_score)"
        },
        {
            "cell_type": "code",
            "execution_count": 37,
            "metadata": {},
            "outputs": [
                {
                    "name": "stdout",
                    "output_type": "stream",
                    "text": "best score = 0.7353781512605042\n"
                }
            ],
            "source": "print('best score = {}'.format(np.max(knn_score)))"
        },
        {
            "cell_type": "code",
            "execution_count": 38,
            "metadata": {},
            "outputs": [],
            "source": "#build a new knn model with the best k (9)\nknn = KNeighborsClassifier(n_neighbors = 9)\nknn_pipe = make_pipeline(ct,knn)\nknn_pipe.fit(X_train,y_train)\n\n#pridict with the testing dataset\nknn_predicted = knn_pipe.predict(X_test)"
        },
        {
            "cell_type": "code",
            "execution_count": 39,
            "metadata": {},
            "outputs": [
                {
                    "data": {
                        "image/png": "[encoded data removed]",
                        "text/plain": "<Figure size 432x288 with 2 Axes>"
                    },
                    "metadata": {
                        "needs_background": "light"
                    },
                    "output_type": "display_data"
                }
            ],
            "source": "cm_matrix(y_test,knn_predicted);"
        },
        {
            "cell_type": "code",
            "execution_count": 40,
            "metadata": {},
            "outputs": [
                {
                    "data": {
                        "text/html": "<style>#sk-491c95a1-73df-4e77-873d-0bb18b2187cb {color: black;background-color: white;}#sk-491c95a1-73df-4e77-873d-0bb18b2187cb pre{padding: 0;}#sk-491c95a1-73df-4e77-873d-0bb18b2187cb div.sk-toggleable {background-color: white;}#sk-491c95a1-73df-4e77-873d-0bb18b2187cb label.sk-toggleable__label {cursor: pointer;display: block;width: 100%;margin-bottom: 0;padding: 0.3em;box-sizing: border-box;text-align: center;}#sk-491c95a1-73df-4e77-873d-0bb18b2187cb div.sk-toggleable__content {max-height: 0;max-width: 0;overflow: hidden;text-align: left;background-color: #f0f8ff;}#sk-491c95a1-73df-4e77-873d-0bb18b2187cb div.sk-toggleable__content pre {margin: 0.2em;color: black;border-radius: 0.25em;background-color: #f0f8ff;}#sk-491c95a1-73df-4e77-873d-0bb18b2187cb input.sk-toggleable__control:checked~div.sk-toggleable__content {max-height: 200px;max-width: 100%;overflow: auto;}#sk-491c95a1-73df-4e77-873d-0bb18b2187cb div.sk-estimator input.sk-toggleable__control:checked~label.sk-toggleable__label {background-color: #d4ebff;}#sk-491c95a1-73df-4e77-873d-0bb18b2187cb div.sk-label input.sk-toggleable__control:checked~label.sk-toggleable__label {background-color: #d4ebff;}#sk-491c95a1-73df-4e77-873d-0bb18b2187cb input.sk-hidden--visually {border: 0;clip: rect(1px 1px 1px 1px);clip: rect(1px, 1px, 1px, 1px);height: 1px;margin: -1px;overflow: hidden;padding: 0;position: absolute;width: 1px;}#sk-491c95a1-73df-4e77-873d-0bb18b2187cb div.sk-estimator {font-family: monospace;background-color: #f0f8ff;border: 1px dotted black;border-radius: 0.25em;box-sizing: border-box;margin-bottom: 0.5em;}#sk-491c95a1-73df-4e77-873d-0bb18b2187cb div.sk-estimator:hover {background-color: #d4ebff;}#sk-491c95a1-73df-4e77-873d-0bb18b2187cb div.sk-parallel-item::after {content: \"\";width: 100%;border-bottom: 1px solid gray;flex-grow: 1;}#sk-491c95a1-73df-4e77-873d-0bb18b2187cb div.sk-label:hover label.sk-toggleable__label {background-color: #d4ebff;}#sk-491c95a1-73df-4e77-873d-0bb18b2187cb div.sk-serial::before {content: \"\";position: absolute;border-left: 1px solid gray;box-sizing: border-box;top: 2em;bottom: 0;left: 50%;}#sk-491c95a1-73df-4e77-873d-0bb18b2187cb div.sk-serial {display: flex;flex-direction: column;align-items: center;background-color: white;padding-right: 0.2em;padding-left: 0.2em;}#sk-491c95a1-73df-4e77-873d-0bb18b2187cb div.sk-item {z-index: 1;}#sk-491c95a1-73df-4e77-873d-0bb18b2187cb div.sk-parallel {display: flex;align-items: stretch;justify-content: center;background-color: white;}#sk-491c95a1-73df-4e77-873d-0bb18b2187cb div.sk-parallel::before {content: \"\";position: absolute;border-left: 1px solid gray;box-sizing: border-box;top: 2em;bottom: 0;left: 50%;}#sk-491c95a1-73df-4e77-873d-0bb18b2187cb div.sk-parallel-item {display: flex;flex-direction: column;position: relative;background-color: white;}#sk-491c95a1-73df-4e77-873d-0bb18b2187cb div.sk-parallel-item:first-child::after {align-self: flex-end;width: 50%;}#sk-491c95a1-73df-4e77-873d-0bb18b2187cb div.sk-parallel-item:last-child::after {align-self: flex-start;width: 50%;}#sk-491c95a1-73df-4e77-873d-0bb18b2187cb div.sk-parallel-item:only-child::after {width: 0;}#sk-491c95a1-73df-4e77-873d-0bb18b2187cb div.sk-dashed-wrapped {border: 1px dashed gray;margin: 0 0.4em 0.5em 0.4em;box-sizing: border-box;padding-bottom: 0.4em;background-color: white;position: relative;}#sk-491c95a1-73df-4e77-873d-0bb18b2187cb div.sk-label label {font-family: monospace;font-weight: bold;background-color: white;display: inline-block;line-height: 1.2em;}#sk-491c95a1-73df-4e77-873d-0bb18b2187cb div.sk-label-container {position: relative;z-index: 2;text-align: center;}#sk-491c95a1-73df-4e77-873d-0bb18b2187cb div.sk-container {display: inline-block;position: relative;}</style><div id=\"sk-491c95a1-73df-4e77-873d-0bb18b2187cb\" class\"sk-top-container\"><div class=\"sk-container\"><div class=\"sk-item sk-dashed-wrapped\"><div class=\"sk-label-container\"><div class=\"sk-label sk-toggleable\"><input class=\"sk-toggleable__control sk-hidden--visually\" id=\"6aca7b49-85b6-440f-84e6-54e84f1f9db6\" type=\"checkbox\" ><label class=\"sk-toggleable__label\" for=\"6aca7b49-85b6-440f-84e6-54e84f1f9db6\">Pipeline</label><div class=\"sk-toggleable__content\"><pre>Pipeline(steps=[('columntransformer',\n                 ColumnTransformer(transformers=[('minmaxscaler',\n                                                  MinMaxScaler(),\n                                                  Index(['Principal', 'terms', 'age', 'Gender', 'weekend', 'Bechalor',\n       'High School or Below', 'college'],\n      dtype='object'))])),\n                ('kneighborsclassifier', KNeighborsClassifier(n_neighbors=9))])</pre></div></div></div><div class=\"sk-serial\"><div class=\"sk-item sk-dashed-wrapped\"><div class=\"sk-label-container\"><div class=\"sk-label sk-toggleable\"><input class=\"sk-toggleable__control sk-hidden--visually\" id=\"5c624828-c2cd-49e3-8870-8ca4ed01e21c\" type=\"checkbox\" ><label class=\"sk-toggleable__label\" for=\"5c624828-c2cd-49e3-8870-8ca4ed01e21c\">columntransformer: ColumnTransformer</label><div class=\"sk-toggleable__content\"><pre>ColumnTransformer(transformers=[('minmaxscaler', MinMaxScaler(),\n                                 Index(['Principal', 'terms', 'age', 'Gender', 'weekend', 'Bechalor',\n       'High School or Below', 'college'],\n      dtype='object'))])</pre></div></div></div><div class=\"sk-parallel\"><div class=\"sk-parallel-item\"><div class=\"sk-item\"><div class=\"sk-label-container\"><div class=\"sk-label sk-toggleable\"><input class=\"sk-toggleable__control sk-hidden--visually\" id=\"91a718e9-23b1-4441-955c-92dc1d3df47f\" type=\"checkbox\" ><label class=\"sk-toggleable__label\" for=\"91a718e9-23b1-4441-955c-92dc1d3df47f\">minmaxscaler</label><div class=\"sk-toggleable__content\"><pre>Index(['Principal', 'terms', 'age', 'Gender', 'weekend', 'Bechalor',\n       'High School or Below', 'college'],\n      dtype='object')</pre></div></div></div><div class=\"sk-serial\"><div class=\"sk-item\"><div class=\"sk-estimator sk-toggleable\"><input class=\"sk-toggleable__control sk-hidden--visually\" id=\"f6ef192c-a610-49cd-9c24-3db3febc3cc4\" type=\"checkbox\" ><label class=\"sk-toggleable__label\" for=\"f6ef192c-a610-49cd-9c24-3db3febc3cc4\">MinMaxScaler</label><div class=\"sk-toggleable__content\"><pre>MinMaxScaler()</pre></div></div></div></div></div></div></div></div><div class=\"sk-item\"><div class=\"sk-estimator sk-toggleable\"><input class=\"sk-toggleable__control sk-hidden--visually\" id=\"4af404ef-d931-43e9-b312-a0729d2a57bc\" type=\"checkbox\" ><label class=\"sk-toggleable__label\" for=\"4af404ef-d931-43e9-b312-a0729d2a57bc\">KNeighborsClassifier</label><div class=\"sk-toggleable__content\"><pre>KNeighborsClassifier(n_neighbors=9)</pre></div></div></div></div></div></div></div>",
                        "text/plain": "Pipeline(steps=[('columntransformer',\n                 ColumnTransformer(transformers=[('minmaxscaler',\n                                                  MinMaxScaler(),\n                                                  Index(['Principal', 'terms', 'age', 'Gender', 'weekend', 'Bechalor',\n       'High School or Below', 'college'],\n      dtype='object'))])),\n                ('kneighborsclassifier', KNeighborsClassifier(n_neighbors=9))])"
                    },
                    "execution_count": 40,
                    "metadata": {},
                    "output_type": "execute_result"
                }
            ],
            "source": "#build the knn model with tuned parameters\nknn_model = knn_pipe.fit(X,y) #fit X and y\nknn_model"
        },
        {
            "cell_type": "code",
            "execution_count": null,
            "metadata": {},
            "outputs": [],
            "source": ""
        },
        {
            "cell_type": "markdown",
            "metadata": {},
            "source": "# Decision Tree"
        },
        {
            "cell_type": "code",
            "execution_count": 41,
            "metadata": {},
            "outputs": [],
            "source": "from sklearn.tree import DecisionTreeClassifier"
        },
        {
            "cell_type": "code",
            "execution_count": 42,
            "metadata": {},
            "outputs": [],
            "source": "#dt = DecisionTreeClassifier()\ndt = DecisionTreeClassifier()"
        },
        {
            "cell_type": "code",
            "execution_count": 43,
            "metadata": {},
            "outputs": [
                {
                    "data": {
                        "text/html": "<style>#sk-e15d8ad1-115d-407e-bc7a-61897b32d367 {color: black;background-color: white;}#sk-e15d8ad1-115d-407e-bc7a-61897b32d367 pre{padding: 0;}#sk-e15d8ad1-115d-407e-bc7a-61897b32d367 div.sk-toggleable {background-color: white;}#sk-e15d8ad1-115d-407e-bc7a-61897b32d367 label.sk-toggleable__label {cursor: pointer;display: block;width: 100%;margin-bottom: 0;padding: 0.3em;box-sizing: border-box;text-align: center;}#sk-e15d8ad1-115d-407e-bc7a-61897b32d367 div.sk-toggleable__content {max-height: 0;max-width: 0;overflow: hidden;text-align: left;background-color: #f0f8ff;}#sk-e15d8ad1-115d-407e-bc7a-61897b32d367 div.sk-toggleable__content pre {margin: 0.2em;color: black;border-radius: 0.25em;background-color: #f0f8ff;}#sk-e15d8ad1-115d-407e-bc7a-61897b32d367 input.sk-toggleable__control:checked~div.sk-toggleable__content {max-height: 200px;max-width: 100%;overflow: auto;}#sk-e15d8ad1-115d-407e-bc7a-61897b32d367 div.sk-estimator input.sk-toggleable__control:checked~label.sk-toggleable__label {background-color: #d4ebff;}#sk-e15d8ad1-115d-407e-bc7a-61897b32d367 div.sk-label input.sk-toggleable__control:checked~label.sk-toggleable__label {background-color: #d4ebff;}#sk-e15d8ad1-115d-407e-bc7a-61897b32d367 input.sk-hidden--visually {border: 0;clip: rect(1px 1px 1px 1px);clip: rect(1px, 1px, 1px, 1px);height: 1px;margin: -1px;overflow: hidden;padding: 0;position: absolute;width: 1px;}#sk-e15d8ad1-115d-407e-bc7a-61897b32d367 div.sk-estimator {font-family: monospace;background-color: #f0f8ff;border: 1px dotted black;border-radius: 0.25em;box-sizing: border-box;margin-bottom: 0.5em;}#sk-e15d8ad1-115d-407e-bc7a-61897b32d367 div.sk-estimator:hover {background-color: #d4ebff;}#sk-e15d8ad1-115d-407e-bc7a-61897b32d367 div.sk-parallel-item::after {content: \"\";width: 100%;border-bottom: 1px solid gray;flex-grow: 1;}#sk-e15d8ad1-115d-407e-bc7a-61897b32d367 div.sk-label:hover label.sk-toggleable__label {background-color: #d4ebff;}#sk-e15d8ad1-115d-407e-bc7a-61897b32d367 div.sk-serial::before {content: \"\";position: absolute;border-left: 1px solid gray;box-sizing: border-box;top: 2em;bottom: 0;left: 50%;}#sk-e15d8ad1-115d-407e-bc7a-61897b32d367 div.sk-serial {display: flex;flex-direction: column;align-items: center;background-color: white;padding-right: 0.2em;padding-left: 0.2em;}#sk-e15d8ad1-115d-407e-bc7a-61897b32d367 div.sk-item {z-index: 1;}#sk-e15d8ad1-115d-407e-bc7a-61897b32d367 div.sk-parallel {display: flex;align-items: stretch;justify-content: center;background-color: white;}#sk-e15d8ad1-115d-407e-bc7a-61897b32d367 div.sk-parallel::before {content: \"\";position: absolute;border-left: 1px solid gray;box-sizing: border-box;top: 2em;bottom: 0;left: 50%;}#sk-e15d8ad1-115d-407e-bc7a-61897b32d367 div.sk-parallel-item {display: flex;flex-direction: column;position: relative;background-color: white;}#sk-e15d8ad1-115d-407e-bc7a-61897b32d367 div.sk-parallel-item:first-child::after {align-self: flex-end;width: 50%;}#sk-e15d8ad1-115d-407e-bc7a-61897b32d367 div.sk-parallel-item:last-child::after {align-self: flex-start;width: 50%;}#sk-e15d8ad1-115d-407e-bc7a-61897b32d367 div.sk-parallel-item:only-child::after {width: 0;}#sk-e15d8ad1-115d-407e-bc7a-61897b32d367 div.sk-dashed-wrapped {border: 1px dashed gray;margin: 0 0.4em 0.5em 0.4em;box-sizing: border-box;padding-bottom: 0.4em;background-color: white;position: relative;}#sk-e15d8ad1-115d-407e-bc7a-61897b32d367 div.sk-label label {font-family: monospace;font-weight: bold;background-color: white;display: inline-block;line-height: 1.2em;}#sk-e15d8ad1-115d-407e-bc7a-61897b32d367 div.sk-label-container {position: relative;z-index: 2;text-align: center;}#sk-e15d8ad1-115d-407e-bc7a-61897b32d367 div.sk-container {display: inline-block;position: relative;}</style><div id=\"sk-e15d8ad1-115d-407e-bc7a-61897b32d367\" class\"sk-top-container\"><div class=\"sk-container\"><div class=\"sk-item sk-dashed-wrapped\"><div class=\"sk-label-container\"><div class=\"sk-label sk-toggleable\"><input class=\"sk-toggleable__control sk-hidden--visually\" id=\"d044708a-b0f6-4a08-bb86-c501eb82e1e7\" type=\"checkbox\" ><label class=\"sk-toggleable__label\" for=\"d044708a-b0f6-4a08-bb86-c501eb82e1e7\">Pipeline</label><div class=\"sk-toggleable__content\"><pre>Pipeline(steps=[('columntransformer',\n                 ColumnTransformer(transformers=[('minmaxscaler',\n                                                  MinMaxScaler(),\n                                                  Index(['Principal', 'terms', 'age', 'Gender', 'weekend', 'Bechalor',\n       'High School or Below', 'college'],\n      dtype='object'))])),\n                ('decisiontreeclassifier', DecisionTreeClassifier())])</pre></div></div></div><div class=\"sk-serial\"><div class=\"sk-item sk-dashed-wrapped\"><div class=\"sk-label-container\"><div class=\"sk-label sk-toggleable\"><input class=\"sk-toggleable__control sk-hidden--visually\" id=\"c61bcd74-c010-4bbb-8aa9-dd1c1f385998\" type=\"checkbox\" ><label class=\"sk-toggleable__label\" for=\"c61bcd74-c010-4bbb-8aa9-dd1c1f385998\">columntransformer: ColumnTransformer</label><div class=\"sk-toggleable__content\"><pre>ColumnTransformer(transformers=[('minmaxscaler', MinMaxScaler(),\n                                 Index(['Principal', 'terms', 'age', 'Gender', 'weekend', 'Bechalor',\n       'High School or Below', 'college'],\n      dtype='object'))])</pre></div></div></div><div class=\"sk-parallel\"><div class=\"sk-parallel-item\"><div class=\"sk-item\"><div class=\"sk-label-container\"><div class=\"sk-label sk-toggleable\"><input class=\"sk-toggleable__control sk-hidden--visually\" id=\"df8dbc4c-84b7-4f4d-814c-eba193caa337\" type=\"checkbox\" ><label class=\"sk-toggleable__label\" for=\"df8dbc4c-84b7-4f4d-814c-eba193caa337\">minmaxscaler</label><div class=\"sk-toggleable__content\"><pre>Index(['Principal', 'terms', 'age', 'Gender', 'weekend', 'Bechalor',\n       'High School or Below', 'college'],\n      dtype='object')</pre></div></div></div><div class=\"sk-serial\"><div class=\"sk-item\"><div class=\"sk-estimator sk-toggleable\"><input class=\"sk-toggleable__control sk-hidden--visually\" id=\"12387640-c6cf-4407-9fc3-45ee3de2305b\" type=\"checkbox\" ><label class=\"sk-toggleable__label\" for=\"12387640-c6cf-4407-9fc3-45ee3de2305b\">MinMaxScaler</label><div class=\"sk-toggleable__content\"><pre>MinMaxScaler()</pre></div></div></div></div></div></div></div></div><div class=\"sk-item\"><div class=\"sk-estimator sk-toggleable\"><input class=\"sk-toggleable__control sk-hidden--visually\" id=\"c661f5ff-bb02-4cb2-b88e-4e997b561c14\" type=\"checkbox\" ><label class=\"sk-toggleable__label\" for=\"c661f5ff-bb02-4cb2-b88e-4e997b561c14\">DecisionTreeClassifier</label><div class=\"sk-toggleable__content\"><pre>DecisionTreeClassifier()</pre></div></div></div></div></div></div></div>",
                        "text/plain": "Pipeline(steps=[('columntransformer',\n                 ColumnTransformer(transformers=[('minmaxscaler',\n                                                  MinMaxScaler(),\n                                                  Index(['Principal', 'terms', 'age', 'Gender', 'weekend', 'Bechalor',\n       'High School or Below', 'college'],\n      dtype='object'))])),\n                ('decisiontreeclassifier', DecisionTreeClassifier())])"
                    },
                    "execution_count": 43,
                    "metadata": {},
                    "output_type": "execute_result"
                }
            ],
            "source": "dt_pipe = make_pipeline(ct,dt)\ndt_pipe"
        },
        {
            "cell_type": "code",
            "execution_count": 44,
            "metadata": {},
            "outputs": [],
            "source": "dt_params = [{'decisiontreeclassifier__min_samples_leaf':np.arange(5,20),\n          'decisiontreeclassifier__max_depth':np.arange(5,30),\n          'decisiontreeclassifier__class_weight':[{'COLLECTION':4,'PAIDOFF':1},{'COLLECTION':3,'PAIDOFF':1},{'COLLECTION':5,'PAIDOFF':2}]},\n         {'decisiontreeclassifier':[DecisionTreeClassifier()]}]"
        },
        {
            "cell_type": "code",
            "execution_count": 45,
            "metadata": {
                "scrolled": true
            },
            "outputs": [],
            "source": "gscv = GridSearchCV(dt_pipe,param_grid=dt_params,cv = 5,n_jobs = -1,error_score = 'raise')"
        },
        {
            "cell_type": "code",
            "execution_count": 46,
            "metadata": {},
            "outputs": [
                {
                    "data": {
                        "text/html": "<style>#sk-1f4d5030-463c-4e31-a53d-0e9ca9cade04 {color: black;background-color: white;}#sk-1f4d5030-463c-4e31-a53d-0e9ca9cade04 pre{padding: 0;}#sk-1f4d5030-463c-4e31-a53d-0e9ca9cade04 div.sk-toggleable {background-color: white;}#sk-1f4d5030-463c-4e31-a53d-0e9ca9cade04 label.sk-toggleable__label {cursor: pointer;display: block;width: 100%;margin-bottom: 0;padding: 0.3em;box-sizing: border-box;text-align: center;}#sk-1f4d5030-463c-4e31-a53d-0e9ca9cade04 div.sk-toggleable__content {max-height: 0;max-width: 0;overflow: hidden;text-align: left;background-color: #f0f8ff;}#sk-1f4d5030-463c-4e31-a53d-0e9ca9cade04 div.sk-toggleable__content pre {margin: 0.2em;color: black;border-radius: 0.25em;background-color: #f0f8ff;}#sk-1f4d5030-463c-4e31-a53d-0e9ca9cade04 input.sk-toggleable__control:checked~div.sk-toggleable__content {max-height: 200px;max-width: 100%;overflow: auto;}#sk-1f4d5030-463c-4e31-a53d-0e9ca9cade04 div.sk-estimator input.sk-toggleable__control:checked~label.sk-toggleable__label {background-color: #d4ebff;}#sk-1f4d5030-463c-4e31-a53d-0e9ca9cade04 div.sk-label input.sk-toggleable__control:checked~label.sk-toggleable__label {background-color: #d4ebff;}#sk-1f4d5030-463c-4e31-a53d-0e9ca9cade04 input.sk-hidden--visually {border: 0;clip: rect(1px 1px 1px 1px);clip: rect(1px, 1px, 1px, 1px);height: 1px;margin: -1px;overflow: hidden;padding: 0;position: absolute;width: 1px;}#sk-1f4d5030-463c-4e31-a53d-0e9ca9cade04 div.sk-estimator {font-family: monospace;background-color: #f0f8ff;border: 1px dotted black;border-radius: 0.25em;box-sizing: border-box;margin-bottom: 0.5em;}#sk-1f4d5030-463c-4e31-a53d-0e9ca9cade04 div.sk-estimator:hover {background-color: #d4ebff;}#sk-1f4d5030-463c-4e31-a53d-0e9ca9cade04 div.sk-parallel-item::after {content: \"\";width: 100%;border-bottom: 1px solid gray;flex-grow: 1;}#sk-1f4d5030-463c-4e31-a53d-0e9ca9cade04 div.sk-label:hover label.sk-toggleable__label {background-color: #d4ebff;}#sk-1f4d5030-463c-4e31-a53d-0e9ca9cade04 div.sk-serial::before {content: \"\";position: absolute;border-left: 1px solid gray;box-sizing: border-box;top: 2em;bottom: 0;left: 50%;}#sk-1f4d5030-463c-4e31-a53d-0e9ca9cade04 div.sk-serial {display: flex;flex-direction: column;align-items: center;background-color: white;padding-right: 0.2em;padding-left: 0.2em;}#sk-1f4d5030-463c-4e31-a53d-0e9ca9cade04 div.sk-item {z-index: 1;}#sk-1f4d5030-463c-4e31-a53d-0e9ca9cade04 div.sk-parallel {display: flex;align-items: stretch;justify-content: center;background-color: white;}#sk-1f4d5030-463c-4e31-a53d-0e9ca9cade04 div.sk-parallel::before {content: \"\";position: absolute;border-left: 1px solid gray;box-sizing: border-box;top: 2em;bottom: 0;left: 50%;}#sk-1f4d5030-463c-4e31-a53d-0e9ca9cade04 div.sk-parallel-item {display: flex;flex-direction: column;position: relative;background-color: white;}#sk-1f4d5030-463c-4e31-a53d-0e9ca9cade04 div.sk-parallel-item:first-child::after {align-self: flex-end;width: 50%;}#sk-1f4d5030-463c-4e31-a53d-0e9ca9cade04 div.sk-parallel-item:last-child::after {align-self: flex-start;width: 50%;}#sk-1f4d5030-463c-4e31-a53d-0e9ca9cade04 div.sk-parallel-item:only-child::after {width: 0;}#sk-1f4d5030-463c-4e31-a53d-0e9ca9cade04 div.sk-dashed-wrapped {border: 1px dashed gray;margin: 0 0.4em 0.5em 0.4em;box-sizing: border-box;padding-bottom: 0.4em;background-color: white;position: relative;}#sk-1f4d5030-463c-4e31-a53d-0e9ca9cade04 div.sk-label label {font-family: monospace;font-weight: bold;background-color: white;display: inline-block;line-height: 1.2em;}#sk-1f4d5030-463c-4e31-a53d-0e9ca9cade04 div.sk-label-container {position: relative;z-index: 2;text-align: center;}#sk-1f4d5030-463c-4e31-a53d-0e9ca9cade04 div.sk-container {display: inline-block;position: relative;}</style><div id=\"sk-1f4d5030-463c-4e31-a53d-0e9ca9cade04\" class\"sk-top-container\"><div class=\"sk-container\"><div class=\"sk-item sk-dashed-wrapped\"><div class=\"sk-label-container\"><div class=\"sk-label sk-toggleable\"><input class=\"sk-toggleable__control sk-hidden--visually\" id=\"03212018-f879-4f82-8d6a-17d14b42035c\" type=\"checkbox\" ><label class=\"sk-toggleable__label\" for=\"03212018-f879-4f82-8d6a-17d14b42035c\">GridSearchCV</label><div class=\"sk-toggleable__content\"><pre>GridSearchCV(cv=5, error_score='raise',\n             estimator=Pipeline(steps=[('columntransformer',\n                                        ColumnTransformer(transformers=[('minmaxscaler',\n                                                                         MinMaxScaler(),\n                                                                         Index(['Principal', 'terms', 'age', 'Gender', 'weekend', 'Bechalor',\n       'High School or Below', 'college'],\n      dtype='object'))])),\n                                       ('decisiontreeclassifier',\n                                        DecisionTreeClassifier())]),\n             n_jobs=-1,\n             param_grid=[{'decisiontr...'COLLECTION': 4,\n                                                                    'PAIDOFF': 1},\n                                                                   {'COLLECTION': 3,\n                                                                    'PAIDOFF': 1},\n                                                                   {'COLLECTION': 5,\n                                                                    'PAIDOFF': 2}],\n                          'decisiontreeclassifier__max_depth': array([ 5,  6,  7,  8,  9, 10, 11, 12, 13, 14, 15, 16, 17, 18, 19, 20, 21,\n       22, 23, 24, 25, 26, 27, 28, 29]),\n                          'decisiontreeclassifier__min_samples_leaf': array([ 5,  6,  7,  8,  9, 10, 11, 12, 13, 14, 15, 16, 17, 18, 19])},\n                         {'decisiontreeclassifier': [DecisionTreeClassifier()]}])</pre></div></div></div><div class=\"sk-parallel\"><div class=\"sk-parallel-item\"><div class=\"sk-item\"><div class=\"sk-serial\"><div class=\"sk-item\"><div class=\"sk-serial\"><div class=\"sk-item sk-dashed-wrapped\"><div class=\"sk-label-container\"><div class=\"sk-label sk-toggleable\"><input class=\"sk-toggleable__control sk-hidden--visually\" id=\"c6e7f6d6-dd96-4d2f-9150-d79144feb8c0\" type=\"checkbox\" ><label class=\"sk-toggleable__label\" for=\"c6e7f6d6-dd96-4d2f-9150-d79144feb8c0\">columntransformer: ColumnTransformer</label><div class=\"sk-toggleable__content\"><pre>ColumnTransformer(transformers=[('minmaxscaler', MinMaxScaler(),\n                                 Index(['Principal', 'terms', 'age', 'Gender', 'weekend', 'Bechalor',\n       'High School or Below', 'college'],\n      dtype='object'))])</pre></div></div></div><div class=\"sk-parallel\"><div class=\"sk-parallel-item\"><div class=\"sk-item\"><div class=\"sk-label-container\"><div class=\"sk-label sk-toggleable\"><input class=\"sk-toggleable__control sk-hidden--visually\" id=\"eda7cbe2-aba5-431e-861c-4453610a0459\" type=\"checkbox\" ><label class=\"sk-toggleable__label\" for=\"eda7cbe2-aba5-431e-861c-4453610a0459\">minmaxscaler</label><div class=\"sk-toggleable__content\"><pre>Index(['Principal', 'terms', 'age', 'Gender', 'weekend', 'Bechalor',\n       'High School or Below', 'college'],\n      dtype='object')</pre></div></div></div><div class=\"sk-serial\"><div class=\"sk-item\"><div class=\"sk-estimator sk-toggleable\"><input class=\"sk-toggleable__control sk-hidden--visually\" id=\"90bcceeb-6774-4ef2-9027-5c3c21d87196\" type=\"checkbox\" ><label class=\"sk-toggleable__label\" for=\"90bcceeb-6774-4ef2-9027-5c3c21d87196\">MinMaxScaler</label><div class=\"sk-toggleable__content\"><pre>MinMaxScaler()</pre></div></div></div></div></div></div></div></div><div class=\"sk-item\"><div class=\"sk-estimator sk-toggleable\"><input class=\"sk-toggleable__control sk-hidden--visually\" id=\"49355424-41e1-46fd-8c76-eb006559fa76\" type=\"checkbox\" ><label class=\"sk-toggleable__label\" for=\"49355424-41e1-46fd-8c76-eb006559fa76\">DecisionTreeClassifier</label><div class=\"sk-toggleable__content\"><pre>DecisionTreeClassifier()</pre></div></div></div></div></div></div></div></div></div></div></div></div>",
                        "text/plain": "GridSearchCV(cv=5, error_score='raise',\n             estimator=Pipeline(steps=[('columntransformer',\n                                        ColumnTransformer(transformers=[('minmaxscaler',\n                                                                         MinMaxScaler(),\n                                                                         Index(['Principal', 'terms', 'age', 'Gender', 'weekend', 'Bechalor',\n       'High School or Below', 'college'],\n      dtype='object'))])),\n                                       ('decisiontreeclassifier',\n                                        DecisionTreeClassifier())]),\n             n_jobs=-1,\n             param_grid=[{'decisiontr...'COLLECTION': 4,\n                                                                    'PAIDOFF': 1},\n                                                                   {'COLLECTION': 3,\n                                                                    'PAIDOFF': 1},\n                                                                   {'COLLECTION': 5,\n                                                                    'PAIDOFF': 2}],\n                          'decisiontreeclassifier__max_depth': array([ 5,  6,  7,  8,  9, 10, 11, 12, 13, 14, 15, 16, 17, 18, 19, 20, 21,\n       22, 23, 24, 25, 26, 27, 28, 29]),\n                          'decisiontreeclassifier__min_samples_leaf': array([ 5,  6,  7,  8,  9, 10, 11, 12, 13, 14, 15, 16, 17, 18, 19])},\n                         {'decisiontreeclassifier': [DecisionTreeClassifier()]}])"
                    },
                    "execution_count": 46,
                    "metadata": {},
                    "output_type": "execute_result"
                }
            ],
            "source": "gscv.fit(X_train,y_train)"
        },
        {
            "cell_type": "code",
            "execution_count": 47,
            "metadata": {},
            "outputs": [
                {
                    "data": {
                        "text/html": "<style>#sk-92939ab2-d40f-4792-941c-d6f68eab5194 {color: black;background-color: white;}#sk-92939ab2-d40f-4792-941c-d6f68eab5194 pre{padding: 0;}#sk-92939ab2-d40f-4792-941c-d6f68eab5194 div.sk-toggleable {background-color: white;}#sk-92939ab2-d40f-4792-941c-d6f68eab5194 label.sk-toggleable__label {cursor: pointer;display: block;width: 100%;margin-bottom: 0;padding: 0.3em;box-sizing: border-box;text-align: center;}#sk-92939ab2-d40f-4792-941c-d6f68eab5194 div.sk-toggleable__content {max-height: 0;max-width: 0;overflow: hidden;text-align: left;background-color: #f0f8ff;}#sk-92939ab2-d40f-4792-941c-d6f68eab5194 div.sk-toggleable__content pre {margin: 0.2em;color: black;border-radius: 0.25em;background-color: #f0f8ff;}#sk-92939ab2-d40f-4792-941c-d6f68eab5194 input.sk-toggleable__control:checked~div.sk-toggleable__content {max-height: 200px;max-width: 100%;overflow: auto;}#sk-92939ab2-d40f-4792-941c-d6f68eab5194 div.sk-estimator input.sk-toggleable__control:checked~label.sk-toggleable__label {background-color: #d4ebff;}#sk-92939ab2-d40f-4792-941c-d6f68eab5194 div.sk-label input.sk-toggleable__control:checked~label.sk-toggleable__label {background-color: #d4ebff;}#sk-92939ab2-d40f-4792-941c-d6f68eab5194 input.sk-hidden--visually {border: 0;clip: rect(1px 1px 1px 1px);clip: rect(1px, 1px, 1px, 1px);height: 1px;margin: -1px;overflow: hidden;padding: 0;position: absolute;width: 1px;}#sk-92939ab2-d40f-4792-941c-d6f68eab5194 div.sk-estimator {font-family: monospace;background-color: #f0f8ff;border: 1px dotted black;border-radius: 0.25em;box-sizing: border-box;margin-bottom: 0.5em;}#sk-92939ab2-d40f-4792-941c-d6f68eab5194 div.sk-estimator:hover {background-color: #d4ebff;}#sk-92939ab2-d40f-4792-941c-d6f68eab5194 div.sk-parallel-item::after {content: \"\";width: 100%;border-bottom: 1px solid gray;flex-grow: 1;}#sk-92939ab2-d40f-4792-941c-d6f68eab5194 div.sk-label:hover label.sk-toggleable__label {background-color: #d4ebff;}#sk-92939ab2-d40f-4792-941c-d6f68eab5194 div.sk-serial::before {content: \"\";position: absolute;border-left: 1px solid gray;box-sizing: border-box;top: 2em;bottom: 0;left: 50%;}#sk-92939ab2-d40f-4792-941c-d6f68eab5194 div.sk-serial {display: flex;flex-direction: column;align-items: center;background-color: white;padding-right: 0.2em;padding-left: 0.2em;}#sk-92939ab2-d40f-4792-941c-d6f68eab5194 div.sk-item {z-index: 1;}#sk-92939ab2-d40f-4792-941c-d6f68eab5194 div.sk-parallel {display: flex;align-items: stretch;justify-content: center;background-color: white;}#sk-92939ab2-d40f-4792-941c-d6f68eab5194 div.sk-parallel::before {content: \"\";position: absolute;border-left: 1px solid gray;box-sizing: border-box;top: 2em;bottom: 0;left: 50%;}#sk-92939ab2-d40f-4792-941c-d6f68eab5194 div.sk-parallel-item {display: flex;flex-direction: column;position: relative;background-color: white;}#sk-92939ab2-d40f-4792-941c-d6f68eab5194 div.sk-parallel-item:first-child::after {align-self: flex-end;width: 50%;}#sk-92939ab2-d40f-4792-941c-d6f68eab5194 div.sk-parallel-item:last-child::after {align-self: flex-start;width: 50%;}#sk-92939ab2-d40f-4792-941c-d6f68eab5194 div.sk-parallel-item:only-child::after {width: 0;}#sk-92939ab2-d40f-4792-941c-d6f68eab5194 div.sk-dashed-wrapped {border: 1px dashed gray;margin: 0 0.4em 0.5em 0.4em;box-sizing: border-box;padding-bottom: 0.4em;background-color: white;position: relative;}#sk-92939ab2-d40f-4792-941c-d6f68eab5194 div.sk-label label {font-family: monospace;font-weight: bold;background-color: white;display: inline-block;line-height: 1.2em;}#sk-92939ab2-d40f-4792-941c-d6f68eab5194 div.sk-label-container {position: relative;z-index: 2;text-align: center;}#sk-92939ab2-d40f-4792-941c-d6f68eab5194 div.sk-container {display: inline-block;position: relative;}</style><div id=\"sk-92939ab2-d40f-4792-941c-d6f68eab5194\" class\"sk-top-container\"><div class=\"sk-container\"><div class=\"sk-item sk-dashed-wrapped\"><div class=\"sk-label-container\"><div class=\"sk-label sk-toggleable\"><input class=\"sk-toggleable__control sk-hidden--visually\" id=\"1b5933f8-22dc-4e5d-a7f7-61e1e0ab56b3\" type=\"checkbox\" ><label class=\"sk-toggleable__label\" for=\"1b5933f8-22dc-4e5d-a7f7-61e1e0ab56b3\">Pipeline</label><div class=\"sk-toggleable__content\"><pre>Pipeline(steps=[('columntransformer',\n                 ColumnTransformer(transformers=[('minmaxscaler',\n                                                  MinMaxScaler(),\n                                                  Index(['Principal', 'terms', 'age', 'Gender', 'weekend', 'Bechalor',\n       'High School or Below', 'college'],\n      dtype='object'))])),\n                ('decisiontreeclassifier', DecisionTreeClassifier())])</pre></div></div></div><div class=\"sk-serial\"><div class=\"sk-item sk-dashed-wrapped\"><div class=\"sk-label-container\"><div class=\"sk-label sk-toggleable\"><input class=\"sk-toggleable__control sk-hidden--visually\" id=\"26f391ee-bd8d-499d-8bc7-5e4033ed48f4\" type=\"checkbox\" ><label class=\"sk-toggleable__label\" for=\"26f391ee-bd8d-499d-8bc7-5e4033ed48f4\">columntransformer: ColumnTransformer</label><div class=\"sk-toggleable__content\"><pre>ColumnTransformer(transformers=[('minmaxscaler', MinMaxScaler(),\n                                 Index(['Principal', 'terms', 'age', 'Gender', 'weekend', 'Bechalor',\n       'High School or Below', 'college'],\n      dtype='object'))])</pre></div></div></div><div class=\"sk-parallel\"><div class=\"sk-parallel-item\"><div class=\"sk-item\"><div class=\"sk-label-container\"><div class=\"sk-label sk-toggleable\"><input class=\"sk-toggleable__control sk-hidden--visually\" id=\"6ffeb449-2e6b-4145-aa95-60b87927780f\" type=\"checkbox\" ><label class=\"sk-toggleable__label\" for=\"6ffeb449-2e6b-4145-aa95-60b87927780f\">minmaxscaler</label><div class=\"sk-toggleable__content\"><pre>Index(['Principal', 'terms', 'age', 'Gender', 'weekend', 'Bechalor',\n       'High School or Below', 'college'],\n      dtype='object')</pre></div></div></div><div class=\"sk-serial\"><div class=\"sk-item\"><div class=\"sk-estimator sk-toggleable\"><input class=\"sk-toggleable__control sk-hidden--visually\" id=\"288523fb-6d92-486b-884a-dddad6433930\" type=\"checkbox\" ><label class=\"sk-toggleable__label\" for=\"288523fb-6d92-486b-884a-dddad6433930\">MinMaxScaler</label><div class=\"sk-toggleable__content\"><pre>MinMaxScaler()</pre></div></div></div></div></div></div></div></div><div class=\"sk-item\"><div class=\"sk-estimator sk-toggleable\"><input class=\"sk-toggleable__control sk-hidden--visually\" id=\"a42bc16b-009d-43c5-9ec5-018bc190ad3e\" type=\"checkbox\" ><label class=\"sk-toggleable__label\" for=\"a42bc16b-009d-43c5-9ec5-018bc190ad3e\">DecisionTreeClassifier</label><div class=\"sk-toggleable__content\"><pre>DecisionTreeClassifier()</pre></div></div></div></div></div></div></div>",
                        "text/plain": "Pipeline(steps=[('columntransformer',\n                 ColumnTransformer(transformers=[('minmaxscaler',\n                                                  MinMaxScaler(),\n                                                  Index(['Principal', 'terms', 'age', 'Gender', 'weekend', 'Bechalor',\n       'High School or Below', 'college'],\n      dtype='object'))])),\n                ('decisiontreeclassifier', DecisionTreeClassifier())])"
                    },
                    "execution_count": 47,
                    "metadata": {},
                    "output_type": "execute_result"
                }
            ],
            "source": "gscv.best_estimator_"
        },
        {
            "cell_type": "code",
            "execution_count": 48,
            "metadata": {},
            "outputs": [
                {
                    "data": {
                        "text/plain": "'best score : 0.8132039573820394'"
                    },
                    "execution_count": 48,
                    "metadata": {},
                    "output_type": "execute_result"
                }
            ],
            "source": "('best score : {}'.format(gscv.best_score_))"
        },
        {
            "cell_type": "code",
            "execution_count": 49,
            "metadata": {
                "scrolled": true
            },
            "outputs": [
                {
                    "data": {
                        "text/plain": "<AxesSubplot:xlabel='Predicted', ylabel='Actual'>"
                    },
                    "execution_count": 49,
                    "metadata": {},
                    "output_type": "execute_result"
                },
                {
                    "data": {
                        "image/png": "[encoded data removed]",
                        "text/plain": "<Figure size 432x288 with 2 Axes>"
                    },
                    "metadata": {
                        "needs_background": "light"
                    },
                    "output_type": "display_data"
                }
            ],
            "source": "gscv_dt_predited = gscv.predict(X_test)\ncm_matrix(y_test,gscv_dt_predited)"
        },
        {
            "cell_type": "code",
            "execution_count": 50,
            "metadata": {},
            "outputs": [
                {
                    "name": "stdout",
                    "output_type": "stream",
                    "text": "              precision    recall  f1-score   support\n\n  COLLECTION       0.30      0.35      0.32        26\n     PAIDOFF       0.77      0.73      0.75        78\n\n    accuracy                           0.63       104\n   macro avg       0.54      0.54      0.54       104\nweighted avg       0.65      0.63      0.64       104\n\n"
                }
            ],
            "source": "('f1 score : {}'.format(f1_score(y_test,gscv_dt_predited,pos_label='COLLECTION')))\nprint(classification_report(y_test,gscv_dt_predited))"
        },
        {
            "cell_type": "markdown",
            "metadata": {},
            "source": "### final decision tree model"
        },
        {
            "cell_type": "code",
            "execution_count": 51,
            "metadata": {},
            "outputs": [
                {
                    "data": {
                        "text/html": "<style>#sk-94d896e4-d636-4626-97d0-7870a35892c9 {color: black;background-color: white;}#sk-94d896e4-d636-4626-97d0-7870a35892c9 pre{padding: 0;}#sk-94d896e4-d636-4626-97d0-7870a35892c9 div.sk-toggleable {background-color: white;}#sk-94d896e4-d636-4626-97d0-7870a35892c9 label.sk-toggleable__label {cursor: pointer;display: block;width: 100%;margin-bottom: 0;padding: 0.3em;box-sizing: border-box;text-align: center;}#sk-94d896e4-d636-4626-97d0-7870a35892c9 div.sk-toggleable__content {max-height: 0;max-width: 0;overflow: hidden;text-align: left;background-color: #f0f8ff;}#sk-94d896e4-d636-4626-97d0-7870a35892c9 div.sk-toggleable__content pre {margin: 0.2em;color: black;border-radius: 0.25em;background-color: #f0f8ff;}#sk-94d896e4-d636-4626-97d0-7870a35892c9 input.sk-toggleable__control:checked~div.sk-toggleable__content {max-height: 200px;max-width: 100%;overflow: auto;}#sk-94d896e4-d636-4626-97d0-7870a35892c9 div.sk-estimator input.sk-toggleable__control:checked~label.sk-toggleable__label {background-color: #d4ebff;}#sk-94d896e4-d636-4626-97d0-7870a35892c9 div.sk-label input.sk-toggleable__control:checked~label.sk-toggleable__label {background-color: #d4ebff;}#sk-94d896e4-d636-4626-97d0-7870a35892c9 input.sk-hidden--visually {border: 0;clip: rect(1px 1px 1px 1px);clip: rect(1px, 1px, 1px, 1px);height: 1px;margin: -1px;overflow: hidden;padding: 0;position: absolute;width: 1px;}#sk-94d896e4-d636-4626-97d0-7870a35892c9 div.sk-estimator {font-family: monospace;background-color: #f0f8ff;border: 1px dotted black;border-radius: 0.25em;box-sizing: border-box;margin-bottom: 0.5em;}#sk-94d896e4-d636-4626-97d0-7870a35892c9 div.sk-estimator:hover {background-color: #d4ebff;}#sk-94d896e4-d636-4626-97d0-7870a35892c9 div.sk-parallel-item::after {content: \"\";width: 100%;border-bottom: 1px solid gray;flex-grow: 1;}#sk-94d896e4-d636-4626-97d0-7870a35892c9 div.sk-label:hover label.sk-toggleable__label {background-color: #d4ebff;}#sk-94d896e4-d636-4626-97d0-7870a35892c9 div.sk-serial::before {content: \"\";position: absolute;border-left: 1px solid gray;box-sizing: border-box;top: 2em;bottom: 0;left: 50%;}#sk-94d896e4-d636-4626-97d0-7870a35892c9 div.sk-serial {display: flex;flex-direction: column;align-items: center;background-color: white;padding-right: 0.2em;padding-left: 0.2em;}#sk-94d896e4-d636-4626-97d0-7870a35892c9 div.sk-item {z-index: 1;}#sk-94d896e4-d636-4626-97d0-7870a35892c9 div.sk-parallel {display: flex;align-items: stretch;justify-content: center;background-color: white;}#sk-94d896e4-d636-4626-97d0-7870a35892c9 div.sk-parallel::before {content: \"\";position: absolute;border-left: 1px solid gray;box-sizing: border-box;top: 2em;bottom: 0;left: 50%;}#sk-94d896e4-d636-4626-97d0-7870a35892c9 div.sk-parallel-item {display: flex;flex-direction: column;position: relative;background-color: white;}#sk-94d896e4-d636-4626-97d0-7870a35892c9 div.sk-parallel-item:first-child::after {align-self: flex-end;width: 50%;}#sk-94d896e4-d636-4626-97d0-7870a35892c9 div.sk-parallel-item:last-child::after {align-self: flex-start;width: 50%;}#sk-94d896e4-d636-4626-97d0-7870a35892c9 div.sk-parallel-item:only-child::after {width: 0;}#sk-94d896e4-d636-4626-97d0-7870a35892c9 div.sk-dashed-wrapped {border: 1px dashed gray;margin: 0 0.4em 0.5em 0.4em;box-sizing: border-box;padding-bottom: 0.4em;background-color: white;position: relative;}#sk-94d896e4-d636-4626-97d0-7870a35892c9 div.sk-label label {font-family: monospace;font-weight: bold;background-color: white;display: inline-block;line-height: 1.2em;}#sk-94d896e4-d636-4626-97d0-7870a35892c9 div.sk-label-container {position: relative;z-index: 2;text-align: center;}#sk-94d896e4-d636-4626-97d0-7870a35892c9 div.sk-container {display: inline-block;position: relative;}</style><div id=\"sk-94d896e4-d636-4626-97d0-7870a35892c9\" class\"sk-top-container\"><div class=\"sk-container\"><div class=\"sk-item sk-dashed-wrapped\"><div class=\"sk-label-container\"><div class=\"sk-label sk-toggleable\"><input class=\"sk-toggleable__control sk-hidden--visually\" id=\"749ed8e8-3397-4ce7-8676-16790747cd1d\" type=\"checkbox\" ><label class=\"sk-toggleable__label\" for=\"749ed8e8-3397-4ce7-8676-16790747cd1d\">Pipeline</label><div class=\"sk-toggleable__content\"><pre>Pipeline(steps=[('columntransformer',\n                 ColumnTransformer(transformers=[('minmaxscaler',\n                                                  MinMaxScaler(),\n                                                  Index(['Principal', 'terms', 'age', 'Gender', 'weekend', 'Bechalor',\n       'High School or Below', 'college'],\n      dtype='object'))])),\n                ('decisiontreeclassifier', DecisionTreeClassifier())])</pre></div></div></div><div class=\"sk-serial\"><div class=\"sk-item sk-dashed-wrapped\"><div class=\"sk-label-container\"><div class=\"sk-label sk-toggleable\"><input class=\"sk-toggleable__control sk-hidden--visually\" id=\"0d7ce0e3-bfd1-4ad8-8586-636dc0e947f9\" type=\"checkbox\" ><label class=\"sk-toggleable__label\" for=\"0d7ce0e3-bfd1-4ad8-8586-636dc0e947f9\">columntransformer: ColumnTransformer</label><div class=\"sk-toggleable__content\"><pre>ColumnTransformer(transformers=[('minmaxscaler', MinMaxScaler(),\n                                 Index(['Principal', 'terms', 'age', 'Gender', 'weekend', 'Bechalor',\n       'High School or Below', 'college'],\n      dtype='object'))])</pre></div></div></div><div class=\"sk-parallel\"><div class=\"sk-parallel-item\"><div class=\"sk-item\"><div class=\"sk-label-container\"><div class=\"sk-label sk-toggleable\"><input class=\"sk-toggleable__control sk-hidden--visually\" id=\"61a34ea8-26ae-46fa-9d25-b65f21dde6e4\" type=\"checkbox\" ><label class=\"sk-toggleable__label\" for=\"61a34ea8-26ae-46fa-9d25-b65f21dde6e4\">minmaxscaler</label><div class=\"sk-toggleable__content\"><pre>Index(['Principal', 'terms', 'age', 'Gender', 'weekend', 'Bechalor',\n       'High School or Below', 'college'],\n      dtype='object')</pre></div></div></div><div class=\"sk-serial\"><div class=\"sk-item\"><div class=\"sk-estimator sk-toggleable\"><input class=\"sk-toggleable__control sk-hidden--visually\" id=\"f0ab2fad-4edd-4c50-9fa8-105c638e5fa3\" type=\"checkbox\" ><label class=\"sk-toggleable__label\" for=\"f0ab2fad-4edd-4c50-9fa8-105c638e5fa3\">MinMaxScaler</label><div class=\"sk-toggleable__content\"><pre>MinMaxScaler()</pre></div></div></div></div></div></div></div></div><div class=\"sk-item\"><div class=\"sk-estimator sk-toggleable\"><input class=\"sk-toggleable__control sk-hidden--visually\" id=\"e3e3bee7-4671-43bc-a45b-161e82e5463e\" type=\"checkbox\" ><label class=\"sk-toggleable__label\" for=\"e3e3bee7-4671-43bc-a45b-161e82e5463e\">DecisionTreeClassifier</label><div class=\"sk-toggleable__content\"><pre>DecisionTreeClassifier()</pre></div></div></div></div></div></div></div>",
                        "text/plain": "Pipeline(steps=[('columntransformer',\n                 ColumnTransformer(transformers=[('minmaxscaler',\n                                                  MinMaxScaler(),\n                                                  Index(['Principal', 'terms', 'age', 'Gender', 'weekend', 'Bechalor',\n       'High School or Below', 'college'],\n      dtype='object'))])),\n                ('decisiontreeclassifier', DecisionTreeClassifier())])"
                    },
                    "execution_count": 51,
                    "metadata": {},
                    "output_type": "execute_result"
                }
            ],
            "source": "dt_model = make_pipeline(ct,DecisionTreeClassifier())\ndt_model.fit(X,y)"
        },
        {
            "cell_type": "markdown",
            "metadata": {},
            "source": "# Support Vector Machine\n"
        },
        {
            "cell_type": "code",
            "execution_count": 52,
            "metadata": {},
            "outputs": [],
            "source": "from sklearn.svm import SVC"
        },
        {
            "cell_type": "markdown",
            "metadata": {},
            "source": "#### search for the best kernel"
        },
        {
            "cell_type": "code",
            "execution_count": 80,
            "metadata": {},
            "outputs": [],
            "source": "kernels = ['linear','rbf','sigmoid']\nsvc_score = []\nfor i in kernels:\n    svc = make_pipeline(ct,SVC(kernel = i))\n    #cross validate the model\n    svc_cv = cross_val_score(svc,X,y,cv = 10)\n    #take the mean of the cv\n    svc_mean = svc_cv.mean()\n    #append to svc_score list\n    svc_score.append(svc_mean)"
        },
        {
            "cell_type": "code",
            "execution_count": 81,
            "metadata": {},
            "outputs": [
                {
                    "data": {
                        "image/png": "[encoded data removed]",
                        "text/plain": "<Figure size 432x288 with 1 Axes>"
                    },
                    "metadata": {
                        "needs_background": "light"
                    },
                    "output_type": "display_data"
                }
            ],
            "source": "plt.plot(kernels,svc_score);"
        },
        {
            "cell_type": "code",
            "execution_count": 82,
            "metadata": {},
            "outputs": [
                {
                    "data": {
                        "text/plain": "0.7515966386554622"
                    },
                    "execution_count": 82,
                    "metadata": {},
                    "output_type": "execute_result"
                }
            ],
            "source": "np.max(svc_score)"
        },
        {
            "cell_type": "code",
            "execution_count": 59,
            "metadata": {},
            "outputs": [],
            "source": "svc_pipe = make_pipeline(ct,SVC(kernel = 'linear'))"
        },
        {
            "cell_type": "code",
            "execution_count": 83,
            "metadata": {
                "scrolled": true
            },
            "outputs": [
                {
                    "data": {
                        "text/html": "<style>#sk-0101b717-9424-4b81-9dff-db9798790589 {color: black;background-color: white;}#sk-0101b717-9424-4b81-9dff-db9798790589 pre{padding: 0;}#sk-0101b717-9424-4b81-9dff-db9798790589 div.sk-toggleable {background-color: white;}#sk-0101b717-9424-4b81-9dff-db9798790589 label.sk-toggleable__label {cursor: pointer;display: block;width: 100%;margin-bottom: 0;padding: 0.3em;box-sizing: border-box;text-align: center;}#sk-0101b717-9424-4b81-9dff-db9798790589 div.sk-toggleable__content {max-height: 0;max-width: 0;overflow: hidden;text-align: left;background-color: #f0f8ff;}#sk-0101b717-9424-4b81-9dff-db9798790589 div.sk-toggleable__content pre {margin: 0.2em;color: black;border-radius: 0.25em;background-color: #f0f8ff;}#sk-0101b717-9424-4b81-9dff-db9798790589 input.sk-toggleable__control:checked~div.sk-toggleable__content {max-height: 200px;max-width: 100%;overflow: auto;}#sk-0101b717-9424-4b81-9dff-db9798790589 div.sk-estimator input.sk-toggleable__control:checked~label.sk-toggleable__label {background-color: #d4ebff;}#sk-0101b717-9424-4b81-9dff-db9798790589 div.sk-label input.sk-toggleable__control:checked~label.sk-toggleable__label {background-color: #d4ebff;}#sk-0101b717-9424-4b81-9dff-db9798790589 input.sk-hidden--visually {border: 0;clip: rect(1px 1px 1px 1px);clip: rect(1px, 1px, 1px, 1px);height: 1px;margin: -1px;overflow: hidden;padding: 0;position: absolute;width: 1px;}#sk-0101b717-9424-4b81-9dff-db9798790589 div.sk-estimator {font-family: monospace;background-color: #f0f8ff;border: 1px dotted black;border-radius: 0.25em;box-sizing: border-box;margin-bottom: 0.5em;}#sk-0101b717-9424-4b81-9dff-db9798790589 div.sk-estimator:hover {background-color: #d4ebff;}#sk-0101b717-9424-4b81-9dff-db9798790589 div.sk-parallel-item::after {content: \"\";width: 100%;border-bottom: 1px solid gray;flex-grow: 1;}#sk-0101b717-9424-4b81-9dff-db9798790589 div.sk-label:hover label.sk-toggleable__label {background-color: #d4ebff;}#sk-0101b717-9424-4b81-9dff-db9798790589 div.sk-serial::before {content: \"\";position: absolute;border-left: 1px solid gray;box-sizing: border-box;top: 2em;bottom: 0;left: 50%;}#sk-0101b717-9424-4b81-9dff-db9798790589 div.sk-serial {display: flex;flex-direction: column;align-items: center;background-color: white;padding-right: 0.2em;padding-left: 0.2em;}#sk-0101b717-9424-4b81-9dff-db9798790589 div.sk-item {z-index: 1;}#sk-0101b717-9424-4b81-9dff-db9798790589 div.sk-parallel {display: flex;align-items: stretch;justify-content: center;background-color: white;}#sk-0101b717-9424-4b81-9dff-db9798790589 div.sk-parallel::before {content: \"\";position: absolute;border-left: 1px solid gray;box-sizing: border-box;top: 2em;bottom: 0;left: 50%;}#sk-0101b717-9424-4b81-9dff-db9798790589 div.sk-parallel-item {display: flex;flex-direction: column;position: relative;background-color: white;}#sk-0101b717-9424-4b81-9dff-db9798790589 div.sk-parallel-item:first-child::after {align-self: flex-end;width: 50%;}#sk-0101b717-9424-4b81-9dff-db9798790589 div.sk-parallel-item:last-child::after {align-self: flex-start;width: 50%;}#sk-0101b717-9424-4b81-9dff-db9798790589 div.sk-parallel-item:only-child::after {width: 0;}#sk-0101b717-9424-4b81-9dff-db9798790589 div.sk-dashed-wrapped {border: 1px dashed gray;margin: 0 0.4em 0.5em 0.4em;box-sizing: border-box;padding-bottom: 0.4em;background-color: white;position: relative;}#sk-0101b717-9424-4b81-9dff-db9798790589 div.sk-label label {font-family: monospace;font-weight: bold;background-color: white;display: inline-block;line-height: 1.2em;}#sk-0101b717-9424-4b81-9dff-db9798790589 div.sk-label-container {position: relative;z-index: 2;text-align: center;}#sk-0101b717-9424-4b81-9dff-db9798790589 div.sk-container {display: inline-block;position: relative;}</style><div id=\"sk-0101b717-9424-4b81-9dff-db9798790589\" class\"sk-top-container\"><div class=\"sk-container\"><div class=\"sk-item sk-dashed-wrapped\"><div class=\"sk-label-container\"><div class=\"sk-label sk-toggleable\"><input class=\"sk-toggleable__control sk-hidden--visually\" id=\"6e585543-1252-4e21-82fd-fab6335f00b6\" type=\"checkbox\" ><label class=\"sk-toggleable__label\" for=\"6e585543-1252-4e21-82fd-fab6335f00b6\">GridSearchCV</label><div class=\"sk-toggleable__content\"><pre>GridSearchCV(cv=10,\n             estimator=Pipeline(steps=[('columntransformer',\n                                        ColumnTransformer(transformers=[('minmaxscaler',\n                                                                         MinMaxScaler(),\n                                                                         Index(['Principal', 'terms', 'age', 'Gender', 'weekend', 'Bechalor',\n       'High School or Below', 'college'],\n      dtype='object'))])),\n                                       ('svc', SVC(kernel='linear'))]),\n             n_jobs=-1,\n             param_grid=[{'columntransformer__minmaxscaler': [StandardScaler()],...\n                         {'svc__C': array([ 1,  2,  3,  4,  5,  6,  7,  8,  9, 10, 11, 12, 13, 14, 15, 16, 17,\n       18, 19, 20, 21, 22, 23, 24, 25, 26, 27, 28, 29, 30, 31, 32, 33, 34,\n       35, 36, 37, 38, 39, 40, 41, 42, 43, 44, 45, 46, 47, 48, 49, 50, 51,\n       52, 53, 54, 55, 56, 57, 58, 59, 60, 61, 62, 63, 64, 65, 66, 67, 68,\n       69, 70, 71, 72, 73, 74, 75, 76, 77, 78, 79, 80, 81, 82, 83, 84, 85,\n       86, 87, 88, 89, 90, 91, 92, 93, 94, 95, 96, 97, 98, 99]),\n                          'svc__gamma': ['scale', 'auto'],\n                          'svc__kernel': ['linear', 'sigmoid', 'rbf']}])</pre></div></div></div><div class=\"sk-parallel\"><div class=\"sk-parallel-item\"><div class=\"sk-item\"><div class=\"sk-serial\"><div class=\"sk-item\"><div class=\"sk-serial\"><div class=\"sk-item sk-dashed-wrapped\"><div class=\"sk-label-container\"><div class=\"sk-label sk-toggleable\"><input class=\"sk-toggleable__control sk-hidden--visually\" id=\"bdfb7752-fd78-4770-8b1a-6614a1ed08dc\" type=\"checkbox\" ><label class=\"sk-toggleable__label\" for=\"bdfb7752-fd78-4770-8b1a-6614a1ed08dc\">columntransformer: ColumnTransformer</label><div class=\"sk-toggleable__content\"><pre>ColumnTransformer(transformers=[('minmaxscaler', MinMaxScaler(),\n                                 Index(['Principal', 'terms', 'age', 'Gender', 'weekend', 'Bechalor',\n       'High School or Below', 'college'],\n      dtype='object'))])</pre></div></div></div><div class=\"sk-parallel\"><div class=\"sk-parallel-item\"><div class=\"sk-item\"><div class=\"sk-label-container\"><div class=\"sk-label sk-toggleable\"><input class=\"sk-toggleable__control sk-hidden--visually\" id=\"d4f3dcd4-54db-4070-8806-760cdd40ab4b\" type=\"checkbox\" ><label class=\"sk-toggleable__label\" for=\"d4f3dcd4-54db-4070-8806-760cdd40ab4b\">minmaxscaler</label><div class=\"sk-toggleable__content\"><pre>Index(['Principal', 'terms', 'age', 'Gender', 'weekend', 'Bechalor',\n       'High School or Below', 'college'],\n      dtype='object')</pre></div></div></div><div class=\"sk-serial\"><div class=\"sk-item\"><div class=\"sk-estimator sk-toggleable\"><input class=\"sk-toggleable__control sk-hidden--visually\" id=\"4e23b2fa-b094-4884-9d4e-d52a4107028b\" type=\"checkbox\" ><label class=\"sk-toggleable__label\" for=\"4e23b2fa-b094-4884-9d4e-d52a4107028b\">MinMaxScaler</label><div class=\"sk-toggleable__content\"><pre>MinMaxScaler()</pre></div></div></div></div></div></div></div></div><div class=\"sk-item\"><div class=\"sk-estimator sk-toggleable\"><input class=\"sk-toggleable__control sk-hidden--visually\" id=\"d472e825-84a6-4c4c-b61e-be27cae4a121\" type=\"checkbox\" ><label class=\"sk-toggleable__label\" for=\"d472e825-84a6-4c4c-b61e-be27cae4a121\">SVC</label><div class=\"sk-toggleable__content\"><pre>SVC(kernel='linear')</pre></div></div></div></div></div></div></div></div></div></div></div></div>",
                        "text/plain": "GridSearchCV(cv=10,\n             estimator=Pipeline(steps=[('columntransformer',\n                                        ColumnTransformer(transformers=[('minmaxscaler',\n                                                                         MinMaxScaler(),\n                                                                         Index(['Principal', 'terms', 'age', 'Gender', 'weekend', 'Bechalor',\n       'High School or Below', 'college'],\n      dtype='object'))])),\n                                       ('svc', SVC(kernel='linear'))]),\n             n_jobs=-1,\n             param_grid=[{'columntransformer__minmaxscaler': [StandardScaler()],...\n                         {'svc__C': array([ 1,  2,  3,  4,  5,  6,  7,  8,  9, 10, 11, 12, 13, 14, 15, 16, 17,\n       18, 19, 20, 21, 22, 23, 24, 25, 26, 27, 28, 29, 30, 31, 32, 33, 34,\n       35, 36, 37, 38, 39, 40, 41, 42, 43, 44, 45, 46, 47, 48, 49, 50, 51,\n       52, 53, 54, 55, 56, 57, 58, 59, 60, 61, 62, 63, 64, 65, 66, 67, 68,\n       69, 70, 71, 72, 73, 74, 75, 76, 77, 78, 79, 80, 81, 82, 83, 84, 85,\n       86, 87, 88, 89, 90, 91, 92, 93, 94, 95, 96, 97, 98, 99]),\n                          'svc__gamma': ['scale', 'auto'],\n                          'svc__kernel': ['linear', 'sigmoid', 'rbf']}])"
                    },
                    "execution_count": 83,
                    "metadata": {},
                    "output_type": "execute_result"
                }
            ],
            "source": "# Try Tuning More Hyperparameters for optimal model performance\nsvc_params = [{'svc__kernel':['linear'],\n              'svc__gamma':['scale','auto'],\n              'svc__C':np.arange(1,10),\n              'columntransformer__minmaxscaler':[StandardScaler()]},\n              {'svc__kernel':['linear','sigmoid','rbf'],\n              'svc__gamma':['scale','auto'],\n              'svc__C':np.arange(1,100)}]\n\nsvc_gscv = GridSearchCV(svc_pipe,param_grid=svc_params,cv = 10,n_jobs = -1)\nsvc_gscv.fit(X_train,y_train)"
        },
        {
            "cell_type": "code",
            "execution_count": 84,
            "metadata": {
                "scrolled": true
            },
            "outputs": [
                {
                    "data": {
                        "image/png": "[encoded data removed]",
                        "text/plain": "<Figure size 432x288 with 2 Axes>"
                    },
                    "metadata": {
                        "needs_background": "light"
                    },
                    "output_type": "display_data"
                }
            ],
            "source": "svc_gscv_predicted = svc_gscv.predict(X_test)\ncm_matrix(y_test,svc_gscv_predicted);"
        },
        {
            "cell_type": "code",
            "execution_count": 85,
            "metadata": {},
            "outputs": [
                {
                    "data": {
                        "text/plain": "0.7891891891891892"
                    },
                    "execution_count": 85,
                    "metadata": {},
                    "output_type": "execute_result"
                }
            ],
            "source": "svc_gscv.best_score_"
        },
        {
            "cell_type": "code",
            "execution_count": 86,
            "metadata": {},
            "outputs": [
                {
                    "name": "stdout",
                    "output_type": "stream",
                    "text": "              precision    recall  f1-score   support\n\n  COLLECTION       0.41      0.73      0.53        26\n     PAIDOFF       0.88      0.65      0.75        78\n\n    accuracy                           0.67       104\n   macro avg       0.65      0.69      0.64       104\nweighted avg       0.76      0.67      0.69       104\n\n"
                }
            ],
            "source": "print(classification_report(y_test,svc_gscv_predicted))"
        },
        {
            "cell_type": "markdown",
            "metadata": {},
            "source": "### final Support Vector Machines Model"
        },
        {
            "cell_type": "code",
            "execution_count": 87,
            "metadata": {},
            "outputs": [
                {
                    "data": {
                        "text/html": "<style>#sk-bd3aff63-583e-4591-aa12-d4680eb9d542 {color: black;background-color: white;}#sk-bd3aff63-583e-4591-aa12-d4680eb9d542 pre{padding: 0;}#sk-bd3aff63-583e-4591-aa12-d4680eb9d542 div.sk-toggleable {background-color: white;}#sk-bd3aff63-583e-4591-aa12-d4680eb9d542 label.sk-toggleable__label {cursor: pointer;display: block;width: 100%;margin-bottom: 0;padding: 0.3em;box-sizing: border-box;text-align: center;}#sk-bd3aff63-583e-4591-aa12-d4680eb9d542 div.sk-toggleable__content {max-height: 0;max-width: 0;overflow: hidden;text-align: left;background-color: #f0f8ff;}#sk-bd3aff63-583e-4591-aa12-d4680eb9d542 div.sk-toggleable__content pre {margin: 0.2em;color: black;border-radius: 0.25em;background-color: #f0f8ff;}#sk-bd3aff63-583e-4591-aa12-d4680eb9d542 input.sk-toggleable__control:checked~div.sk-toggleable__content {max-height: 200px;max-width: 100%;overflow: auto;}#sk-bd3aff63-583e-4591-aa12-d4680eb9d542 div.sk-estimator input.sk-toggleable__control:checked~label.sk-toggleable__label {background-color: #d4ebff;}#sk-bd3aff63-583e-4591-aa12-d4680eb9d542 div.sk-label input.sk-toggleable__control:checked~label.sk-toggleable__label {background-color: #d4ebff;}#sk-bd3aff63-583e-4591-aa12-d4680eb9d542 input.sk-hidden--visually {border: 0;clip: rect(1px 1px 1px 1px);clip: rect(1px, 1px, 1px, 1px);height: 1px;margin: -1px;overflow: hidden;padding: 0;position: absolute;width: 1px;}#sk-bd3aff63-583e-4591-aa12-d4680eb9d542 div.sk-estimator {font-family: monospace;background-color: #f0f8ff;border: 1px dotted black;border-radius: 0.25em;box-sizing: border-box;margin-bottom: 0.5em;}#sk-bd3aff63-583e-4591-aa12-d4680eb9d542 div.sk-estimator:hover {background-color: #d4ebff;}#sk-bd3aff63-583e-4591-aa12-d4680eb9d542 div.sk-parallel-item::after {content: \"\";width: 100%;border-bottom: 1px solid gray;flex-grow: 1;}#sk-bd3aff63-583e-4591-aa12-d4680eb9d542 div.sk-label:hover label.sk-toggleable__label {background-color: #d4ebff;}#sk-bd3aff63-583e-4591-aa12-d4680eb9d542 div.sk-serial::before {content: \"\";position: absolute;border-left: 1px solid gray;box-sizing: border-box;top: 2em;bottom: 0;left: 50%;}#sk-bd3aff63-583e-4591-aa12-d4680eb9d542 div.sk-serial {display: flex;flex-direction: column;align-items: center;background-color: white;padding-right: 0.2em;padding-left: 0.2em;}#sk-bd3aff63-583e-4591-aa12-d4680eb9d542 div.sk-item {z-index: 1;}#sk-bd3aff63-583e-4591-aa12-d4680eb9d542 div.sk-parallel {display: flex;align-items: stretch;justify-content: center;background-color: white;}#sk-bd3aff63-583e-4591-aa12-d4680eb9d542 div.sk-parallel::before {content: \"\";position: absolute;border-left: 1px solid gray;box-sizing: border-box;top: 2em;bottom: 0;left: 50%;}#sk-bd3aff63-583e-4591-aa12-d4680eb9d542 div.sk-parallel-item {display: flex;flex-direction: column;position: relative;background-color: white;}#sk-bd3aff63-583e-4591-aa12-d4680eb9d542 div.sk-parallel-item:first-child::after {align-self: flex-end;width: 50%;}#sk-bd3aff63-583e-4591-aa12-d4680eb9d542 div.sk-parallel-item:last-child::after {align-self: flex-start;width: 50%;}#sk-bd3aff63-583e-4591-aa12-d4680eb9d542 div.sk-parallel-item:only-child::after {width: 0;}#sk-bd3aff63-583e-4591-aa12-d4680eb9d542 div.sk-dashed-wrapped {border: 1px dashed gray;margin: 0 0.4em 0.5em 0.4em;box-sizing: border-box;padding-bottom: 0.4em;background-color: white;position: relative;}#sk-bd3aff63-583e-4591-aa12-d4680eb9d542 div.sk-label label {font-family: monospace;font-weight: bold;background-color: white;display: inline-block;line-height: 1.2em;}#sk-bd3aff63-583e-4591-aa12-d4680eb9d542 div.sk-label-container {position: relative;z-index: 2;text-align: center;}#sk-bd3aff63-583e-4591-aa12-d4680eb9d542 div.sk-container {display: inline-block;position: relative;}</style><div id=\"sk-bd3aff63-583e-4591-aa12-d4680eb9d542\" class\"sk-top-container\"><div class=\"sk-container\"><div class=\"sk-item sk-dashed-wrapped\"><div class=\"sk-label-container\"><div class=\"sk-label sk-toggleable\"><input class=\"sk-toggleable__control sk-hidden--visually\" id=\"cbc3cfd8-223e-4f36-8a98-1e91c27ce00f\" type=\"checkbox\" ><label class=\"sk-toggleable__label\" for=\"cbc3cfd8-223e-4f36-8a98-1e91c27ce00f\">Pipeline</label><div class=\"sk-toggleable__content\"><pre>Pipeline(steps=[('columntransformer',\n                 ColumnTransformer(transformers=[('minmaxscaler',\n                                                  MinMaxScaler(),\n                                                  Index(['Principal', 'terms', 'age', 'Gender', 'weekend', 'Bechalor',\n       'High School or Below', 'college'],\n      dtype='object'))])),\n                ('svc', SVC(kernel='linear'))])</pre></div></div></div><div class=\"sk-serial\"><div class=\"sk-item sk-dashed-wrapped\"><div class=\"sk-label-container\"><div class=\"sk-label sk-toggleable\"><input class=\"sk-toggleable__control sk-hidden--visually\" id=\"59de7a78-0ca4-4b5a-80b9-18782da93d14\" type=\"checkbox\" ><label class=\"sk-toggleable__label\" for=\"59de7a78-0ca4-4b5a-80b9-18782da93d14\">columntransformer: ColumnTransformer</label><div class=\"sk-toggleable__content\"><pre>ColumnTransformer(transformers=[('minmaxscaler', MinMaxScaler(),\n                                 Index(['Principal', 'terms', 'age', 'Gender', 'weekend', 'Bechalor',\n       'High School or Below', 'college'],\n      dtype='object'))])</pre></div></div></div><div class=\"sk-parallel\"><div class=\"sk-parallel-item\"><div class=\"sk-item\"><div class=\"sk-label-container\"><div class=\"sk-label sk-toggleable\"><input class=\"sk-toggleable__control sk-hidden--visually\" id=\"74c36faa-6c07-4217-90bb-7cde3cbb25bc\" type=\"checkbox\" ><label class=\"sk-toggleable__label\" for=\"74c36faa-6c07-4217-90bb-7cde3cbb25bc\">minmaxscaler</label><div class=\"sk-toggleable__content\"><pre>Index(['Principal', 'terms', 'age', 'Gender', 'weekend', 'Bechalor',\n       'High School or Below', 'college'],\n      dtype='object')</pre></div></div></div><div class=\"sk-serial\"><div class=\"sk-item\"><div class=\"sk-estimator sk-toggleable\"><input class=\"sk-toggleable__control sk-hidden--visually\" id=\"f9ca8d19-e85b-4b83-8d08-b9631cf22e7c\" type=\"checkbox\" ><label class=\"sk-toggleable__label\" for=\"f9ca8d19-e85b-4b83-8d08-b9631cf22e7c\">MinMaxScaler</label><div class=\"sk-toggleable__content\"><pre>MinMaxScaler()</pre></div></div></div></div></div></div></div></div><div class=\"sk-item\"><div class=\"sk-estimator sk-toggleable\"><input class=\"sk-toggleable__control sk-hidden--visually\" id=\"ea301a09-dead-4a2c-9411-6196c16c875d\" type=\"checkbox\" ><label class=\"sk-toggleable__label\" for=\"ea301a09-dead-4a2c-9411-6196c16c875d\">SVC</label><div class=\"sk-toggleable__content\"><pre>SVC(kernel='linear')</pre></div></div></div></div></div></div></div>",
                        "text/plain": "Pipeline(steps=[('columntransformer',\n                 ColumnTransformer(transformers=[('minmaxscaler',\n                                                  MinMaxScaler(),\n                                                  Index(['Principal', 'terms', 'age', 'Gender', 'weekend', 'Bechalor',\n       'High School or Below', 'college'],\n      dtype='object'))])),\n                ('svc', SVC(kernel='linear'))])"
                    },
                    "execution_count": 87,
                    "metadata": {},
                    "output_type": "execute_result"
                }
            ],
            "source": "svc_model = SVC(kernel = 'linear')\nsvc_model = svc_pipe.fit(X,y)\nsvc_model"
        },
        {
            "cell_type": "markdown",
            "metadata": {},
            "source": "# Logistic Regression\n"
        },
        {
            "cell_type": "code",
            "execution_count": 95,
            "metadata": {},
            "outputs": [],
            "source": "from sklearn.linear_model import LogisticRegression"
        },
        {
            "cell_type": "code",
            "execution_count": 96,
            "metadata": {},
            "outputs": [],
            "source": "logreg_pipe = make_pipeline(ct,LogisticRegression())"
        },
        {
            "cell_type": "code",
            "execution_count": 97,
            "metadata": {},
            "outputs": [
                {
                    "data": {
                        "text/html": "<style>#sk-7fb2a8a7-8964-48aa-a4bd-9b1807f7121a {color: black;background-color: white;}#sk-7fb2a8a7-8964-48aa-a4bd-9b1807f7121a pre{padding: 0;}#sk-7fb2a8a7-8964-48aa-a4bd-9b1807f7121a div.sk-toggleable {background-color: white;}#sk-7fb2a8a7-8964-48aa-a4bd-9b1807f7121a label.sk-toggleable__label {cursor: pointer;display: block;width: 100%;margin-bottom: 0;padding: 0.3em;box-sizing: border-box;text-align: center;}#sk-7fb2a8a7-8964-48aa-a4bd-9b1807f7121a div.sk-toggleable__content {max-height: 0;max-width: 0;overflow: hidden;text-align: left;background-color: #f0f8ff;}#sk-7fb2a8a7-8964-48aa-a4bd-9b1807f7121a div.sk-toggleable__content pre {margin: 0.2em;color: black;border-radius: 0.25em;background-color: #f0f8ff;}#sk-7fb2a8a7-8964-48aa-a4bd-9b1807f7121a input.sk-toggleable__control:checked~div.sk-toggleable__content {max-height: 200px;max-width: 100%;overflow: auto;}#sk-7fb2a8a7-8964-48aa-a4bd-9b1807f7121a div.sk-estimator input.sk-toggleable__control:checked~label.sk-toggleable__label {background-color: #d4ebff;}#sk-7fb2a8a7-8964-48aa-a4bd-9b1807f7121a div.sk-label input.sk-toggleable__control:checked~label.sk-toggleable__label {background-color: #d4ebff;}#sk-7fb2a8a7-8964-48aa-a4bd-9b1807f7121a input.sk-hidden--visually {border: 0;clip: rect(1px 1px 1px 1px);clip: rect(1px, 1px, 1px, 1px);height: 1px;margin: -1px;overflow: hidden;padding: 0;position: absolute;width: 1px;}#sk-7fb2a8a7-8964-48aa-a4bd-9b1807f7121a div.sk-estimator {font-family: monospace;background-color: #f0f8ff;border: 1px dotted black;border-radius: 0.25em;box-sizing: border-box;margin-bottom: 0.5em;}#sk-7fb2a8a7-8964-48aa-a4bd-9b1807f7121a div.sk-estimator:hover {background-color: #d4ebff;}#sk-7fb2a8a7-8964-48aa-a4bd-9b1807f7121a div.sk-parallel-item::after {content: \"\";width: 100%;border-bottom: 1px solid gray;flex-grow: 1;}#sk-7fb2a8a7-8964-48aa-a4bd-9b1807f7121a div.sk-label:hover label.sk-toggleable__label {background-color: #d4ebff;}#sk-7fb2a8a7-8964-48aa-a4bd-9b1807f7121a div.sk-serial::before {content: \"\";position: absolute;border-left: 1px solid gray;box-sizing: border-box;top: 2em;bottom: 0;left: 50%;}#sk-7fb2a8a7-8964-48aa-a4bd-9b1807f7121a div.sk-serial {display: flex;flex-direction: column;align-items: center;background-color: white;padding-right: 0.2em;padding-left: 0.2em;}#sk-7fb2a8a7-8964-48aa-a4bd-9b1807f7121a div.sk-item {z-index: 1;}#sk-7fb2a8a7-8964-48aa-a4bd-9b1807f7121a div.sk-parallel {display: flex;align-items: stretch;justify-content: center;background-color: white;}#sk-7fb2a8a7-8964-48aa-a4bd-9b1807f7121a div.sk-parallel::before {content: \"\";position: absolute;border-left: 1px solid gray;box-sizing: border-box;top: 2em;bottom: 0;left: 50%;}#sk-7fb2a8a7-8964-48aa-a4bd-9b1807f7121a div.sk-parallel-item {display: flex;flex-direction: column;position: relative;background-color: white;}#sk-7fb2a8a7-8964-48aa-a4bd-9b1807f7121a div.sk-parallel-item:first-child::after {align-self: flex-end;width: 50%;}#sk-7fb2a8a7-8964-48aa-a4bd-9b1807f7121a div.sk-parallel-item:last-child::after {align-self: flex-start;width: 50%;}#sk-7fb2a8a7-8964-48aa-a4bd-9b1807f7121a div.sk-parallel-item:only-child::after {width: 0;}#sk-7fb2a8a7-8964-48aa-a4bd-9b1807f7121a div.sk-dashed-wrapped {border: 1px dashed gray;margin: 0 0.4em 0.5em 0.4em;box-sizing: border-box;padding-bottom: 0.4em;background-color: white;position: relative;}#sk-7fb2a8a7-8964-48aa-a4bd-9b1807f7121a div.sk-label label {font-family: monospace;font-weight: bold;background-color: white;display: inline-block;line-height: 1.2em;}#sk-7fb2a8a7-8964-48aa-a4bd-9b1807f7121a div.sk-label-container {position: relative;z-index: 2;text-align: center;}#sk-7fb2a8a7-8964-48aa-a4bd-9b1807f7121a div.sk-container {display: inline-block;position: relative;}</style><div id=\"sk-7fb2a8a7-8964-48aa-a4bd-9b1807f7121a\" class\"sk-top-container\"><div class=\"sk-container\"><div class=\"sk-item sk-dashed-wrapped\"><div class=\"sk-label-container\"><div class=\"sk-label sk-toggleable\"><input class=\"sk-toggleable__control sk-hidden--visually\" id=\"6be0c59e-f8cd-48ce-94aa-8086760fb91d\" type=\"checkbox\" ><label class=\"sk-toggleable__label\" for=\"6be0c59e-f8cd-48ce-94aa-8086760fb91d\">Pipeline</label><div class=\"sk-toggleable__content\"><pre>Pipeline(steps=[('columntransformer',\n                 ColumnTransformer(transformers=[('minmaxscaler',\n                                                  MinMaxScaler(),\n                                                  Index(['Principal', 'terms', 'age', 'Gender', 'weekend', 'Bechalor',\n       'High School or Below', 'college'],\n      dtype='object'))])),\n                ('logisticregression', LogisticRegression())])</pre></div></div></div><div class=\"sk-serial\"><div class=\"sk-item sk-dashed-wrapped\"><div class=\"sk-label-container\"><div class=\"sk-label sk-toggleable\"><input class=\"sk-toggleable__control sk-hidden--visually\" id=\"0d0e64e2-8a33-4f47-9af3-e1f6e5c8c9ba\" type=\"checkbox\" ><label class=\"sk-toggleable__label\" for=\"0d0e64e2-8a33-4f47-9af3-e1f6e5c8c9ba\">columntransformer: ColumnTransformer</label><div class=\"sk-toggleable__content\"><pre>ColumnTransformer(transformers=[('minmaxscaler', MinMaxScaler(),\n                                 Index(['Principal', 'terms', 'age', 'Gender', 'weekend', 'Bechalor',\n       'High School or Below', 'college'],\n      dtype='object'))])</pre></div></div></div><div class=\"sk-parallel\"><div class=\"sk-parallel-item\"><div class=\"sk-item\"><div class=\"sk-label-container\"><div class=\"sk-label sk-toggleable\"><input class=\"sk-toggleable__control sk-hidden--visually\" id=\"fbaa5187-d03b-43b7-aac7-1b64b593169b\" type=\"checkbox\" ><label class=\"sk-toggleable__label\" for=\"fbaa5187-d03b-43b7-aac7-1b64b593169b\">minmaxscaler</label><div class=\"sk-toggleable__content\"><pre>Index(['Principal', 'terms', 'age', 'Gender', 'weekend', 'Bechalor',\n       'High School or Below', 'college'],\n      dtype='object')</pre></div></div></div><div class=\"sk-serial\"><div class=\"sk-item\"><div class=\"sk-estimator sk-toggleable\"><input class=\"sk-toggleable__control sk-hidden--visually\" id=\"462c1a2f-e49e-4fbe-ac73-ac41948cddc4\" type=\"checkbox\" ><label class=\"sk-toggleable__label\" for=\"462c1a2f-e49e-4fbe-ac73-ac41948cddc4\">MinMaxScaler</label><div class=\"sk-toggleable__content\"><pre>MinMaxScaler()</pre></div></div></div></div></div></div></div></div><div class=\"sk-item\"><div class=\"sk-estimator sk-toggleable\"><input class=\"sk-toggleable__control sk-hidden--visually\" id=\"3a46f44e-b29a-42c2-bb84-795e4b067ba1\" type=\"checkbox\" ><label class=\"sk-toggleable__label\" for=\"3a46f44e-b29a-42c2-bb84-795e4b067ba1\">LogisticRegression</label><div class=\"sk-toggleable__content\"><pre>LogisticRegression()</pre></div></div></div></div></div></div></div>",
                        "text/plain": "Pipeline(steps=[('columntransformer',\n                 ColumnTransformer(transformers=[('minmaxscaler',\n                                                  MinMaxScaler(),\n                                                  Index(['Principal', 'terms', 'age', 'Gender', 'weekend', 'Bechalor',\n       'High School or Below', 'college'],\n      dtype='object'))])),\n                ('logisticregression', LogisticRegression())])"
                    },
                    "execution_count": 97,
                    "metadata": {},
                    "output_type": "execute_result"
                }
            ],
            "source": "logreg_pipe"
        },
        {
            "cell_type": "code",
            "execution_count": 98,
            "metadata": {},
            "outputs": [],
            "source": "#Tune the Logistic Regression's Parameters with Grid Search\nlogreg_params = [{\"logisticregression__penalty\": ['l2'],\n                 \"logisticregression__C\": np.logspace(0, 4, 10)},\n                 {\"logisticregression__penalty\" : ['l2'],\n                 \"logisticregression__C\": np.logspace(0, 4, 10),\n                 \"logisticregression__solver\":['newton-cg','saga','sag','liblinear'] ##This solvers don't allow L1 penalty\n                 }]"
        },
        {
            "cell_type": "code",
            "execution_count": 102,
            "metadata": {
                "scrolled": true
            },
            "outputs": [
                {
                    "data": {
                        "text/html": "<style>#sk-0f36d4dd-705a-4822-a6d3-9308e5d3b0e4 {color: black;background-color: white;}#sk-0f36d4dd-705a-4822-a6d3-9308e5d3b0e4 pre{padding: 0;}#sk-0f36d4dd-705a-4822-a6d3-9308e5d3b0e4 div.sk-toggleable {background-color: white;}#sk-0f36d4dd-705a-4822-a6d3-9308e5d3b0e4 label.sk-toggleable__label {cursor: pointer;display: block;width: 100%;margin-bottom: 0;padding: 0.3em;box-sizing: border-box;text-align: center;}#sk-0f36d4dd-705a-4822-a6d3-9308e5d3b0e4 div.sk-toggleable__content {max-height: 0;max-width: 0;overflow: hidden;text-align: left;background-color: #f0f8ff;}#sk-0f36d4dd-705a-4822-a6d3-9308e5d3b0e4 div.sk-toggleable__content pre {margin: 0.2em;color: black;border-radius: 0.25em;background-color: #f0f8ff;}#sk-0f36d4dd-705a-4822-a6d3-9308e5d3b0e4 input.sk-toggleable__control:checked~div.sk-toggleable__content {max-height: 200px;max-width: 100%;overflow: auto;}#sk-0f36d4dd-705a-4822-a6d3-9308e5d3b0e4 div.sk-estimator input.sk-toggleable__control:checked~label.sk-toggleable__label {background-color: #d4ebff;}#sk-0f36d4dd-705a-4822-a6d3-9308e5d3b0e4 div.sk-label input.sk-toggleable__control:checked~label.sk-toggleable__label {background-color: #d4ebff;}#sk-0f36d4dd-705a-4822-a6d3-9308e5d3b0e4 input.sk-hidden--visually {border: 0;clip: rect(1px 1px 1px 1px);clip: rect(1px, 1px, 1px, 1px);height: 1px;margin: -1px;overflow: hidden;padding: 0;position: absolute;width: 1px;}#sk-0f36d4dd-705a-4822-a6d3-9308e5d3b0e4 div.sk-estimator {font-family: monospace;background-color: #f0f8ff;border: 1px dotted black;border-radius: 0.25em;box-sizing: border-box;margin-bottom: 0.5em;}#sk-0f36d4dd-705a-4822-a6d3-9308e5d3b0e4 div.sk-estimator:hover {background-color: #d4ebff;}#sk-0f36d4dd-705a-4822-a6d3-9308e5d3b0e4 div.sk-parallel-item::after {content: \"\";width: 100%;border-bottom: 1px solid gray;flex-grow: 1;}#sk-0f36d4dd-705a-4822-a6d3-9308e5d3b0e4 div.sk-label:hover label.sk-toggleable__label {background-color: #d4ebff;}#sk-0f36d4dd-705a-4822-a6d3-9308e5d3b0e4 div.sk-serial::before {content: \"\";position: absolute;border-left: 1px solid gray;box-sizing: border-box;top: 2em;bottom: 0;left: 50%;}#sk-0f36d4dd-705a-4822-a6d3-9308e5d3b0e4 div.sk-serial {display: flex;flex-direction: column;align-items: center;background-color: white;padding-right: 0.2em;padding-left: 0.2em;}#sk-0f36d4dd-705a-4822-a6d3-9308e5d3b0e4 div.sk-item {z-index: 1;}#sk-0f36d4dd-705a-4822-a6d3-9308e5d3b0e4 div.sk-parallel {display: flex;align-items: stretch;justify-content: center;background-color: white;}#sk-0f36d4dd-705a-4822-a6d3-9308e5d3b0e4 div.sk-parallel::before {content: \"\";position: absolute;border-left: 1px solid gray;box-sizing: border-box;top: 2em;bottom: 0;left: 50%;}#sk-0f36d4dd-705a-4822-a6d3-9308e5d3b0e4 div.sk-parallel-item {display: flex;flex-direction: column;position: relative;background-color: white;}#sk-0f36d4dd-705a-4822-a6d3-9308e5d3b0e4 div.sk-parallel-item:first-child::after {align-self: flex-end;width: 50%;}#sk-0f36d4dd-705a-4822-a6d3-9308e5d3b0e4 div.sk-parallel-item:last-child::after {align-self: flex-start;width: 50%;}#sk-0f36d4dd-705a-4822-a6d3-9308e5d3b0e4 div.sk-parallel-item:only-child::after {width: 0;}#sk-0f36d4dd-705a-4822-a6d3-9308e5d3b0e4 div.sk-dashed-wrapped {border: 1px dashed gray;margin: 0 0.4em 0.5em 0.4em;box-sizing: border-box;padding-bottom: 0.4em;background-color: white;position: relative;}#sk-0f36d4dd-705a-4822-a6d3-9308e5d3b0e4 div.sk-label label {font-family: monospace;font-weight: bold;background-color: white;display: inline-block;line-height: 1.2em;}#sk-0f36d4dd-705a-4822-a6d3-9308e5d3b0e4 div.sk-label-container {position: relative;z-index: 2;text-align: center;}#sk-0f36d4dd-705a-4822-a6d3-9308e5d3b0e4 div.sk-container {display: inline-block;position: relative;}</style><div id=\"sk-0f36d4dd-705a-4822-a6d3-9308e5d3b0e4\" class\"sk-top-container\"><div class=\"sk-container\"><div class=\"sk-item sk-dashed-wrapped\"><div class=\"sk-label-container\"><div class=\"sk-label sk-toggleable\"><input class=\"sk-toggleable__control sk-hidden--visually\" id=\"76d73176-205d-40e8-b9c0-4348982c2532\" type=\"checkbox\" ><label class=\"sk-toggleable__label\" for=\"76d73176-205d-40e8-b9c0-4348982c2532\">GridSearchCV</label><div class=\"sk-toggleable__content\"><pre>GridSearchCV(cv=5, error_score='raise',\n             estimator=Pipeline(steps=[('columntransformer',\n                                        ColumnTransformer(transformers=[('minmaxscaler',\n                                                                         MinMaxScaler(),\n                                                                         Index(['Principal', 'terms', 'age', 'Gender', 'weekend', 'Bechalor',\n       'High School or Below', 'college'],\n      dtype='object'))])),\n                                       ('logisticregression',\n                                        LogisticRegression())]),\n             n_jobs=-1,\n             param_grid=[{'logisticregression...\n       3.59381366e+03, 1.00000000e+04]),\n                          'logisticregression__penalty': ['l2']},\n                         {'logisticregression__C': array([1.00000000e+00, 2.78255940e+00, 7.74263683e+00, 2.15443469e+01,\n       5.99484250e+01, 1.66810054e+02, 4.64158883e+02, 1.29154967e+03,\n       3.59381366e+03, 1.00000000e+04]),\n                          'logisticregression__penalty': ['l2'],\n                          'logisticregression__solver': ['newton-cg', 'saga',\n                                                         'sag', 'liblinear']}])</pre></div></div></div><div class=\"sk-parallel\"><div class=\"sk-parallel-item\"><div class=\"sk-item\"><div class=\"sk-serial\"><div class=\"sk-item\"><div class=\"sk-serial\"><div class=\"sk-item sk-dashed-wrapped\"><div class=\"sk-label-container\"><div class=\"sk-label sk-toggleable\"><input class=\"sk-toggleable__control sk-hidden--visually\" id=\"792de81b-daf7-46e7-a98c-a634681a332d\" type=\"checkbox\" ><label class=\"sk-toggleable__label\" for=\"792de81b-daf7-46e7-a98c-a634681a332d\">columntransformer: ColumnTransformer</label><div class=\"sk-toggleable__content\"><pre>ColumnTransformer(transformers=[('minmaxscaler', MinMaxScaler(),\n                                 Index(['Principal', 'terms', 'age', 'Gender', 'weekend', 'Bechalor',\n       'High School or Below', 'college'],\n      dtype='object'))])</pre></div></div></div><div class=\"sk-parallel\"><div class=\"sk-parallel-item\"><div class=\"sk-item\"><div class=\"sk-label-container\"><div class=\"sk-label sk-toggleable\"><input class=\"sk-toggleable__control sk-hidden--visually\" id=\"77f5dcbd-d6c6-4d79-ad4d-9140caf8c9c5\" type=\"checkbox\" ><label class=\"sk-toggleable__label\" for=\"77f5dcbd-d6c6-4d79-ad4d-9140caf8c9c5\">minmaxscaler</label><div class=\"sk-toggleable__content\"><pre>Index(['Principal', 'terms', 'age', 'Gender', 'weekend', 'Bechalor',\n       'High School or Below', 'college'],\n      dtype='object')</pre></div></div></div><div class=\"sk-serial\"><div class=\"sk-item\"><div class=\"sk-estimator sk-toggleable\"><input class=\"sk-toggleable__control sk-hidden--visually\" id=\"a5462992-cc27-47e4-9049-266b7d0b20e2\" type=\"checkbox\" ><label class=\"sk-toggleable__label\" for=\"a5462992-cc27-47e4-9049-266b7d0b20e2\">MinMaxScaler</label><div class=\"sk-toggleable__content\"><pre>MinMaxScaler()</pre></div></div></div></div></div></div></div></div><div class=\"sk-item\"><div class=\"sk-estimator sk-toggleable\"><input class=\"sk-toggleable__control sk-hidden--visually\" id=\"1343b56d-2e0f-4061-be46-cb9ab845c7bc\" type=\"checkbox\" ><label class=\"sk-toggleable__label\" for=\"1343b56d-2e0f-4061-be46-cb9ab845c7bc\">LogisticRegression</label><div class=\"sk-toggleable__content\"><pre>LogisticRegression()</pre></div></div></div></div></div></div></div></div></div></div></div></div>",
                        "text/plain": "GridSearchCV(cv=5, error_score='raise',\n             estimator=Pipeline(steps=[('columntransformer',\n                                        ColumnTransformer(transformers=[('minmaxscaler',\n                                                                         MinMaxScaler(),\n                                                                         Index(['Principal', 'terms', 'age', 'Gender', 'weekend', 'Bechalor',\n       'High School or Below', 'college'],\n      dtype='object'))])),\n                                       ('logisticregression',\n                                        LogisticRegression())]),\n             n_jobs=-1,\n             param_grid=[{'logisticregression...\n       3.59381366e+03, 1.00000000e+04]),\n                          'logisticregression__penalty': ['l2']},\n                         {'logisticregression__C': array([1.00000000e+00, 2.78255940e+00, 7.74263683e+00, 2.15443469e+01,\n       5.99484250e+01, 1.66810054e+02, 4.64158883e+02, 1.29154967e+03,\n       3.59381366e+03, 1.00000000e+04]),\n                          'logisticregression__penalty': ['l2'],\n                          'logisticregression__solver': ['newton-cg', 'saga',\n                                                         'sag', 'liblinear']}])"
                    },
                    "execution_count": 102,
                    "metadata": {},
                    "output_type": "execute_result"
                }
            ],
            "source": "logreg_gscv= GridSearchCV(logreg_pipe,param_grid=logreg_params,cv = 5,n_jobs = -1,error_score='raise')\nlogreg_gscv.fit(X_train,y_train)"
        },
        {
            "cell_type": "code",
            "execution_count": 103,
            "metadata": {},
            "outputs": [
                {
                    "data": {
                        "text/plain": "<AxesSubplot:xlabel='Predicted', ylabel='Actual'>"
                    },
                    "execution_count": 103,
                    "metadata": {},
                    "output_type": "execute_result"
                },
                {
                    "data": {
                        "image/png": "[encoded data removed]",
                        "text/plain": "<Figure size 432x288 with 2 Axes>"
                    },
                    "metadata": {
                        "needs_background": "light"
                    },
                    "output_type": "display_data"
                }
            ],
            "source": "logreg_gscv_predicted = logreg_gscv.predict(X_test)\ncm_matrix(y_test,logreg_gscv_predicted)"
        },
        {
            "cell_type": "code",
            "execution_count": 104,
            "metadata": {},
            "outputs": [
                {
                    "name": "stdout",
                    "output_type": "stream",
                    "text": "              precision    recall  f1-score   support\n\n  COLLECTION       0.46      0.92      0.62        26\n     PAIDOFF       0.96      0.64      0.77        78\n\n    accuracy                           0.71       104\n   macro avg       0.71      0.78      0.69       104\nweighted avg       0.84      0.71      0.73       104\n\n"
                }
            ],
            "source": "print(classification_report(y_test,logreg_gscv_predicted))"
        },
        {
            "cell_type": "markdown",
            "metadata": {},
            "source": "### final Logistic Regression Model"
        },
        {
            "cell_type": "code",
            "execution_count": 105,
            "metadata": {},
            "outputs": [
                {
                    "data": {
                        "text/html": "<style>#sk-e840b03f-3881-48d4-8063-236e7c576340 {color: black;background-color: white;}#sk-e840b03f-3881-48d4-8063-236e7c576340 pre{padding: 0;}#sk-e840b03f-3881-48d4-8063-236e7c576340 div.sk-toggleable {background-color: white;}#sk-e840b03f-3881-48d4-8063-236e7c576340 label.sk-toggleable__label {cursor: pointer;display: block;width: 100%;margin-bottom: 0;padding: 0.3em;box-sizing: border-box;text-align: center;}#sk-e840b03f-3881-48d4-8063-236e7c576340 div.sk-toggleable__content {max-height: 0;max-width: 0;overflow: hidden;text-align: left;background-color: #f0f8ff;}#sk-e840b03f-3881-48d4-8063-236e7c576340 div.sk-toggleable__content pre {margin: 0.2em;color: black;border-radius: 0.25em;background-color: #f0f8ff;}#sk-e840b03f-3881-48d4-8063-236e7c576340 input.sk-toggleable__control:checked~div.sk-toggleable__content {max-height: 200px;max-width: 100%;overflow: auto;}#sk-e840b03f-3881-48d4-8063-236e7c576340 div.sk-estimator input.sk-toggleable__control:checked~label.sk-toggleable__label {background-color: #d4ebff;}#sk-e840b03f-3881-48d4-8063-236e7c576340 div.sk-label input.sk-toggleable__control:checked~label.sk-toggleable__label {background-color: #d4ebff;}#sk-e840b03f-3881-48d4-8063-236e7c576340 input.sk-hidden--visually {border: 0;clip: rect(1px 1px 1px 1px);clip: rect(1px, 1px, 1px, 1px);height: 1px;margin: -1px;overflow: hidden;padding: 0;position: absolute;width: 1px;}#sk-e840b03f-3881-48d4-8063-236e7c576340 div.sk-estimator {font-family: monospace;background-color: #f0f8ff;border: 1px dotted black;border-radius: 0.25em;box-sizing: border-box;margin-bottom: 0.5em;}#sk-e840b03f-3881-48d4-8063-236e7c576340 div.sk-estimator:hover {background-color: #d4ebff;}#sk-e840b03f-3881-48d4-8063-236e7c576340 div.sk-parallel-item::after {content: \"\";width: 100%;border-bottom: 1px solid gray;flex-grow: 1;}#sk-e840b03f-3881-48d4-8063-236e7c576340 div.sk-label:hover label.sk-toggleable__label {background-color: #d4ebff;}#sk-e840b03f-3881-48d4-8063-236e7c576340 div.sk-serial::before {content: \"\";position: absolute;border-left: 1px solid gray;box-sizing: border-box;top: 2em;bottom: 0;left: 50%;}#sk-e840b03f-3881-48d4-8063-236e7c576340 div.sk-serial {display: flex;flex-direction: column;align-items: center;background-color: white;padding-right: 0.2em;padding-left: 0.2em;}#sk-e840b03f-3881-48d4-8063-236e7c576340 div.sk-item {z-index: 1;}#sk-e840b03f-3881-48d4-8063-236e7c576340 div.sk-parallel {display: flex;align-items: stretch;justify-content: center;background-color: white;}#sk-e840b03f-3881-48d4-8063-236e7c576340 div.sk-parallel::before {content: \"\";position: absolute;border-left: 1px solid gray;box-sizing: border-box;top: 2em;bottom: 0;left: 50%;}#sk-e840b03f-3881-48d4-8063-236e7c576340 div.sk-parallel-item {display: flex;flex-direction: column;position: relative;background-color: white;}#sk-e840b03f-3881-48d4-8063-236e7c576340 div.sk-parallel-item:first-child::after {align-self: flex-end;width: 50%;}#sk-e840b03f-3881-48d4-8063-236e7c576340 div.sk-parallel-item:last-child::after {align-self: flex-start;width: 50%;}#sk-e840b03f-3881-48d4-8063-236e7c576340 div.sk-parallel-item:only-child::after {width: 0;}#sk-e840b03f-3881-48d4-8063-236e7c576340 div.sk-dashed-wrapped {border: 1px dashed gray;margin: 0 0.4em 0.5em 0.4em;box-sizing: border-box;padding-bottom: 0.4em;background-color: white;position: relative;}#sk-e840b03f-3881-48d4-8063-236e7c576340 div.sk-label label {font-family: monospace;font-weight: bold;background-color: white;display: inline-block;line-height: 1.2em;}#sk-e840b03f-3881-48d4-8063-236e7c576340 div.sk-label-container {position: relative;z-index: 2;text-align: center;}#sk-e840b03f-3881-48d4-8063-236e7c576340 div.sk-container {display: inline-block;position: relative;}</style><div id=\"sk-e840b03f-3881-48d4-8063-236e7c576340\" class\"sk-top-container\"><div class=\"sk-container\"><div class=\"sk-item sk-dashed-wrapped\"><div class=\"sk-label-container\"><div class=\"sk-label sk-toggleable\"><input class=\"sk-toggleable__control sk-hidden--visually\" id=\"78ef9183-3977-4087-a3e4-00fb47816a6d\" type=\"checkbox\" ><label class=\"sk-toggleable__label\" for=\"78ef9183-3977-4087-a3e4-00fb47816a6d\">Pipeline</label><div class=\"sk-toggleable__content\"><pre>Pipeline(steps=[('columntransformer',\n                 ColumnTransformer(transformers=[('minmaxscaler',\n                                                  MinMaxScaler(),\n                                                  Index(['Principal', 'terms', 'age', 'Gender', 'weekend', 'Bechalor',\n       'High School or Below', 'college'],\n      dtype='object'))])),\n                ('logisticregression', LogisticRegression())])</pre></div></div></div><div class=\"sk-serial\"><div class=\"sk-item sk-dashed-wrapped\"><div class=\"sk-label-container\"><div class=\"sk-label sk-toggleable\"><input class=\"sk-toggleable__control sk-hidden--visually\" id=\"d1e4dfed-2208-43ea-b70a-da2c6663a782\" type=\"checkbox\" ><label class=\"sk-toggleable__label\" for=\"d1e4dfed-2208-43ea-b70a-da2c6663a782\">columntransformer: ColumnTransformer</label><div class=\"sk-toggleable__content\"><pre>ColumnTransformer(transformers=[('minmaxscaler', MinMaxScaler(),\n                                 Index(['Principal', 'terms', 'age', 'Gender', 'weekend', 'Bechalor',\n       'High School or Below', 'college'],\n      dtype='object'))])</pre></div></div></div><div class=\"sk-parallel\"><div class=\"sk-parallel-item\"><div class=\"sk-item\"><div class=\"sk-label-container\"><div class=\"sk-label sk-toggleable\"><input class=\"sk-toggleable__control sk-hidden--visually\" id=\"51782497-a801-4485-a9f3-a17a6f197dd7\" type=\"checkbox\" ><label class=\"sk-toggleable__label\" for=\"51782497-a801-4485-a9f3-a17a6f197dd7\">minmaxscaler</label><div class=\"sk-toggleable__content\"><pre>Index(['Principal', 'terms', 'age', 'Gender', 'weekend', 'Bechalor',\n       'High School or Below', 'college'],\n      dtype='object')</pre></div></div></div><div class=\"sk-serial\"><div class=\"sk-item\"><div class=\"sk-estimator sk-toggleable\"><input class=\"sk-toggleable__control sk-hidden--visually\" id=\"20ca5fd3-9137-4ee1-b5fc-05c91a43309e\" type=\"checkbox\" ><label class=\"sk-toggleable__label\" for=\"20ca5fd3-9137-4ee1-b5fc-05c91a43309e\">MinMaxScaler</label><div class=\"sk-toggleable__content\"><pre>MinMaxScaler()</pre></div></div></div></div></div></div></div></div><div class=\"sk-item\"><div class=\"sk-estimator sk-toggleable\"><input class=\"sk-toggleable__control sk-hidden--visually\" id=\"f9375960-144a-4a9e-9509-7cb402964c8d\" type=\"checkbox\" ><label class=\"sk-toggleable__label\" for=\"f9375960-144a-4a9e-9509-7cb402964c8d\">LogisticRegression</label><div class=\"sk-toggleable__content\"><pre>LogisticRegression()</pre></div></div></div></div></div></div></div>",
                        "text/plain": "Pipeline(steps=[('columntransformer',\n                 ColumnTransformer(transformers=[('minmaxscaler',\n                                                  MinMaxScaler(),\n                                                  Index(['Principal', 'terms', 'age', 'Gender', 'weekend', 'Bechalor',\n       'High School or Below', 'college'],\n      dtype='object'))])),\n                ('logisticregression', LogisticRegression())])"
                    },
                    "execution_count": 105,
                    "metadata": {},
                    "output_type": "execute_result"
                }
            ],
            "source": "logreg_model = make_pipeline(ct,LogisticRegression())\nlogreg_model.fit(X_train,y_train)"
        },
        {
            "cell_type": "markdown",
            "metadata": {},
            "source": "# Model Evaluation using Test set\n"
        },
        {
            "cell_type": "code",
            "execution_count": 106,
            "metadata": {},
            "outputs": [],
            "source": "from sklearn.metrics import jaccard_score\nfrom sklearn.metrics import f1_score\nfrom sklearn.metrics import log_loss"
        },
        {
            "cell_type": "markdown",
            "metadata": {},
            "source": "First, download and load the test set:\n"
        },
        {
            "cell_type": "code",
            "execution_count": 107,
            "metadata": {},
            "outputs": [
                {
                    "name": "stdout",
                    "output_type": "stream",
                    "text": "--2021-10-26 21:50:48--  https://s3-api.us-geo.objectstorage.softlayer.net/cf-courses-data/CognitiveClass/ML0101ENv3/labs/loan_test.csv\nResolving s3-api.us-geo.objectstorage.softlayer.net (s3-api.us-geo.objectstorage.softlayer.net)... 67.228.254.196\nConnecting to s3-api.us-geo.objectstorage.softlayer.net (s3-api.us-geo.objectstorage.softlayer.net)|67.228.254.196|:443... connected.\nHTTP request sent, awaiting response... 200 OK\nLength: 3642 (3.6K) [text/csv]\nSaving to: \u2018loan_test.csv\u2019\n\nloan_test.csv       100%[===================>]   3.56K  --.-KB/s    in 0s      \n\n2021-10-26 21:50:48 (41.5 MB/s) - \u2018loan_test.csv\u2019 saved [3642/3642]\n\n"
                }
            ],
            "source": "!wget -O loan_test.csv https://s3-api.us-geo.objectstorage.softlayer.net/cf-courses-data/CognitiveClass/ML0101ENv3/labs/loan_test.csv"
        },
        {
            "cell_type": "markdown",
            "metadata": {
                "button": false,
                "new_sheet": false,
                "run_control": {
                    "read_only": false
                }
            },
            "source": "### Load Test set for evaluation\n"
        },
        {
            "cell_type": "code",
            "execution_count": 108,
            "metadata": {
                "button": false,
                "new_sheet": false,
                "run_control": {
                    "read_only": false
                }
            },
            "outputs": [
                {
                    "data": {
                        "text/html": "<div>\n<style scoped>\n    .dataframe tbody tr th:only-of-type {\n        vertical-align: middle;\n    }\n\n    .dataframe tbody tr th {\n        vertical-align: top;\n    }\n\n    .dataframe thead th {\n        text-align: right;\n    }\n</style>\n<table border=\"1\" class=\"dataframe\">\n  <thead>\n    <tr style=\"text-align: right;\">\n      <th></th>\n      <th>Unnamed: 0</th>\n      <th>Unnamed: 0.1</th>\n      <th>loan_status</th>\n      <th>Principal</th>\n      <th>terms</th>\n      <th>effective_date</th>\n      <th>due_date</th>\n      <th>age</th>\n      <th>education</th>\n      <th>Gender</th>\n    </tr>\n  </thead>\n  <tbody>\n    <tr>\n      <th>0</th>\n      <td>1</td>\n      <td>1</td>\n      <td>PAIDOFF</td>\n      <td>1000</td>\n      <td>30</td>\n      <td>9/8/2016</td>\n      <td>10/7/2016</td>\n      <td>50</td>\n      <td>Bechalor</td>\n      <td>female</td>\n    </tr>\n    <tr>\n      <th>1</th>\n      <td>5</td>\n      <td>5</td>\n      <td>PAIDOFF</td>\n      <td>300</td>\n      <td>7</td>\n      <td>9/9/2016</td>\n      <td>9/15/2016</td>\n      <td>35</td>\n      <td>Master or Above</td>\n      <td>male</td>\n    </tr>\n    <tr>\n      <th>2</th>\n      <td>21</td>\n      <td>21</td>\n      <td>PAIDOFF</td>\n      <td>1000</td>\n      <td>30</td>\n      <td>9/10/2016</td>\n      <td>10/9/2016</td>\n      <td>43</td>\n      <td>High School or Below</td>\n      <td>female</td>\n    </tr>\n    <tr>\n      <th>3</th>\n      <td>24</td>\n      <td>24</td>\n      <td>PAIDOFF</td>\n      <td>1000</td>\n      <td>30</td>\n      <td>9/10/2016</td>\n      <td>10/9/2016</td>\n      <td>26</td>\n      <td>college</td>\n      <td>male</td>\n    </tr>\n    <tr>\n      <th>4</th>\n      <td>35</td>\n      <td>35</td>\n      <td>PAIDOFF</td>\n      <td>800</td>\n      <td>15</td>\n      <td>9/11/2016</td>\n      <td>9/25/2016</td>\n      <td>29</td>\n      <td>Bechalor</td>\n      <td>male</td>\n    </tr>\n  </tbody>\n</table>\n</div>",
                        "text/plain": "   Unnamed: 0  Unnamed: 0.1 loan_status  Principal  terms effective_date  \\\n0           1             1     PAIDOFF       1000     30       9/8/2016   \n1           5             5     PAIDOFF        300      7       9/9/2016   \n2          21            21     PAIDOFF       1000     30      9/10/2016   \n3          24            24     PAIDOFF       1000     30      9/10/2016   \n4          35            35     PAIDOFF        800     15      9/11/2016   \n\n    due_date  age             education  Gender  \n0  10/7/2016   50              Bechalor  female  \n1  9/15/2016   35       Master or Above    male  \n2  10/9/2016   43  High School or Below  female  \n3  10/9/2016   26               college    male  \n4  9/25/2016   29              Bechalor    male  "
                    },
                    "execution_count": 108,
                    "metadata": {},
                    "output_type": "execute_result"
                }
            ],
            "source": "test_df = pd.read_csv('loan_test.csv')\ntest_df.head()"
        },
        {
            "cell_type": "markdown",
            "metadata": {},
            "source": "### Preprocessing the Testing Dataset"
        },
        {
            "cell_type": "code",
            "execution_count": 109,
            "metadata": {},
            "outputs": [],
            "source": "def preprocess_test():\n    test_df['effective_date'] = pd.to_datetime(test_df['effective_date'])\n    test_df['due_date'] = pd.to_datetime(test_df['effective_date'])\n    \n    test_df['dayofweek'] = test_df['effective_date'].dt.dayofweek\n    test_df['weekend'] = test_df['dayofweek'].apply(lambda x: 1 if (x>3)  else 0)\n   \n    test_df['Gender'].replace(to_replace=['male','female'], value=[0,1],inplace=True)\n    Feature = test_df[['Principal','terms','age','Gender','weekend']]\n    Feature = pd.concat([Feature,pd.get_dummies(test_df['education'])], axis=1)\n    Feature.drop(['Master or Above'], axis = 1,inplace=True)\n    \n    \n    X_test = Feature\n    X_test[0:5]\n    y_test = test_df['loan_status'].values\n    return X_test,y_test"
        },
        {
            "cell_type": "code",
            "execution_count": 110,
            "metadata": {},
            "outputs": [
                {
                    "data": {
                        "text/html": "<div>\n<style scoped>\n    .dataframe tbody tr th:only-of-type {\n        vertical-align: middle;\n    }\n\n    .dataframe tbody tr th {\n        vertical-align: top;\n    }\n\n    .dataframe thead th {\n        text-align: right;\n    }\n</style>\n<table border=\"1\" class=\"dataframe\">\n  <thead>\n    <tr style=\"text-align: right;\">\n      <th></th>\n      <th>Principal</th>\n      <th>terms</th>\n      <th>age</th>\n      <th>Gender</th>\n      <th>weekend</th>\n      <th>Bechalor</th>\n      <th>High School or Below</th>\n      <th>college</th>\n    </tr>\n  </thead>\n  <tbody>\n    <tr>\n      <th>0</th>\n      <td>1000</td>\n      <td>30</td>\n      <td>50</td>\n      <td>1</td>\n      <td>0</td>\n      <td>1</td>\n      <td>0</td>\n      <td>0</td>\n    </tr>\n    <tr>\n      <th>1</th>\n      <td>300</td>\n      <td>7</td>\n      <td>35</td>\n      <td>0</td>\n      <td>1</td>\n      <td>0</td>\n      <td>0</td>\n      <td>0</td>\n    </tr>\n    <tr>\n      <th>2</th>\n      <td>1000</td>\n      <td>30</td>\n      <td>43</td>\n      <td>1</td>\n      <td>1</td>\n      <td>0</td>\n      <td>1</td>\n      <td>0</td>\n    </tr>\n    <tr>\n      <th>3</th>\n      <td>1000</td>\n      <td>30</td>\n      <td>26</td>\n      <td>0</td>\n      <td>1</td>\n      <td>0</td>\n      <td>0</td>\n      <td>1</td>\n    </tr>\n    <tr>\n      <th>4</th>\n      <td>800</td>\n      <td>15</td>\n      <td>29</td>\n      <td>0</td>\n      <td>1</td>\n      <td>1</td>\n      <td>0</td>\n      <td>0</td>\n    </tr>\n  </tbody>\n</table>\n</div>",
                        "text/plain": "   Principal  terms  age  Gender  weekend  Bechalor  High School or Below  \\\n0       1000     30   50       1        0         1                     0   \n1        300      7   35       0        1         0                     0   \n2       1000     30   43       1        1         0                     1   \n3       1000     30   26       0        1         0                     0   \n4        800     15   29       0        1         1                     0   \n\n   college  \n0        0  \n1        0  \n2        0  \n3        1  \n4        0  "
                    },
                    "execution_count": 110,
                    "metadata": {},
                    "output_type": "execute_result"
                }
            ],
            "source": "X_test_,y_test_  = preprocess_test()\nX_test_.head()"
        },
        {
            "cell_type": "code",
            "execution_count": 111,
            "metadata": {},
            "outputs": [],
            "source": "class models:\n    def __init__(self,X_test,y_test,pos_label):\n        self.X_test = X_test\n        self.y_test = y_test\n        self.pos_label = pos_label\n        \n    def evaluate(self,model):\n        y_pred = model.predict(self.X_test)\n        jaccard = jaccard_score(self.y_test,y_pred,pos_label = self.pos_label)\n        f1 = f1_score(self.y_test,y_pred,pos_label = self.pos_label)\n        if model==logreg_model:\n            proba = model.predict_proba(self.X_test)\n            log = log_loss(self.y_test,proba)\n            return jaccard,f1,log\n        return jaccard,f1\n\n    def score_model(self,model):\n        if model==logreg_model:\n            (jaccard,f1,log) = self.evaluate(model)\n            return ({'Jaccard':jaccard,'F1-score':f1,'LogLoss':log})\n        else:\n            (jaccard,f1) = self.evaluate(model)\n            return ({'Jaccard':jaccard,'F1-score':f1})"
        },
        {
            "cell_type": "code",
            "execution_count": 112,
            "metadata": {},
            "outputs": [],
            "source": "algos =models(X_test_,y_test_,pos_label = 'PAIDOFF')"
        },
        {
            "cell_type": "code",
            "execution_count": 113,
            "metadata": {},
            "outputs": [],
            "source": "scores = pd.DataFrame(algos.score_model(knn_model),index = ['KNN'])\nscores = pd.concat((scores,pd.DataFrame(algos.score_model(dt_model),index=['Decision Tree'])),axis = 0)\nscores = pd.concat((scores,pd.DataFrame(algos.score_model(svc_model),index=['SVM'])),axis = 0)\nscores = pd.concat((scores,pd.DataFrame(algos.score_model(logreg_model),index=['LogisticRegression'])),axis = 0)\nscores.columns.name = 'Algorithm'"
        },
        {
            "cell_type": "markdown",
            "metadata": {},
            "source": "# Report\n\nYou should be able to report the accuracy of the built model using different evaluation metrics:\n"
        },
        {
            "cell_type": "markdown",
            "metadata": {},
            "source": "| Algorithm          | Jaccard | F1-score | LogLoss |\n| ------------------ | ------- | -------- | ------- |\n| KNN                | ?       | ?        | NA      |\n| Decision Tree      | ?       | ?        | NA      |\n| SVM                | ?       | ?        | NA      |\n| LogisticRegression | ?       | ?        | ?       |\n"
        },
        {
            "cell_type": "code",
            "execution_count": 114,
            "metadata": {},
            "outputs": [
                {
                    "data": {
                        "text/html": "<div>\n<style scoped>\n    .dataframe tbody tr th:only-of-type {\n        vertical-align: middle;\n    }\n\n    .dataframe tbody tr th {\n        vertical-align: top;\n    }\n\n    .dataframe thead th {\n        text-align: right;\n    }\n</style>\n<table border=\"1\" class=\"dataframe\">\n  <thead>\n    <tr style=\"text-align: right;\">\n      <th>Algorithm</th>\n      <th>Jaccard</th>\n      <th>F1-score</th>\n      <th>LogLoss</th>\n    </tr>\n  </thead>\n  <tbody>\n    <tr>\n      <th>KNN</th>\n      <td>0.660377</td>\n      <td>0.795455</td>\n      <td>NaN</td>\n    </tr>\n    <tr>\n      <th>Decision Tree</th>\n      <td>0.645833</td>\n      <td>0.784810</td>\n      <td>NaN</td>\n    </tr>\n    <tr>\n      <th>SVM</th>\n      <td>0.740741</td>\n      <td>0.851064</td>\n      <td>NaN</td>\n    </tr>\n    <tr>\n      <th>LogisticRegression</th>\n      <td>0.613636</td>\n      <td>0.760563</td>\n      <td>0.577712</td>\n    </tr>\n  </tbody>\n</table>\n</div>",
                        "text/plain": "Algorithm            Jaccard  F1-score   LogLoss\nKNN                 0.660377  0.795455       NaN\nDecision Tree       0.645833  0.784810       NaN\nSVM                 0.740741  0.851064       NaN\nLogisticRegression  0.613636  0.760563  0.577712"
                    },
                    "execution_count": 114,
                    "metadata": {},
                    "output_type": "execute_result"
                }
            ],
            "source": "scores"
        },
        {
            "cell_type": "markdown",
            "metadata": {
                "button": false,
                "new_sheet": false,
                "run_control": {
                    "read_only": false
                }
            },
            "source": "<h2>Want to learn more?</h2>\n\nIBM SPSS Modeler is a comprehensive analytics platform that has many machine learning algorithms. It has been designed to bring predictive intelligence to decisions made by individuals, by groups, by systems \u2013 by your enterprise as a whole. A free trial is available through this course, available here: <a href=\"http://cocl.us/ML0101EN-SPSSModeler?utm_medium=Exinfluencer&utm_source=Exinfluencer&utm_content=000026UJ&utm_term=10006555&utm_id=NA-SkillsNetwork-Channel-SkillsNetworkCoursesIBMDeveloperSkillsNetworkML0101ENSkillsNetwork20718538-2021-01-01\">SPSS Modeler</a>\n\nAlso, you can use Watson Studio to run these notebooks faster with bigger datasets. Watson Studio is IBM's leading cloud solution for data scientists, built by data scientists. With Jupyter notebooks, RStudio, Apache Spark and popular libraries pre-packaged in the cloud, Watson Studio enables data scientists to collaborate on their projects without having to install anything. Join the fast-growing community of Watson Studio users today with a free account at <a href=\"https://cocl.us/ML0101EN_DSX?utm_medium=Exinfluencer&utm_source=Exinfluencer&utm_content=000026UJ&utm_term=10006555&utm_id=NA-SkillsNetwork-Channel-SkillsNetworkCoursesIBMDeveloperSkillsNetworkML0101ENSkillsNetwork20718538-2021-01-01\">Watson Studio</a>\n\n<h3>Thanks for completing this lesson!</h3>\n\n<h4>Author:  <a href=\"https://ca.linkedin.com/in/saeedaghabozorgi?utm_medium=Exinfluencer&utm_source=Exinfluencer&utm_content=000026UJ&utm_term=10006555&utm_id=NA-SkillsNetwork-Channel-SkillsNetworkCoursesIBMDeveloperSkillsNetworkML0101ENSkillsNetwork20718538-2021-01-01?utm_medium=Exinfluencer&utm_source=Exinfluencer&utm_content=000026UJ&utm_term=10006555&utm_id=NA-SkillsNetwork-Channel-SkillsNetworkCoursesIBMDeveloperSkillsNetworkML0101ENSkillsNetwork20718538-2021-01-01\">Saeed Aghabozorgi</a></h4>\n<p><a href=\"https://ca.linkedin.com/in/saeedaghabozorgi\">Saeed Aghabozorgi</a>, PhD is a Data Scientist in IBM with a track record of developing enterprise level applications that substantially increases clients\u2019 ability to turn data into actionable knowledge. He is a researcher in data mining field and expert in developing advanced analytic methods like machine learning and statistical modelling on large datasets.</p>\n\n<hr>\n\n## Change Log\n\n| Date (YYYY-MM-DD) | Version | Changed By    | Change Description                                                             |\n| ----------------- | ------- | ------------- | ------------------------------------------------------------------------------ |\n| 2020-10-27        | 2.1     | Lakshmi Holla | Made changes in import statement due to updates in version of  sklearn library |\n| 2020-08-27        | 2.0     | Malika Singla | Added lab to GitLab                                                            |\n\n<hr>\n\n## <h3 align=\"center\"> \u00a9 IBM Corporation 2020. All rights reserved. <h3/>\n\n<p>\n"
        },
        {
            "cell_type": "code",
            "execution_count": null,
            "metadata": {},
            "outputs": [],
            "source": ""
        }
    ],
    "metadata": {
        "kernelspec": {
            "display_name": "Python 3.8",
            "language": "python",
            "name": "python3"
        },
        "language_info": {
            "codemirror_mode": {
                "name": "ipython",
                "version": 3
            },
            "file_extension": ".py",
            "mimetype": "text/x-python",
            "name": "python",
            "nbconvert_exporter": "python",
            "pygments_lexer": "ipython3",
            "version": "3.8.11"
        }
    },
    "nbformat": 4,
    "nbformat_minor": 2
}
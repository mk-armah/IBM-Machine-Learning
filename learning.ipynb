{
    "cells": [
        {
            "cell_type": "code",
            "execution_count": 12,
            "metadata": {},
            "outputs": [],
            "source": "import numpy as np\nimport pandas as pd\nimport matplotlib.pyplot as plt\nimport seaborn as sns"
        },
        {
            "cell_type": "code",
            "execution_count": 13,
            "metadata": {},
            "outputs": [
                {
                    "name": "stdout",
                    "output_type": "stream",
                    "text": "Collecting pandas_profiling\n  Downloading pandas_profiling-3.1.0-py2.py3-none-any.whl (261 kB)\n\u001b[K     |\u2588\u2588\u2588\u2588\u2588\u2588\u2588\u2588\u2588\u2588\u2588\u2588\u2588\u2588\u2588\u2588\u2588\u2588\u2588\u2588\u2588\u2588\u2588\u2588\u2588\u2588\u2588\u2588\u2588\u2588\u2588\u2588| 261 kB 15.2 MB/s eta 0:00:01\n\u001b[?25hCollecting missingno>=0.4.2\n  Downloading missingno-0.5.0-py3-none-any.whl (8.8 kB)\nRequirement already satisfied: matplotlib>=3.2.0 in /opt/conda/envs/Python-3.8-main/lib/python3.8/site-packages (from pandas_profiling) (3.3.4)\nCollecting phik>=0.11.1\n  Downloading phik-0.12.0-cp38-cp38-manylinux2010_x86_64.whl (676 kB)\n\u001b[K     |\u2588\u2588\u2588\u2588\u2588\u2588\u2588\u2588\u2588\u2588\u2588\u2588\u2588\u2588\u2588\u2588\u2588\u2588\u2588\u2588\u2588\u2588\u2588\u2588\u2588\u2588\u2588\u2588\u2588\u2588\u2588\u2588| 676 kB 62.7 MB/s eta 0:00:01\n\u001b[?25hCollecting multimethod>=1.4\n  Downloading multimethod-1.6-py3-none-any.whl (9.4 kB)\nCollecting htmlmin>=0.1.12\n  Downloading htmlmin-0.1.12.tar.gz (19 kB)\nRequirement already satisfied: requests>=2.24.0 in /opt/conda/envs/Python-3.8-main/lib/python3.8/site-packages (from pandas_profiling) (2.25.1)\nCollecting pydantic>=1.8.1\n  Downloading pydantic-1.8.2-cp38-cp38-manylinux2014_x86_64.whl (13.7 MB)\n\u001b[K     |\u2588\u2588\u2588\u2588\u2588\u2588\u2588\u2588\u2588\u2588\u2588\u2588\u2588\u2588\u2588\u2588\u2588\u2588\u2588\u2588\u2588\u2588\u2588\u2588\u2588\u2588\u2588\u2588\u2588\u2588\u2588\u2588| 13.7 MB 52.3 MB/s eta 0:00:01\n\u001b[?25hCollecting tangled-up-in-unicode==0.1.0\n  Downloading tangled_up_in_unicode-0.1.0-py3-none-any.whl (3.1 MB)\n\u001b[K     |\u2588\u2588\u2588\u2588\u2588\u2588\u2588\u2588\u2588\u2588\u2588\u2588\u2588\u2588\u2588\u2588\u2588\u2588\u2588\u2588\u2588\u2588\u2588\u2588\u2588\u2588\u2588\u2588\u2588\u2588\u2588\u2588| 3.1 MB 89.1 MB/s eta 0:00:01\n\u001b[?25hRequirement already satisfied: scipy>=1.4.1 in /opt/conda/envs/Python-3.8-main/lib/python3.8/site-packages (from pandas_profiling) (1.4.1)\nRequirement already satisfied: pandas!=1.0.0,!=1.0.1,!=1.0.2,!=1.1.0,>=0.25.3 in /opt/conda/envs/Python-3.8-main/lib/python3.8/site-packages (from pandas_profiling) (1.2.4)\nCollecting joblib~=1.0.1\n  Downloading joblib-1.0.1-py3-none-any.whl (303 kB)\n\u001b[K     |\u2588\u2588\u2588\u2588\u2588\u2588\u2588\u2588\u2588\u2588\u2588\u2588\u2588\u2588\u2588\u2588\u2588\u2588\u2588\u2588\u2588\u2588\u2588\u2588\u2588\u2588\u2588\u2588\u2588\u2588\u2588\u2588| 303 kB 103.8 MB/s eta 0:00:01\n\u001b[?25hRequirement already satisfied: markupsafe~=2.0.1 in /opt/conda/envs/Python-3.8-main/lib/python3.8/site-packages (from pandas_profiling) (2.0.1)\nCollecting visions[type_image_path]==0.7.4\n  Downloading visions-0.7.4-py3-none-any.whl (102 kB)\n\u001b[K     |\u2588\u2588\u2588\u2588\u2588\u2588\u2588\u2588\u2588\u2588\u2588\u2588\u2588\u2588\u2588\u2588\u2588\u2588\u2588\u2588\u2588\u2588\u2588\u2588\u2588\u2588\u2588\u2588\u2588\u2588\u2588\u2588| 102 kB 20.6 MB/s ta 0:00:01\n\u001b[?25hRequirement already satisfied: jinja2>=2.11.1 in /opt/conda/envs/Python-3.8-main/lib/python3.8/site-packages (from pandas_profiling) (3.0.0)\nRequirement already satisfied: seaborn>=0.10.1 in /opt/conda/envs/Python-3.8-main/lib/python3.8/site-packages (from pandas_profiling) (0.11.1)\nRequirement already satisfied: PyYAML>=5.0.0 in /opt/conda/envs/Python-3.8-main/lib/python3.8/site-packages (from pandas_profiling) (5.4.1)\nRequirement already satisfied: tqdm>=4.48.2 in /opt/conda/envs/Python-3.8-main/lib/python3.8/site-packages (from pandas_profiling) (4.59.0)\nRequirement already satisfied: numpy>=1.16.0 in /opt/conda/envs/Python-3.8-main/lib/python3.8/site-packages (from pandas_profiling) (1.19.2)\nCollecting networkx>=2.4\n  Downloading networkx-2.6.3-py3-none-any.whl (1.9 MB)\n\u001b[K     |\u2588\u2588\u2588\u2588\u2588\u2588\u2588\u2588\u2588\u2588\u2588\u2588\u2588\u2588\u2588\u2588\u2588\u2588\u2588\u2588\u2588\u2588\u2588\u2588\u2588\u2588\u2588\u2588\u2588\u2588\u2588\u2588| 1.9 MB 77.2 MB/s eta 0:00:01\n\u001b[?25hRequirement already satisfied: attrs>=19.3.0 in /opt/conda/envs/Python-3.8-main/lib/python3.8/site-packages (from visions[type_image_path]==0.7.4->pandas_profiling) (21.2.0)\nCollecting imagehash\n  Downloading ImageHash-4.2.1.tar.gz (812 kB)\n\u001b[K     |\u2588\u2588\u2588\u2588\u2588\u2588\u2588\u2588\u2588\u2588\u2588\u2588\u2588\u2588\u2588\u2588\u2588\u2588\u2588\u2588\u2588\u2588\u2588\u2588\u2588\u2588\u2588\u2588\u2588\u2588\u2588\u2588| 812 kB 82.6 MB/s eta 0:00:01\n\u001b[?25hRequirement already satisfied: Pillow in /opt/conda/envs/Python-3.8-main/lib/python3.8/site-packages (from visions[type_image_path]==0.7.4->pandas_profiling) (8.3.1)\nRequirement already satisfied: kiwisolver>=1.0.1 in /opt/conda/envs/Python-3.8-main/lib/python3.8/site-packages (from matplotlib>=3.2.0->pandas_profiling) (1.3.1)\nRequirement already satisfied: pyparsing!=2.0.4,!=2.1.2,!=2.1.6,>=2.0.3 in /opt/conda/envs/Python-3.8-main/lib/python3.8/site-packages (from matplotlib>=3.2.0->pandas_profiling) (2.4.7)\nRequirement already satisfied: python-dateutil>=2.1 in /opt/conda/envs/Python-3.8-main/lib/python3.8/site-packages (from matplotlib>=3.2.0->pandas_profiling) (2.8.1)\nRequirement already satisfied: cycler>=0.10 in /opt/conda/envs/Python-3.8-main/lib/python3.8/site-packages (from matplotlib>=3.2.0->pandas_profiling) (0.10.0)\nRequirement already satisfied: six in /opt/conda/envs/Python-3.8-main/lib/python3.8/site-packages (from cycler>=0.10->matplotlib>=3.2.0->pandas_profiling) (1.15.0)\nRequirement already satisfied: pytz>=2017.3 in /opt/conda/envs/Python-3.8-main/lib/python3.8/site-packages (from pandas!=1.0.0,!=1.0.1,!=1.0.2,!=1.1.0,>=0.25.3->pandas_profiling) (2021.1)\nCollecting scipy>=1.4.1\n  Downloading scipy-1.7.1-cp38-cp38-manylinux_2_5_x86_64.manylinux1_x86_64.whl (28.4 MB)\n\u001b[K     |\u2588\u2588\u2588\u2588\u2588\u2588\u2588\u2588\u2588\u2588\u2588\u2588\u2588\u2588\u2588\u2588\u2588\u2588\u2588\u2588\u2588\u2588\u2588\u2588\u2588\u2588\u2588\u2588\u2588\u2588\u2588\u2588| 28.4 MB 79.4 MB/s eta 0:00:01\n\u001b[?25hRequirement already satisfied: typing-extensions>=3.7.4.3 in /opt/conda/envs/Python-3.8-main/lib/python3.8/site-packages (from pydantic>=1.8.1->pandas_profiling) (3.7.4.3)\nRequirement already satisfied: chardet<5,>=3.0.2 in /opt/conda/envs/Python-3.8-main/lib/python3.8/site-packages (from requests>=2.24.0->pandas_profiling) (3.0.4)\nRequirement already satisfied: certifi>=2017.4.17 in /opt/conda/envs/Python-3.8-main/lib/python3.8/site-packages (from requests>=2.24.0->pandas_profiling) (2021.5.30)\nRequirement already satisfied: idna<3,>=2.5 in /opt/conda/envs/Python-3.8-main/lib/python3.8/site-packages (from requests>=2.24.0->pandas_profiling) (2.8)\nRequirement already satisfied: urllib3<1.27,>=1.21.1 in /opt/conda/envs/Python-3.8-main/lib/python3.8/site-packages (from requests>=2.24.0->pandas_profiling) (1.26.6)\nRequirement already satisfied: PyWavelets in /opt/conda/envs/Python-3.8-main/lib/python3.8/site-packages (from imagehash->visions[type_image_path]==0.7.4->pandas_profiling) (1.1.1)\nBuilding wheels for collected packages: htmlmin, imagehash\n  Building wheel for htmlmin (setup.py) ... \u001b[?25ldone\n\u001b[?25h  Created wheel for htmlmin: filename=htmlmin-0.1.12-py3-none-any.whl size=27084 sha256=0d8eb74d9684225f9ee50bcd75678c7695e6775415b879e40d15d931409f2f3f\n  Stored in directory: /tmp/wsuser/.cache/pip/wheels/23/14/6e/4be5bfeeb027f4939a01764b48edd5996acf574b0913fe5243\n  Building wheel for imagehash (setup.py) ... \u001b[?25ldone\n\u001b[?25h  Created wheel for imagehash: filename=ImageHash-4.2.1-py2.py3-none-any.whl size=295199 sha256=d518cd2cd10766e1105062fd42b334b47b8a9a58f9750ef41134e4ab9a9e15e9\n  Stored in directory: /tmp/wsuser/.cache/pip/wheels/48/a1/7f/096c1269d6bf78d4768180602579b35a1e8cb1250bb4b40c74\nSuccessfully built htmlmin imagehash\nInstalling collected packages: tangled-up-in-unicode, scipy, networkx, multimethod, visions, joblib, imagehash, pydantic, phik, missingno, htmlmin, pandas-profiling\n  Attempting uninstall: scipy\n    Found existing installation: scipy 1.4.1\n    Uninstalling scipy-1.4.1:\n      Successfully uninstalled scipy-1.4.1\n  Attempting uninstall: networkx\n    Found existing installation: networkx 2.3\n    Uninstalling networkx-2.3:\n      Successfully uninstalled networkx-2.3\n  Attempting uninstall: joblib\n    Found existing installation: joblib 0.17.0\n    Uninstalling joblib-0.17.0:\n      Successfully uninstalled joblib-0.17.0\nSuccessfully installed htmlmin-0.1.12 imagehash-4.2.1 joblib-1.0.1 missingno-0.5.0 multimethod-1.6 networkx-2.6.3 pandas-profiling-3.1.0 phik-0.12.0 pydantic-1.8.2 scipy-1.7.1 tangled-up-in-unicode-0.1.0 visions-0.7.4\n"
                }
            ],
            "source": "! pip install pandas_profiling"
        },
        {
            "cell_type": "code",
            "execution_count": 14,
            "metadata": {},
            "outputs": [],
            "source": "from pandas_profiling import ProfileReport"
        },
        {
            "cell_type": "code",
            "execution_count": 5,
            "metadata": {},
            "outputs": [],
            "source": "df = sns.load_dataset('mpg')"
        },
        {
            "cell_type": "code",
            "execution_count": 6,
            "metadata": {},
            "outputs": [
                {
                    "data": {
                        "text/html": "<div>\n<style scoped>\n    .dataframe tbody tr th:only-of-type {\n        vertical-align: middle;\n    }\n\n    .dataframe tbody tr th {\n        vertical-align: top;\n    }\n\n    .dataframe thead th {\n        text-align: right;\n    }\n</style>\n<table border=\"1\" class=\"dataframe\">\n  <thead>\n    <tr style=\"text-align: right;\">\n      <th></th>\n      <th>mpg</th>\n      <th>cylinders</th>\n      <th>displacement</th>\n      <th>horsepower</th>\n      <th>weight</th>\n      <th>acceleration</th>\n      <th>model_year</th>\n      <th>origin</th>\n      <th>name</th>\n    </tr>\n  </thead>\n  <tbody>\n    <tr>\n      <th>0</th>\n      <td>18.0</td>\n      <td>8</td>\n      <td>307.0</td>\n      <td>130.0</td>\n      <td>3504</td>\n      <td>12.0</td>\n      <td>70</td>\n      <td>usa</td>\n      <td>chevrolet chevelle malibu</td>\n    </tr>\n    <tr>\n      <th>1</th>\n      <td>15.0</td>\n      <td>8</td>\n      <td>350.0</td>\n      <td>165.0</td>\n      <td>3693</td>\n      <td>11.5</td>\n      <td>70</td>\n      <td>usa</td>\n      <td>buick skylark 320</td>\n    </tr>\n    <tr>\n      <th>2</th>\n      <td>18.0</td>\n      <td>8</td>\n      <td>318.0</td>\n      <td>150.0</td>\n      <td>3436</td>\n      <td>11.0</td>\n      <td>70</td>\n      <td>usa</td>\n      <td>plymouth satellite</td>\n    </tr>\n    <tr>\n      <th>3</th>\n      <td>16.0</td>\n      <td>8</td>\n      <td>304.0</td>\n      <td>150.0</td>\n      <td>3433</td>\n      <td>12.0</td>\n      <td>70</td>\n      <td>usa</td>\n      <td>amc rebel sst</td>\n    </tr>\n    <tr>\n      <th>4</th>\n      <td>17.0</td>\n      <td>8</td>\n      <td>302.0</td>\n      <td>140.0</td>\n      <td>3449</td>\n      <td>10.5</td>\n      <td>70</td>\n      <td>usa</td>\n      <td>ford torino</td>\n    </tr>\n  </tbody>\n</table>\n</div>",
                        "text/plain": "    mpg  cylinders  displacement  horsepower  weight  acceleration  \\\n0  18.0          8         307.0       130.0    3504          12.0   \n1  15.0          8         350.0       165.0    3693          11.5   \n2  18.0          8         318.0       150.0    3436          11.0   \n3  16.0          8         304.0       150.0    3433          12.0   \n4  17.0          8         302.0       140.0    3449          10.5   \n\n   model_year origin                       name  \n0          70    usa  chevrolet chevelle malibu  \n1          70    usa          buick skylark 320  \n2          70    usa         plymouth satellite  \n3          70    usa              amc rebel sst  \n4          70    usa                ford torino  "
                    },
                    "execution_count": 6,
                    "metadata": {},
                    "output_type": "execute_result"
                }
            ],
            "source": "df.head()"
        },
        {
            "cell_type": "code",
            "execution_count": null,
            "metadata": {},
            "outputs": [],
            "source": ""
        }
    ],
    "metadata": {
        "kernelspec": {
            "display_name": "Python 3.8",
            "language": "python",
            "name": "python3"
        },
        "language_info": {
            "codemirror_mode": {
                "name": "ipython",
                "version": 3
            },
            "file_extension": ".py",
            "mimetype": "text/x-python",
            "name": "python",
            "nbconvert_exporter": "python",
            "pygments_lexer": "ipython3",
            "version": "3.8.11"
        }
    },
    "nbformat": 4,
    "nbformat_minor": 1
}